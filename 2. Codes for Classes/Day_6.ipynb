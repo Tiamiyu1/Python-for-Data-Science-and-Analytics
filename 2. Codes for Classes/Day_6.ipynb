{
  "nbformat": 4,
  "nbformat_minor": 0,
  "metadata": {
    "colab": {
      "name": "Day 6.ipynb",
      "provenance": [],
      "collapsed_sections": [],
      "authorship_tag": "ABX9TyMl0PFKW5sMp8sULKvYY3//",
      "include_colab_link": true
    },
    "kernelspec": {
      "name": "python3",
      "display_name": "Python 3"
    },
    "language_info": {
      "name": "python"
    }
  },
  "cells": [
    {
      "cell_type": "markdown",
      "metadata": {
        "id": "view-in-github",
        "colab_type": "text"
      },
      "source": [
        "<a href=\"https://colab.research.google.com/github/Tiamiyu1/Python-for-Data-Science-and-Analytics/blob/main/Classes/Day_6.ipynb\" target=\"_parent\"><img src=\"https://colab.research.google.com/assets/colab-badge.svg\" alt=\"Open In Colab\"/></a>"
      ]
    },
    {
      "cell_type": "markdown",
      "source": [
        "## Python function\n",
        "\n",
        "Nested dictionary\n"
      ],
      "metadata": {
        "id": "F9CngqrwYtqH"
      }
    },
    {
      "cell_type": "code",
      "source": [
        "dictt = {'studen1':\n",
        "         {'Name':'Ahmad', 'School': 'OAU', 'Department':'Microbiology', 'Age':24},\n",
        "         'studen2':\n",
        "         {'Name':'Kola', 'School': 'UI', 'Department':'Biochemistry', 'Age':25},\n",
        "         'studen3':\n",
        "         {'Name':'Bola', 'School': 'UNILAG', 'Department':'History', 'Age':28}}\n",
        "dictt"
      ],
      "metadata": {
        "id": "eGHWchbPaxsb",
        "colab": {
          "base_uri": "https://localhost:8080/"
        },
        "outputId": "4db64222-1cf7-499d-d7a5-d77f6c58f191"
      },
      "execution_count": 1,
      "outputs": [
        {
          "output_type": "execute_result",
          "data": {
            "text/plain": [
              "{'studen1': {'Age': 24,\n",
              "  'Department': 'Microbiology',\n",
              "  'Name': 'Ahmad',\n",
              "  'School': 'OAU'},\n",
              " 'studen2': {'Age': 25,\n",
              "  'Department': 'Biochemistry',\n",
              "  'Name': 'Kola',\n",
              "  'School': 'UI'},\n",
              " 'studen3': {'Age': 28,\n",
              "  'Department': 'History',\n",
              "  'Name': 'Bola',\n",
              "  'School': 'UNILAG'}}"
            ]
          },
          "metadata": {},
          "execution_count": 1
        }
      ]
    },
    {
      "cell_type": "code",
      "source": [
        ""
      ],
      "metadata": {
        "id": "eQ5KZNYt9Yua"
      },
      "execution_count": 1,
      "outputs": []
    },
    {
      "cell_type": "markdown",
      "source": [
        "## Python Function\n",
        "\n",
        "* A function is a block of code which only runs when it is called/invoked.\n",
        "\n",
        "* You can pass data, known as parameters, into a function.\n",
        "\n",
        "* A function can return data as a result.\n",
        "\n",
        "- Some built-in functions"
      ],
      "metadata": {
        "id": "FrOueGK4pRck"
      }
    },
    {
      "cell_type": "markdown",
      "source": [
        "Function definition - def keyword, function_name, colon, instruction(s)\n",
        "\n",
        "function - my_function\n",
        "\n",
        "Argument(s)/Parameter(s) - "
      ],
      "metadata": {
        "id": "UK0SHM84qF3e"
      }
    },
    {
      "cell_type": "code",
      "source": [
        "sum([2,3,4])"
      ],
      "metadata": {
        "colab": {
          "base_uri": "https://localhost:8080/"
        },
        "id": "rrmVt3uS-TKk",
        "outputId": "536fd61f-34b7-4017-ab3e-da96f8fadade"
      },
      "execution_count": 2,
      "outputs": [
        {
          "output_type": "execute_result",
          "data": {
            "text/plain": [
              "9"
            ]
          },
          "metadata": {},
          "execution_count": 2
        }
      ]
    },
    {
      "cell_type": "code",
      "source": [
        "def greet():\n",
        "  print('Hello!')"
      ],
      "metadata": {
        "id": "BA5eul7B-qv9"
      },
      "execution_count": 3,
      "outputs": []
    },
    {
      "cell_type": "markdown",
      "source": [
        "greet()"
      ],
      "metadata": {
        "id": "zuY9PR86-ivw"
      }
    },
    {
      "cell_type": "code",
      "source": [
        "def greet(name):\n",
        "  name = input('What is your name?')\n",
        "  print('Hello!', name)"
      ],
      "metadata": {
        "id": "beb5HryIDsWg"
      },
      "execution_count": 4,
      "outputs": []
    },
    {
      "cell_type": "code",
      "source": [
        "greet('Kola')"
      ],
      "metadata": {
        "colab": {
          "base_uri": "https://localhost:8080/"
        },
        "id": "-ri1tp2YDyJM",
        "outputId": "85f62e8d-eb64-4994-fdff-448ab72ff554"
      },
      "execution_count": 5,
      "outputs": [
        {
          "output_type": "stream",
          "name": "stdout",
          "text": [
            "What is your name?Tunde\n",
            "Hello! Tunde\n"
          ]
        }
      ]
    },
    {
      "cell_type": "code",
      "source": [
        "def greet(name):\n",
        "  print('Hello!', name)"
      ],
      "metadata": {
        "id": "R3gMFktU-9_D"
      },
      "execution_count": 6,
      "outputs": []
    },
    {
      "cell_type": "code",
      "source": [
        "greet('Tiamiyu')"
      ],
      "metadata": {
        "colab": {
          "base_uri": "https://localhost:8080/"
        },
        "id": "p7scHq6R_GMx",
        "outputId": "8daaa8ac-f090-43dd-b758-65cdcfb2c3b1"
      },
      "execution_count": 7,
      "outputs": [
        {
          "output_type": "stream",
          "name": "stdout",
          "text": [
            "Hello! Tiamiyu\n"
          ]
        }
      ]
    },
    {
      "cell_type": "code",
      "source": [
        "def greet(name='User'):\n",
        "  print('Hello!', name)\n",
        "\n",
        "greet()"
      ],
      "metadata": {
        "colab": {
          "base_uri": "https://localhost:8080/"
        },
        "id": "Yd-FGyZw_Own",
        "outputId": "8ee0c8e1-a5e7-4312-9abb-d2dde100bdf4"
      },
      "execution_count": 8,
      "outputs": [
        {
          "output_type": "stream",
          "name": "stdout",
          "text": [
            "Hello! User\n"
          ]
        }
      ]
    },
    {
      "cell_type": "code",
      "source": [
        "def add_up(a, b, c):\n",
        "  print(a+b+c)"
      ],
      "metadata": {
        "id": "ZvU3245x_mR2"
      },
      "execution_count": 19,
      "outputs": []
    },
    {
      "cell_type": "code",
      "source": [
        "add_up(2,3, 6)"
      ],
      "metadata": {
        "colab": {
          "base_uri": "https://localhost:8080/"
        },
        "id": "DPhJTkHJ_uFa",
        "outputId": "262595d4-a069-423f-87eb-c873d859676f"
      },
      "execution_count": 10,
      "outputs": [
        {
          "output_type": "stream",
          "name": "stdout",
          "text": [
            "11\n"
          ]
        }
      ]
    },
    {
      "cell_type": "code",
      "source": [
        "def add_up(a, b):\n",
        "  print(a**b)\n",
        "add_up(b=2, a=4)"
      ],
      "metadata": {
        "colab": {
          "base_uri": "https://localhost:8080/"
        },
        "id": "gM00if7mAL_k",
        "outputId": "ee106494-446a-4cd4-b836-2525097e4d40"
      },
      "execution_count": 18,
      "outputs": [
        {
          "output_type": "stream",
          "name": "stdout",
          "text": [
            "16\n"
          ]
        }
      ]
    },
    {
      "cell_type": "code",
      "source": [
        "def greet(name, classs='Part 1'):\n",
        "  print(\"Welcome \" + name + classs)\n",
        "\n",
        "greet('Tunde')"
      ],
      "metadata": {
        "colab": {
          "base_uri": "https://localhost:8080/"
        },
        "id": "TgcbDH8cAy0J",
        "outputId": "392d7449-407a-4af0-c0de-9ae76963c0f7"
      },
      "execution_count": 12,
      "outputs": [
        {
          "output_type": "stream",
          "name": "stdout",
          "text": [
            "Welcome TundePart 1\n"
          ]
        }
      ]
    },
    {
      "cell_type": "markdown",
      "source": [
        ""
      ],
      "metadata": {
        "id": "4zXVLeYLq2Gf"
      }
    },
    {
      "cell_type": "code",
      "source": [
        "add_up(3,4,6)"
      ],
      "metadata": {
        "colab": {
          "base_uri": "https://localhost:8080/"
        },
        "id": "WagWjPNRCnMz",
        "outputId": "1b010c23-ae19-4403-da22-8521edbc5cbb"
      },
      "execution_count": 20,
      "outputs": [
        {
          "output_type": "stream",
          "name": "stdout",
          "text": [
            "13\n"
          ]
        }
      ]
    },
    {
      "cell_type": "code",
      "source": [
        "def add_up(a, b, c):\n",
        "  # print(a+b+c)\n",
        "  return(a+b+c)"
      ],
      "metadata": {
        "id": "9B4depk7Cqv2"
      },
      "execution_count": 21,
      "outputs": []
    },
    {
      "cell_type": "code",
      "source": [
        "3 * add_up(4,3,2)"
      ],
      "metadata": {
        "colab": {
          "base_uri": "https://localhost:8080/"
        },
        "id": "U6Mkstz7C3nE",
        "outputId": "71c71daa-2b1f-4ad5-94da-a35954084592"
      },
      "execution_count": 22,
      "outputs": [
        {
          "output_type": "execute_result",
          "data": {
            "text/plain": [
              "27"
            ]
          },
          "metadata": {},
          "execution_count": 22
        }
      ]
    },
    {
      "cell_type": "code",
      "source": [
        "add_up(3,45,6)"
      ],
      "metadata": {
        "colab": {
          "base_uri": "https://localhost:8080/"
        },
        "id": "5faQU34QDQDx",
        "outputId": "c43297a2-98c6-42f4-b0dc-8ccef47924a2"
      },
      "execution_count": 23,
      "outputs": [
        {
          "output_type": "execute_result",
          "data": {
            "text/plain": [
              "54"
            ]
          },
          "metadata": {},
          "execution_count": 23
        }
      ]
    },
    {
      "cell_type": "code",
      "source": [
        "food_menu = ['Amala', 'Rice', 'Eba', 'Pizza', 'Couscous']\n",
        "choice = input('What would you like to eat? ')\n",
        "choice = choice.title()\n",
        "if choice in food_menu:\n",
        "  print('Yes')\n",
        "else:\n",
        "  print('No')"
      ],
      "metadata": {
        "colab": {
          "base_uri": "https://localhost:8080/"
        },
        "id": "Da6mmflfDcAi",
        "outputId": "41040ad3-977d-4c12-f6d2-622f3c46c35f"
      },
      "execution_count": 24,
      "outputs": [
        {
          "output_type": "stream",
          "name": "stdout",
          "text": [
            "What would you like to eat? rice\n",
            "Yes\n"
          ]
        }
      ]
    },
    {
      "cell_type": "code",
      "source": [
        "def weight_converter():\n",
        "  weight = float(input('Whats is your weight (kg)?'))\n",
        "  return (weight*1000)"
      ],
      "metadata": {
        "id": "LIE0s-23FNG_"
      },
      "execution_count": 25,
      "outputs": []
    },
    {
      "cell_type": "code",
      "source": [
        "weight_converter()"
      ],
      "metadata": {
        "colab": {
          "base_uri": "https://localhost:8080/"
        },
        "id": "kAAxtT_rG52G",
        "outputId": "abf2d715-16b5-4672-f997-cdc3dede6570"
      },
      "execution_count": 26,
      "outputs": [
        {
          "name": "stdout",
          "output_type": "stream",
          "text": [
            "Whats is your weight (kg)?34.6\n"
          ]
        },
        {
          "output_type": "execute_result",
          "data": {
            "text/plain": [
              "34600.0"
            ]
          },
          "metadata": {},
          "execution_count": 26
        }
      ]
    },
    {
      "cell_type": "code",
      "source": [
        ""
      ],
      "metadata": {
        "id": "sYnUxOehG76q"
      },
      "execution_count": null,
      "outputs": []
    }
  ]
}