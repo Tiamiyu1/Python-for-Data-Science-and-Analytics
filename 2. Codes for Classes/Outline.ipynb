{
 "cells": [
  {
   "cell_type": "markdown",
   "metadata": {},
   "source": [
    "# Python for Data Science & Analytics"
   ]
  },
  {
   "cell_type": "markdown",
   "metadata": {},
   "source": [
    "## Course Curicullum"
   ]
  },
  {
   "cell_type": "markdown",
   "metadata": {},
   "source": [
    "* Time table\n",
    "\n",
    "Saturday 09:00 - 10:00 pm (GMt +1)\n",
    "\n",
    "Sunday 09:00 - 10:00 pm (GMt +1)"
   ]
  },
  {
   "cell_type": "markdown",
   "metadata": {},
   "source": [
    "## Outline"
   ]
  },
  {
   "cell_type": "markdown",
   "metadata": {},
   "source": [
    "### 1. Introduction to Data Science\n",
    "\n",
    "1.2 Application\n",
    "\n",
    "1.3 Data Science tools\n",
    "\n",
    "\n",
    "### 2. Python Fundamentals\n",
    "\n",
    "\n",
    "1. Installation and environment set up - Libraries and packages\n",
    "\n",
    "2. Python Syntax - comment, multiline comm\n",
    "\n",
    "3. Python Variable - Naming, Multiple variable assignment, Local/Global variable\n",
    "\n",
    "4. Data Types - int, float, str, float,complex,  bool, - type conversion - random\n",
    "\n",
    "5. String - \"\" '' ulti-line str, slicing and indexing (-), modify(uppper, swapcase, title, low, strip, split, replace, Concatenation, Escape \", \\n, \\t, ', \\, formating, method - count, find, index, isdigit, strip, split,\n",
    "\n",
    "6. Boolean - >, ==, !=, \n",
    "\n",
    "7. Operators -  (arithmetic, assignment, comparision, logical)+, *2, /, *, -, %, //, and, or, \n",
    "\n",
    "8. List - indexing(-), slicing, check if an intem in list, change list element, sort, loop (for and while), list comp, append, insert, remove, pop, copy, join(append, +, extend),  clear, del, \n",
    "\n",
    "9. Tuple - \n",
    "\n",
    "10. Set- \n",
    "\n",
    "11. Dictionary - \n",
    "\n",
    "12. Conditional statement - if, while\n",
    "\n",
    "13. Function - paramater, argument\n",
    "\n",
    "* Quiz\n",
    "\n",
    "* Project\n",
    "\n",
    "## 3. Python for Data Analysis\n",
    "\n",
    "\n",
    "Array - numpy\n",
    "\n",
    "DataFrame - pandas - read files, write to files, \n",
    "\n",
    "Datetime series\n",
    "\n",
    "Join, merge, concatenate\n",
    "Groupby\n",
    "\n",
    "Scipy - \n",
    "\n",
    "**Visualization**\n",
    "\n",
    "Data Visualization - Matplotlib - Seaborn - pie, bar, line, scatter, histogram, label, title, figsize\n",
    "\n",
    "Data cleaning/Preprocessing - \n",
    "\n",
    "EDA - \n",
    "\n",
    "Quiz \n",
    "\n",
    "Project\n",
    "\n",
    "\n",
    "##  ~~Machine Learning Modeling with Python\n",
    "\n",
    "~~Surrvised Unsupervised, Semi and Reinforce~~\n",
    "\n",
    "~~EDA - feature eng, feat select, correlation, ~~\n",
    "\n",
    "~~Data Preprocessing~~\n",
    "\n",
    "~~Modeling~~\n",
    "\n",
    "~~Scoring~~\n",
    "\n",
    "~~Hyperparamater tunning~~\n",
    "\n",
    "~~Quiz ~~\n",
    "\n",
    "Project~~\n",
    "\n",
    "## Career Opporutnities\n",
    "\n",
    "Pick a niche\n",
    "\n",
    "Projects\n",
    "\n",
    "Collaborate\n",
    "\n",
    "Teach what you know - very importsnt\n",
    "\n",
    "Look up people in your niche/field and connect\n",
    "\n",
    "Digital footprint and optimization (Linkedin, twitter). Do not over exagerate\n",
    "\n",
    "Spread your work online (whatsApp, FB, others)\n"
   ]
  },
  {
   "cell_type": "markdown",
   "metadata": {},
   "source": [
    "## Project Ideas\n",
    "\n",
    "* Menu app for a resturant\n",
    "* Guess the number\n",
    "* Weight converter\n",
    "* BMI calculator\n",
    "* Data Viz and EDA of an online store\n",
    "\n",
    "~~* Students intelligence prediction/cancer prediction~~"
   ]
  },
  {
   "cell_type": "markdown",
   "metadata": {},
   "source": [
    "# Q&A\n",
    "\n",
    "- Would we eventually get internship opportunity? \n",
    "\n",
    "- Are the selected days flexible or fixed? Is this program under a university or personal?\n",
    "\n",
    "- \n"
   ]
  },
  {
   "cell_type": "code",
   "execution_count": 1,
   "metadata": {},
   "outputs": [
    {
     "name": "stdout",
     "output_type": "stream",
     "text": [
      "Hello\n"
     ]
    }
   ],
   "source": [
    "print(\"Hello\")"
   ]
  },
  {
   "cell_type": "code",
   "execution_count": null,
   "metadata": {},
   "outputs": [],
   "source": [
    "2+2"
   ]
  },
  {
   "cell_type": "code",
   "execution_count": null,
   "metadata": {},
   "outputs": [],
   "source": []
  }
 ],
 "metadata": {
  "kernelspec": {
   "display_name": "Python 3",
   "language": "python",
   "name": "python3"
  },
  "language_info": {
   "codemirror_mode": {
    "name": "ipython",
    "version": 3
   },
   "file_extension": ".py",
   "mimetype": "text/x-python",
   "name": "python",
   "nbconvert_exporter": "python",
   "pygments_lexer": "ipython3",
   "version": "3.7.4"
  }
 },
 "nbformat": 4,
 "nbformat_minor": 2
}
