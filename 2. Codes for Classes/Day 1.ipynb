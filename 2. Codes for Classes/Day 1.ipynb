{
 "cells": [
  {
   "cell_type": "markdown",
   "metadata": {},
   "source": [
    "# Python for Data Science & Analytics - Day 1"
   ]
  },
  {
   "cell_type": "markdown",
   "metadata": {},
   "source": [
    "## Introduction\n",
    "\n",
    "Name: Abdulwasiu Tiamiyu\n",
    "\n",
    "Dept/School: MCB/OAU\n",
    "\n",
    "Why tech/Data science?\n",
    "\n"
   ]
  },
  {
   "cell_type": "markdown",
   "metadata": {},
   "source": []
  },
  {
   "cell_type": "markdown",
   "metadata": {},
   "source": [
    "## 1. Introduction to Data Science\n",
    "\n",
    "“Data” is the raw form of information, it’s an universal language\n",
    "\n",
    "According to Oracle, data science combines multiple fields, including statistics, scientific methods, artificial intelligence (AI), and data analysis, to extract value from data. It encompasses preparing data for analysis, including cleansing, aggregating, and manipulating the data to perform advanced data analysis.\n",
    "\n",
    "\n",
    "“A data scientist is a statistician who lives in San Francisco”.\n",
    "\n",
    "\n",
    "\"A data scientist is someone who is better at statistics than any software engineer and better at software engineering than any statistician\""
   ]
  },
  {
   "cell_type": "markdown",
   "metadata": {},
   "source": [
    "<img src=\"Hierac.png\" width=\"500\" height=\"300\">"
   ]
  },
  {
   "cell_type": "markdown",
   "metadata": {},
   "source": [
    "### Data Pipeline\n",
    "\n",
    "Collect\n",
    "\n",
    "Preprocess\n",
    "\n",
    "Model \n",
    "\n",
    "Evaluate"
   ]
  },
  {
   "cell_type": "markdown",
   "metadata": {},
   "source": [
    "<img src=\"pipeline.png\" width=\"500\" height=\"300\">"
   ]
  },
  {
   "cell_type": "markdown",
   "metadata": {},
   "source": []
  },
  {
   "cell_type": "markdown",
   "metadata": {},
   "source": [
    "## 1.2 Data Science tools"
   ]
  },
  {
   "cell_type": "markdown",
   "metadata": {},
   "source": [
    "### Languages\n",
    "\n",
    "Python, R, SQL, Js, Java, Matlab, C/C++, ....\n",
    "\n",
    "\n",
    "### Python Libraries \n",
    "\n",
    "numpy, pandas, scipy, scikit learn,matplotlib, seaborn,  pytorch, tensor flow - colab - GitHub - Stack Overflow\n",
    "\n",
    "\n",
    "### Dashboard\n",
    "\n",
    "Excel - Tableau - PowerBI"
   ]
  },
  {
   "cell_type": "markdown",
   "metadata": {},
   "source": [
    "### Why Python?\n",
    "\n",
    "Python is a popular high-level programming language used mainly for data science, automation, web development, and Artificial Intelligence. It is a general-purpose programming language supporting functional programming, object-oriented programming, and procedural programming. Over the years, Python is known to be the best programming language for data science, and it is commonly used by big tech companies for data science tasks.\n",
    "\n",
    "Python has a very simple syntax, and it makes programming a lot easier and faster. \n",
    "\n",
    "Data Science is one complex field you can’t do without needing any help. Python offers all the help you need through its wide community.\n",
    "\n",
    "Python Offers All the Libraries."
   ]
  },
  {
   "cell_type": "markdown",
   "metadata": {},
   "source": [
    "## 1.3 Application\n",
    "\n"
   ]
  },
  {
   "cell_type": "markdown",
   "metadata": {},
   "source": [
    "Data science is applicable in different industries, and it's helping to solve problems and discover more about the universe. In the health industry, data science helps doctors to make use of past data in making decisions, for example, diagnosis, or the right treatment for a disease. The education sector is not left out, you can now predict students dropping out of school, all thanks to data science.\n",
    "\n",
    "More fields - f, ad, nlp (speech recg, translation, speach to text), image recg,.\n",
    "\n",
    "Health - Medical image analysis, drug discovery, Genomics, \n",
    "\n",
    "Finance - Fraud detection, loan default, \n",
    "\n",
    "Education - Program completion, \n",
    "\n",
    "NLP - chatbots, VA, speech rec, translation\n",
    "\n",
    "Autonomous Vehicle -\n",
    "\n",
    "Gaming - \n",
    "\n",
    "AR/VR - Metaverse"
   ]
  },
  {
   "cell_type": "markdown",
   "metadata": {},
   "source": [
    "* DS - ML - DL"
   ]
  },
  {
   "cell_type": "code",
   "execution_count": null,
   "metadata": {},
   "outputs": [],
   "source": []
  },
  {
   "cell_type": "markdown",
   "metadata": {},
   "source": [
    "### 2. Python for Data Science\n",
    "* Python Fundamentals\n",
    "\n",
    "1. Installation and environment set up - Libraries and packages\n",
    "\n",
    "2. Python Syntax - comment, multiline comm\n",
    "\n",
    "3. Python Variable - Naming, Multiple variable assignment, Local/Global variable\n",
    "\n",
    "4. Data Types - int, float, str, float,complex,  bool, - type conversion - random\n",
    "\n",
    "5. String - \"\" ''  multi-line str, slicicng and indexing (-), modify(uppper, low, strip, split, replace, Concatenation, Escape formating, \n",
    "\n",
    "6. Boolean - >, ==, !=, \n",
    "\n",
    "7. Operators -  (arithmetic, assignment, comparision, logical)+, *2, /, *, -, %, //, and, or, "
   ]
  },
  {
   "cell_type": "code",
   "execution_count": null,
   "metadata": {},
   "outputs": [],
   "source": []
  }
 ],
 "metadata": {
  "kernelspec": {
   "display_name": "Python 3",
   "language": "python",
   "name": "python3"
  },
  "language_info": {
   "codemirror_mode": {
    "name": "ipython",
    "version": 3
   },
   "file_extension": ".py",
   "mimetype": "text/x-python",
   "name": "python",
   "nbconvert_exporter": "python",
   "pygments_lexer": "ipython3",
   "version": "3.7.4"
  }
 },
 "nbformat": 4,
 "nbformat_minor": 2
}
