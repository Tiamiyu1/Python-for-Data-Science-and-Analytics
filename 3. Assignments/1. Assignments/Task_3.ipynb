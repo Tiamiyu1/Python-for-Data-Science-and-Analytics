{
  "cells": [
    {
      "cell_type": "markdown",
      "metadata": {
        "id": "view-in-github",
        "colab_type": "text"
      },
      "source": [
        "<a href=\"https://colab.research.google.com/github/Tiamiyu1/Python-for-Data-Science-and-Analytics/blob/main/Assignment/Task_3.ipynb\" target=\"_parent\"><img src=\"https://colab.research.google.com/assets/colab-badge.svg\" alt=\"Open In Colab\"/></a>"
      ]
    },
    {
      "cell_type": "markdown",
      "metadata": {
        "id": "KNmSdjmXN2Sy"
      },
      "source": [
        "# Task 3\n",
        "\n",
        "## Reg_no: DS000"
      ]
    },
    {
      "cell_type": "markdown",
      "metadata": {
        "id": "UEw83ZnfN2TD"
      },
      "source": [
        "### 1. Guess Number Game\n",
        "\n",
        "Write a python program that generates a random integer between 1 and 100. The progam asks user to guess the random number, lets the user know if the guess is greater or lesser than the random number so that the user can adjust as appropriate. The program only terminates when the correct number is guessed.\n",
        "\n",
        "\n",
        "Optional: Inlude a variable to tell the user how many attempts he made before guessing correctly."
      ]
    },
    {
      "cell_type": "code",
      "source": [
        ""
      ],
      "metadata": {
        "id": "qx3JyH7fMwKS"
      },
      "execution_count": null,
      "outputs": []
    },
    {
      "cell_type": "markdown",
      "source": [
        "### 2. BMI Converter\n",
        "\n",
        "Write a python function that asks users for their height (m) and weight(kg).\n",
        "The function should return the BMI of the user.\n",
        "\n",
        "Note: No need to include any parameter in the function."
      ],
      "metadata": {
        "id": "Mc89CR1kT2Ma"
      }
    },
    {
      "cell_type": "code",
      "source": [
        ""
      ],
      "metadata": {
        "id": "PmboVCoNXsxD"
      },
      "execution_count": null,
      "outputs": []
    }
  ],
  "metadata": {
    "kernelspec": {
      "display_name": "Python 3",
      "language": "python",
      "name": "python3"
    },
    "language_info": {
      "codemirror_mode": {
        "name": "ipython",
        "version": 3
      },
      "file_extension": ".py",
      "mimetype": "text/x-python",
      "name": "python",
      "nbconvert_exporter": "python",
      "pygments_lexer": "ipython3",
      "version": "3.7.4"
    },
    "colab": {
      "name": "Task 3.ipynb",
      "provenance": [],
      "collapsed_sections": [],
      "include_colab_link": true
    }
  },
  "nbformat": 4,
  "nbformat_minor": 0
}