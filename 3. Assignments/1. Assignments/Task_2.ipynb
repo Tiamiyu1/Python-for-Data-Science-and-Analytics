{
  "cells": [
    {
      "cell_type": "markdown",
      "metadata": {
        "id": "view-in-github",
        "colab_type": "text"
      },
      "source": [
        "<a href=\"https://colab.research.google.com/github/Tiamiyu1/Python-for-Data-Science-and-Analytics/blob/main/Assignment/Task_2.ipynb\" target=\"_parent\"><img src=\"https://colab.research.google.com/assets/colab-badge.svg\" alt=\"Open In Colab\"/></a>"
      ]
    },
    {
      "cell_type": "markdown",
      "metadata": {
        "id": "KNmSdjmXN2Sy"
      },
      "source": [
        "# Task 2\n",
        "\n",
        "## Reg_no: DS000"
      ]
    },
    {
      "cell_type": "markdown",
      "metadata": {
        "id": "UEw83ZnfN2TD"
      },
      "source": [
        "### 1. Student Grade\n",
        "\n",
        "#### Write a python program that asks students for their score and grades them according to the input score.\n",
        "\n",
        "The program should print A (\"Your grade is A\") if a student score between 70 and 100, B if the score is between 60 and 69, C if the score is between 50 and 59, D if the score is between 45 and 49, E if the score is betwwen 40 and 44, \n",
        "F if the score is between 0 and 39.\n",
        "\n",
        "If a score above 100 is entered the program should give a warning (\"Invalid! enter a numerical value between 1 and 100\")"
      ]
    },
    {
      "cell_type": "code",
      "source": [
        ""
      ],
      "metadata": {
        "id": "qx3JyH7fMwKS"
      },
      "execution_count": null,
      "outputs": []
    },
    {
      "cell_type": "markdown",
      "source": [
        "## 2. Food Menu\n",
        "\n",
        "Write a python program that asks for customer's choice of food and tells if the food is available or not\n",
        "\n",
        "\n",
        "Hint: first create a menu list that contains all available foods, \n",
        "then loop through the list to check if the choice is available or not.\n",
        "\n",
        "If available, tell the customer (You've made a good choice, your order will be ready soon). \n",
        "If not available, tell the customer (Sorry, we do not have this for now. We hope to serve you next time)"
      ],
      "metadata": {
        "id": "nqlgPvsRSO8U"
      }
    },
    {
      "cell_type": "code",
      "source": [
        ""
      ],
      "metadata": {
        "id": "Mc89CR1kT2Ma"
      },
      "execution_count": null,
      "outputs": []
    }
  ],
  "metadata": {
    "kernelspec": {
      "display_name": "Python 3",
      "language": "python",
      "name": "python3"
    },
    "language_info": {
      "codemirror_mode": {
        "name": "ipython",
        "version": 3
      },
      "file_extension": ".py",
      "mimetype": "text/x-python",
      "name": "python",
      "nbconvert_exporter": "python",
      "pygments_lexer": "ipython3",
      "version": "3.7.4"
    },
    "colab": {
      "name": "Task 2.ipynb",
      "provenance": [],
      "collapsed_sections": [],
      "include_colab_link": true
    }
  },
  "nbformat": 4,
  "nbformat_minor": 0
}