{
  "nbformat": 4,
  "nbformat_minor": 0,
  "metadata": {
    "colab": {
      "name": "Day 14.ipynb",
      "provenance": [],
      "collapsed_sections": [],
      "authorship_tag": "ABX9TyONKwZbZa0KF6aA0BjcAo6D",
      "include_colab_link": true
    },
    "kernelspec": {
      "name": "python3",
      "display_name": "Python 3"
    },
    "language_info": {
      "name": "python"
    }
  },
  "cells": [
    {
      "cell_type": "markdown",
      "metadata": {
        "id": "view-in-github",
        "colab_type": "text"
      },
      "source": [
        "<a href=\"https://colab.research.google.com/github/Tiamiyu1/Python-for-Data-Science-and-Analytics/blob/main/Classes/Day_14.ipynb\" target=\"_parent\"><img src=\"https://colab.research.google.com/assets/colab-badge.svg\" alt=\"Open In Colab\"/></a>"
      ]
    },
    {
      "cell_type": "markdown",
      "source": [
        "# Data Analytics Approach (steps)"
      ],
      "metadata": {
        "id": "8Brpb1RptSSa"
      }
    },
    {
      "cell_type": "markdown",
      "source": [
        "## Importing Libraries"
      ],
      "metadata": {
        "id": "b9Q7fkvKTZ9U"
      }
    },
    {
      "cell_type": "code",
      "source": [
        "import numpy as np\n",
        "import pandas as pd\n",
        "import matplotlib.pyplot as plt\n",
        "%matplotlib inline\n",
        "import seaborn as sns\n",
        "sns.set_style('darkgrid')\n",
        "\n",
        "import warnings\n",
        "warnings.filterwarnings('ignore')"
      ],
      "metadata": {
        "id": "Dby0laSxTeDB"
      },
      "execution_count": 1,
      "outputs": []
    },
    {
      "cell_type": "markdown",
      "source": [
        "## Read the Dataset"
      ],
      "metadata": {
        "id": "ZnFoRFUaTgO4"
      }
    },
    {
      "cell_type": "code",
      "source": [
        "data = pd.read_csv('https://raw.githubusercontent.com/Tiamiyu1/Python-for-Data-Science-and-Analytics/main/Data/supermarket_data.csv')"
      ],
      "metadata": {
        "id": "P4pW50_hbntX"
      },
      "execution_count": 2,
      "outputs": []
    },
    {
      "cell_type": "markdown",
      "source": [
        "## Data Description"
      ],
      "metadata": {
        "id": "PA-yStZXTngj"
      }
    },
    {
      "cell_type": "code",
      "source": [
        "data.info()"
      ],
      "metadata": {
        "id": "Y0_MjXXOTrPb",
        "colab": {
          "base_uri": "https://localhost:8080/"
        },
        "outputId": "66166067-3d31-46fd-952f-2ab07a26b879"
      },
      "execution_count": 3,
      "outputs": [
        {
          "output_type": "stream",
          "name": "stdout",
          "text": [
            "<class 'pandas.core.frame.DataFrame'>\n",
            "RangeIndex: 1000 entries, 0 to 999\n",
            "Data columns (total 17 columns):\n",
            " #   Column                   Non-Null Count  Dtype  \n",
            "---  ------                   --------------  -----  \n",
            " 0   Invoice ID               1000 non-null   object \n",
            " 1   Branch                   1000 non-null   object \n",
            " 2   City                     1000 non-null   object \n",
            " 3   Customer type            1000 non-null   object \n",
            " 4   Gender                   1000 non-null   object \n",
            " 5   Product line             1000 non-null   object \n",
            " 6   Unit price               1000 non-null   float64\n",
            " 7   Quantity                 1000 non-null   int64  \n",
            " 8   Tax 5%                   1000 non-null   float64\n",
            " 9   Total                    1000 non-null   float64\n",
            " 10  Date                     1000 non-null   object \n",
            " 11  Time                     1000 non-null   object \n",
            " 12  Payment                  1000 non-null   object \n",
            " 13  cogs                     1000 non-null   float64\n",
            " 14  gross margin percentage  1000 non-null   float64\n",
            " 15  gross income             1000 non-null   float64\n",
            " 16  Rating                   1000 non-null   float64\n",
            "dtypes: float64(7), int64(1), object(9)\n",
            "memory usage: 132.9+ KB\n"
          ]
        }
      ]
    },
    {
      "cell_type": "markdown",
      "source": [
        "The data has 1000 entries with 17 variables\n",
        "\n",
        "\n",
        "All the columns are completely filled (no null value)"
      ],
      "metadata": {
        "id": "EDr1EB4OeEtN"
      }
    },
    {
      "cell_type": "code",
      "source": [
        "data.head(3)"
      ],
      "metadata": {
        "id": "QiPc7LXyTuQ5",
        "colab": {
          "base_uri": "https://localhost:8080/",
          "height": 295
        },
        "outputId": "c7e28217-a346-46e6-e2e3-704fc64a7c81"
      },
      "execution_count": 4,
      "outputs": [
        {
          "output_type": "execute_result",
          "data": {
            "text/plain": [
              "    Invoice ID Branch       City Customer type  Gender  \\\n",
              "0  750-67-8428      A     Yangon        Member  Female   \n",
              "1  226-31-3081      C  Naypyitaw        Normal  Female   \n",
              "2  631-41-3108      A     Yangon        Normal    Male   \n",
              "\n",
              "             Product line  Unit price  Quantity   Tax 5%     Total      Date  \\\n",
              "0       Health and beauty       74.69         7  26.1415  548.9715  1/5/2019   \n",
              "1  Electronic accessories       15.28         5   3.8200   80.2200  3/8/2019   \n",
              "2      Home and lifestyle       46.33         7  16.2155  340.5255  3/3/2019   \n",
              "\n",
              "    Time      Payment    cogs  gross margin percentage  gross income  Rating  \n",
              "0  13:08      Ewallet  522.83                 4.761905       26.1415     9.1  \n",
              "1  10:29         Cash   76.40                 4.761905        3.8200     9.6  \n",
              "2  13:23  Credit card  324.31                 4.761905       16.2155     7.4  "
            ],
            "text/html": [
              "\n",
              "  <div id=\"df-8a65b306-dd6b-4292-8e7b-bff73cca72d1\">\n",
              "    <div class=\"colab-df-container\">\n",
              "      <div>\n",
              "<style scoped>\n",
              "    .dataframe tbody tr th:only-of-type {\n",
              "        vertical-align: middle;\n",
              "    }\n",
              "\n",
              "    .dataframe tbody tr th {\n",
              "        vertical-align: top;\n",
              "    }\n",
              "\n",
              "    .dataframe thead th {\n",
              "        text-align: right;\n",
              "    }\n",
              "</style>\n",
              "<table border=\"1\" class=\"dataframe\">\n",
              "  <thead>\n",
              "    <tr style=\"text-align: right;\">\n",
              "      <th></th>\n",
              "      <th>Invoice ID</th>\n",
              "      <th>Branch</th>\n",
              "      <th>City</th>\n",
              "      <th>Customer type</th>\n",
              "      <th>Gender</th>\n",
              "      <th>Product line</th>\n",
              "      <th>Unit price</th>\n",
              "      <th>Quantity</th>\n",
              "      <th>Tax 5%</th>\n",
              "      <th>Total</th>\n",
              "      <th>Date</th>\n",
              "      <th>Time</th>\n",
              "      <th>Payment</th>\n",
              "      <th>cogs</th>\n",
              "      <th>gross margin percentage</th>\n",
              "      <th>gross income</th>\n",
              "      <th>Rating</th>\n",
              "    </tr>\n",
              "  </thead>\n",
              "  <tbody>\n",
              "    <tr>\n",
              "      <th>0</th>\n",
              "      <td>750-67-8428</td>\n",
              "      <td>A</td>\n",
              "      <td>Yangon</td>\n",
              "      <td>Member</td>\n",
              "      <td>Female</td>\n",
              "      <td>Health and beauty</td>\n",
              "      <td>74.69</td>\n",
              "      <td>7</td>\n",
              "      <td>26.1415</td>\n",
              "      <td>548.9715</td>\n",
              "      <td>1/5/2019</td>\n",
              "      <td>13:08</td>\n",
              "      <td>Ewallet</td>\n",
              "      <td>522.83</td>\n",
              "      <td>4.761905</td>\n",
              "      <td>26.1415</td>\n",
              "      <td>9.1</td>\n",
              "    </tr>\n",
              "    <tr>\n",
              "      <th>1</th>\n",
              "      <td>226-31-3081</td>\n",
              "      <td>C</td>\n",
              "      <td>Naypyitaw</td>\n",
              "      <td>Normal</td>\n",
              "      <td>Female</td>\n",
              "      <td>Electronic accessories</td>\n",
              "      <td>15.28</td>\n",
              "      <td>5</td>\n",
              "      <td>3.8200</td>\n",
              "      <td>80.2200</td>\n",
              "      <td>3/8/2019</td>\n",
              "      <td>10:29</td>\n",
              "      <td>Cash</td>\n",
              "      <td>76.40</td>\n",
              "      <td>4.761905</td>\n",
              "      <td>3.8200</td>\n",
              "      <td>9.6</td>\n",
              "    </tr>\n",
              "    <tr>\n",
              "      <th>2</th>\n",
              "      <td>631-41-3108</td>\n",
              "      <td>A</td>\n",
              "      <td>Yangon</td>\n",
              "      <td>Normal</td>\n",
              "      <td>Male</td>\n",
              "      <td>Home and lifestyle</td>\n",
              "      <td>46.33</td>\n",
              "      <td>7</td>\n",
              "      <td>16.2155</td>\n",
              "      <td>340.5255</td>\n",
              "      <td>3/3/2019</td>\n",
              "      <td>13:23</td>\n",
              "      <td>Credit card</td>\n",
              "      <td>324.31</td>\n",
              "      <td>4.761905</td>\n",
              "      <td>16.2155</td>\n",
              "      <td>7.4</td>\n",
              "    </tr>\n",
              "  </tbody>\n",
              "</table>\n",
              "</div>\n",
              "      <button class=\"colab-df-convert\" onclick=\"convertToInteractive('df-8a65b306-dd6b-4292-8e7b-bff73cca72d1')\"\n",
              "              title=\"Convert this dataframe to an interactive table.\"\n",
              "              style=\"display:none;\">\n",
              "        \n",
              "  <svg xmlns=\"http://www.w3.org/2000/svg\" height=\"24px\"viewBox=\"0 0 24 24\"\n",
              "       width=\"24px\">\n",
              "    <path d=\"M0 0h24v24H0V0z\" fill=\"none\"/>\n",
              "    <path d=\"M18.56 5.44l.94 2.06.94-2.06 2.06-.94-2.06-.94-.94-2.06-.94 2.06-2.06.94zm-11 1L8.5 8.5l.94-2.06 2.06-.94-2.06-.94L8.5 2.5l-.94 2.06-2.06.94zm10 10l.94 2.06.94-2.06 2.06-.94-2.06-.94-.94-2.06-.94 2.06-2.06.94z\"/><path d=\"M17.41 7.96l-1.37-1.37c-.4-.4-.92-.59-1.43-.59-.52 0-1.04.2-1.43.59L10.3 9.45l-7.72 7.72c-.78.78-.78 2.05 0 2.83L4 21.41c.39.39.9.59 1.41.59.51 0 1.02-.2 1.41-.59l7.78-7.78 2.81-2.81c.8-.78.8-2.07 0-2.86zM5.41 20L4 18.59l7.72-7.72 1.47 1.35L5.41 20z\"/>\n",
              "  </svg>\n",
              "      </button>\n",
              "      \n",
              "  <style>\n",
              "    .colab-df-container {\n",
              "      display:flex;\n",
              "      flex-wrap:wrap;\n",
              "      gap: 12px;\n",
              "    }\n",
              "\n",
              "    .colab-df-convert {\n",
              "      background-color: #E8F0FE;\n",
              "      border: none;\n",
              "      border-radius: 50%;\n",
              "      cursor: pointer;\n",
              "      display: none;\n",
              "      fill: #1967D2;\n",
              "      height: 32px;\n",
              "      padding: 0 0 0 0;\n",
              "      width: 32px;\n",
              "    }\n",
              "\n",
              "    .colab-df-convert:hover {\n",
              "      background-color: #E2EBFA;\n",
              "      box-shadow: 0px 1px 2px rgba(60, 64, 67, 0.3), 0px 1px 3px 1px rgba(60, 64, 67, 0.15);\n",
              "      fill: #174EA6;\n",
              "    }\n",
              "\n",
              "    [theme=dark] .colab-df-convert {\n",
              "      background-color: #3B4455;\n",
              "      fill: #D2E3FC;\n",
              "    }\n",
              "\n",
              "    [theme=dark] .colab-df-convert:hover {\n",
              "      background-color: #434B5C;\n",
              "      box-shadow: 0px 1px 3px 1px rgba(0, 0, 0, 0.15);\n",
              "      filter: drop-shadow(0px 1px 2px rgba(0, 0, 0, 0.3));\n",
              "      fill: #FFFFFF;\n",
              "    }\n",
              "  </style>\n",
              "\n",
              "      <script>\n",
              "        const buttonEl =\n",
              "          document.querySelector('#df-8a65b306-dd6b-4292-8e7b-bff73cca72d1 button.colab-df-convert');\n",
              "        buttonEl.style.display =\n",
              "          google.colab.kernel.accessAllowed ? 'block' : 'none';\n",
              "\n",
              "        async function convertToInteractive(key) {\n",
              "          const element = document.querySelector('#df-8a65b306-dd6b-4292-8e7b-bff73cca72d1');\n",
              "          const dataTable =\n",
              "            await google.colab.kernel.invokeFunction('convertToInteractive',\n",
              "                                                     [key], {});\n",
              "          if (!dataTable) return;\n",
              "\n",
              "          const docLinkHtml = 'Like what you see? Visit the ' +\n",
              "            '<a target=\"_blank\" href=https://colab.research.google.com/notebooks/data_table.ipynb>data table notebook</a>'\n",
              "            + ' to learn more about interactive tables.';\n",
              "          element.innerHTML = '';\n",
              "          dataTable['output_type'] = 'display_data';\n",
              "          await google.colab.output.renderOutput(dataTable, element);\n",
              "          const docLink = document.createElement('div');\n",
              "          docLink.innerHTML = docLinkHtml;\n",
              "          element.appendChild(docLink);\n",
              "        }\n",
              "      </script>\n",
              "    </div>\n",
              "  </div>\n",
              "  "
            ]
          },
          "metadata": {},
          "execution_count": 4
        }
      ]
    },
    {
      "cell_type": "code",
      "source": [
        "data.describe().T"
      ],
      "metadata": {
        "id": "BDdLW4YtTvkI",
        "colab": {
          "base_uri": "https://localhost:8080/",
          "height": 300
        },
        "outputId": "8d847b58-6de0-467b-d827-30d095e309df"
      },
      "execution_count": 5,
      "outputs": [
        {
          "output_type": "execute_result",
          "data": {
            "text/plain": [
              "                          count        mean           std        min  \\\n",
              "Unit price               1000.0   55.672130  2.649463e+01  10.080000   \n",
              "Quantity                 1000.0    5.510000  2.923431e+00   1.000000   \n",
              "Tax 5%                   1000.0   15.379369  1.170883e+01   0.508500   \n",
              "Total                    1000.0  322.966749  2.458853e+02  10.678500   \n",
              "cogs                     1000.0  307.587380  2.341765e+02  10.170000   \n",
              "gross margin percentage  1000.0    4.761905  6.131498e-14   4.761905   \n",
              "gross income             1000.0   15.379369  1.170883e+01   0.508500   \n",
              "Rating                   1000.0    6.972700  1.718580e+00   4.000000   \n",
              "\n",
              "                                25%         50%         75%          max  \n",
              "Unit price                32.875000   55.230000   77.935000    99.960000  \n",
              "Quantity                   3.000000    5.000000    8.000000    10.000000  \n",
              "Tax 5%                     5.924875   12.088000   22.445250    49.650000  \n",
              "Total                    124.422375  253.848000  471.350250  1042.650000  \n",
              "cogs                     118.497500  241.760000  448.905000   993.000000  \n",
              "gross margin percentage    4.761905    4.761905    4.761905     4.761905  \n",
              "gross income               5.924875   12.088000   22.445250    49.650000  \n",
              "Rating                     5.500000    7.000000    8.500000    10.000000  "
            ],
            "text/html": [
              "\n",
              "  <div id=\"df-b0bb726f-6bc4-4456-9a1d-6b240ebc428d\">\n",
              "    <div class=\"colab-df-container\">\n",
              "      <div>\n",
              "<style scoped>\n",
              "    .dataframe tbody tr th:only-of-type {\n",
              "        vertical-align: middle;\n",
              "    }\n",
              "\n",
              "    .dataframe tbody tr th {\n",
              "        vertical-align: top;\n",
              "    }\n",
              "\n",
              "    .dataframe thead th {\n",
              "        text-align: right;\n",
              "    }\n",
              "</style>\n",
              "<table border=\"1\" class=\"dataframe\">\n",
              "  <thead>\n",
              "    <tr style=\"text-align: right;\">\n",
              "      <th></th>\n",
              "      <th>count</th>\n",
              "      <th>mean</th>\n",
              "      <th>std</th>\n",
              "      <th>min</th>\n",
              "      <th>25%</th>\n",
              "      <th>50%</th>\n",
              "      <th>75%</th>\n",
              "      <th>max</th>\n",
              "    </tr>\n",
              "  </thead>\n",
              "  <tbody>\n",
              "    <tr>\n",
              "      <th>Unit price</th>\n",
              "      <td>1000.0</td>\n",
              "      <td>55.672130</td>\n",
              "      <td>2.649463e+01</td>\n",
              "      <td>10.080000</td>\n",
              "      <td>32.875000</td>\n",
              "      <td>55.230000</td>\n",
              "      <td>77.935000</td>\n",
              "      <td>99.960000</td>\n",
              "    </tr>\n",
              "    <tr>\n",
              "      <th>Quantity</th>\n",
              "      <td>1000.0</td>\n",
              "      <td>5.510000</td>\n",
              "      <td>2.923431e+00</td>\n",
              "      <td>1.000000</td>\n",
              "      <td>3.000000</td>\n",
              "      <td>5.000000</td>\n",
              "      <td>8.000000</td>\n",
              "      <td>10.000000</td>\n",
              "    </tr>\n",
              "    <tr>\n",
              "      <th>Tax 5%</th>\n",
              "      <td>1000.0</td>\n",
              "      <td>15.379369</td>\n",
              "      <td>1.170883e+01</td>\n",
              "      <td>0.508500</td>\n",
              "      <td>5.924875</td>\n",
              "      <td>12.088000</td>\n",
              "      <td>22.445250</td>\n",
              "      <td>49.650000</td>\n",
              "    </tr>\n",
              "    <tr>\n",
              "      <th>Total</th>\n",
              "      <td>1000.0</td>\n",
              "      <td>322.966749</td>\n",
              "      <td>2.458853e+02</td>\n",
              "      <td>10.678500</td>\n",
              "      <td>124.422375</td>\n",
              "      <td>253.848000</td>\n",
              "      <td>471.350250</td>\n",
              "      <td>1042.650000</td>\n",
              "    </tr>\n",
              "    <tr>\n",
              "      <th>cogs</th>\n",
              "      <td>1000.0</td>\n",
              "      <td>307.587380</td>\n",
              "      <td>2.341765e+02</td>\n",
              "      <td>10.170000</td>\n",
              "      <td>118.497500</td>\n",
              "      <td>241.760000</td>\n",
              "      <td>448.905000</td>\n",
              "      <td>993.000000</td>\n",
              "    </tr>\n",
              "    <tr>\n",
              "      <th>gross margin percentage</th>\n",
              "      <td>1000.0</td>\n",
              "      <td>4.761905</td>\n",
              "      <td>6.131498e-14</td>\n",
              "      <td>4.761905</td>\n",
              "      <td>4.761905</td>\n",
              "      <td>4.761905</td>\n",
              "      <td>4.761905</td>\n",
              "      <td>4.761905</td>\n",
              "    </tr>\n",
              "    <tr>\n",
              "      <th>gross income</th>\n",
              "      <td>1000.0</td>\n",
              "      <td>15.379369</td>\n",
              "      <td>1.170883e+01</td>\n",
              "      <td>0.508500</td>\n",
              "      <td>5.924875</td>\n",
              "      <td>12.088000</td>\n",
              "      <td>22.445250</td>\n",
              "      <td>49.650000</td>\n",
              "    </tr>\n",
              "    <tr>\n",
              "      <th>Rating</th>\n",
              "      <td>1000.0</td>\n",
              "      <td>6.972700</td>\n",
              "      <td>1.718580e+00</td>\n",
              "      <td>4.000000</td>\n",
              "      <td>5.500000</td>\n",
              "      <td>7.000000</td>\n",
              "      <td>8.500000</td>\n",
              "      <td>10.000000</td>\n",
              "    </tr>\n",
              "  </tbody>\n",
              "</table>\n",
              "</div>\n",
              "      <button class=\"colab-df-convert\" onclick=\"convertToInteractive('df-b0bb726f-6bc4-4456-9a1d-6b240ebc428d')\"\n",
              "              title=\"Convert this dataframe to an interactive table.\"\n",
              "              style=\"display:none;\">\n",
              "        \n",
              "  <svg xmlns=\"http://www.w3.org/2000/svg\" height=\"24px\"viewBox=\"0 0 24 24\"\n",
              "       width=\"24px\">\n",
              "    <path d=\"M0 0h24v24H0V0z\" fill=\"none\"/>\n",
              "    <path d=\"M18.56 5.44l.94 2.06.94-2.06 2.06-.94-2.06-.94-.94-2.06-.94 2.06-2.06.94zm-11 1L8.5 8.5l.94-2.06 2.06-.94-2.06-.94L8.5 2.5l-.94 2.06-2.06.94zm10 10l.94 2.06.94-2.06 2.06-.94-2.06-.94-.94-2.06-.94 2.06-2.06.94z\"/><path d=\"M17.41 7.96l-1.37-1.37c-.4-.4-.92-.59-1.43-.59-.52 0-1.04.2-1.43.59L10.3 9.45l-7.72 7.72c-.78.78-.78 2.05 0 2.83L4 21.41c.39.39.9.59 1.41.59.51 0 1.02-.2 1.41-.59l7.78-7.78 2.81-2.81c.8-.78.8-2.07 0-2.86zM5.41 20L4 18.59l7.72-7.72 1.47 1.35L5.41 20z\"/>\n",
              "  </svg>\n",
              "      </button>\n",
              "      \n",
              "  <style>\n",
              "    .colab-df-container {\n",
              "      display:flex;\n",
              "      flex-wrap:wrap;\n",
              "      gap: 12px;\n",
              "    }\n",
              "\n",
              "    .colab-df-convert {\n",
              "      background-color: #E8F0FE;\n",
              "      border: none;\n",
              "      border-radius: 50%;\n",
              "      cursor: pointer;\n",
              "      display: none;\n",
              "      fill: #1967D2;\n",
              "      height: 32px;\n",
              "      padding: 0 0 0 0;\n",
              "      width: 32px;\n",
              "    }\n",
              "\n",
              "    .colab-df-convert:hover {\n",
              "      background-color: #E2EBFA;\n",
              "      box-shadow: 0px 1px 2px rgba(60, 64, 67, 0.3), 0px 1px 3px 1px rgba(60, 64, 67, 0.15);\n",
              "      fill: #174EA6;\n",
              "    }\n",
              "\n",
              "    [theme=dark] .colab-df-convert {\n",
              "      background-color: #3B4455;\n",
              "      fill: #D2E3FC;\n",
              "    }\n",
              "\n",
              "    [theme=dark] .colab-df-convert:hover {\n",
              "      background-color: #434B5C;\n",
              "      box-shadow: 0px 1px 3px 1px rgba(0, 0, 0, 0.15);\n",
              "      filter: drop-shadow(0px 1px 2px rgba(0, 0, 0, 0.3));\n",
              "      fill: #FFFFFF;\n",
              "    }\n",
              "  </style>\n",
              "\n",
              "      <script>\n",
              "        const buttonEl =\n",
              "          document.querySelector('#df-b0bb726f-6bc4-4456-9a1d-6b240ebc428d button.colab-df-convert');\n",
              "        buttonEl.style.display =\n",
              "          google.colab.kernel.accessAllowed ? 'block' : 'none';\n",
              "\n",
              "        async function convertToInteractive(key) {\n",
              "          const element = document.querySelector('#df-b0bb726f-6bc4-4456-9a1d-6b240ebc428d');\n",
              "          const dataTable =\n",
              "            await google.colab.kernel.invokeFunction('convertToInteractive',\n",
              "                                                     [key], {});\n",
              "          if (!dataTable) return;\n",
              "\n",
              "          const docLinkHtml = 'Like what you see? Visit the ' +\n",
              "            '<a target=\"_blank\" href=https://colab.research.google.com/notebooks/data_table.ipynb>data table notebook</a>'\n",
              "            + ' to learn more about interactive tables.';\n",
              "          element.innerHTML = '';\n",
              "          dataTable['output_type'] = 'display_data';\n",
              "          await google.colab.output.renderOutput(dataTable, element);\n",
              "          const docLink = document.createElement('div');\n",
              "          docLink.innerHTML = docLinkHtml;\n",
              "          element.appendChild(docLink);\n",
              "        }\n",
              "      </script>\n",
              "    </div>\n",
              "  </div>\n",
              "  "
            ]
          },
          "metadata": {},
          "execution_count": 5
        }
      ]
    },
    {
      "cell_type": "code",
      "source": [
        ""
      ],
      "metadata": {
        "id": "XEXLQjKve97E"
      },
      "execution_count": 5,
      "outputs": []
    },
    {
      "cell_type": "code",
      "source": [
        "data.nunique()"
      ],
      "metadata": {
        "id": "3LRk1uYGeMoe",
        "colab": {
          "base_uri": "https://localhost:8080/"
        },
        "outputId": "8d87d03e-0e5e-487d-8407-d2b49fec968c"
      },
      "execution_count": 6,
      "outputs": [
        {
          "output_type": "execute_result",
          "data": {
            "text/plain": [
              "Invoice ID                 1000\n",
              "Branch                        3\n",
              "City                          3\n",
              "Customer type                 2\n",
              "Gender                        2\n",
              "Product line                  6\n",
              "Unit price                  943\n",
              "Quantity                     10\n",
              "Tax 5%                      990\n",
              "Total                       990\n",
              "Date                         89\n",
              "Time                        506\n",
              "Payment                       3\n",
              "cogs                        990\n",
              "gross margin percentage       1\n",
              "gross income                990\n",
              "Rating                       61\n",
              "dtype: int64"
            ]
          },
          "metadata": {},
          "execution_count": 6
        }
      ]
    },
    {
      "cell_type": "code",
      "source": [
        "data.columns"
      ],
      "metadata": {
        "id": "pLC0e_vfeQOM",
        "colab": {
          "base_uri": "https://localhost:8080/"
        },
        "outputId": "d6a2d0d0-eaec-4aeb-fb0b-a670de247973"
      },
      "execution_count": 7,
      "outputs": [
        {
          "output_type": "execute_result",
          "data": {
            "text/plain": [
              "Index(['Invoice ID', 'Branch', 'City', 'Customer type', 'Gender',\n",
              "       'Product line', 'Unit price', 'Quantity', 'Tax 5%', 'Total', 'Date',\n",
              "       'Time', 'Payment', 'cogs', 'gross margin percentage', 'gross income',\n",
              "       'Rating'],\n",
              "      dtype='object')"
            ]
          },
          "metadata": {},
          "execution_count": 7
        }
      ]
    },
    {
      "cell_type": "code",
      "source": [
        "data.Branch.value_counts()"
      ],
      "metadata": {
        "colab": {
          "base_uri": "https://localhost:8080/"
        },
        "id": "GSKjrfXsfvF_",
        "outputId": "5f4df2ae-39c7-4e47-e704-d8c61ad312d9"
      },
      "execution_count": 8,
      "outputs": [
        {
          "output_type": "execute_result",
          "data": {
            "text/plain": [
              "A    340\n",
              "B    332\n",
              "C    328\n",
              "Name: Branch, dtype: int64"
            ]
          },
          "metadata": {},
          "execution_count": 8
        }
      ]
    },
    {
      "cell_type": "code",
      "source": [
        "data.City.value_counts()"
      ],
      "metadata": {
        "colab": {
          "base_uri": "https://localhost:8080/"
        },
        "id": "mLxyyJORf751",
        "outputId": "ed200c0f-3c03-470b-d787-b78ef5ed9859"
      },
      "execution_count": 9,
      "outputs": [
        {
          "output_type": "execute_result",
          "data": {
            "text/plain": [
              "Yangon       340\n",
              "Mandalay     332\n",
              "Naypyitaw    328\n",
              "Name: City, dtype: int64"
            ]
          },
          "metadata": {},
          "execution_count": 9
        }
      ]
    },
    {
      "cell_type": "code",
      "source": [
        "data.City.replace({'Yangon':'Lagos', 'Mandalay':'Ibadan','Naypyitaw':'Akwa-Ibom'}, inplace=True)"
      ],
      "metadata": {
        "id": "O4fqPbERgBdn"
      },
      "execution_count": 10,
      "outputs": []
    },
    {
      "cell_type": "code",
      "source": [
        "data.columns"
      ],
      "metadata": {
        "colab": {
          "base_uri": "https://localhost:8080/"
        },
        "id": "7q1RMU9Sgx8x",
        "outputId": "59311902-ec2d-4837-9c05-0e19790888b5"
      },
      "execution_count": 11,
      "outputs": [
        {
          "output_type": "execute_result",
          "data": {
            "text/plain": [
              "Index(['Invoice ID', 'Branch', 'City', 'Customer type', 'Gender',\n",
              "       'Product line', 'Unit price', 'Quantity', 'Tax 5%', 'Total', 'Date',\n",
              "       'Time', 'Payment', 'cogs', 'gross margin percentage', 'gross income',\n",
              "       'Rating'],\n",
              "      dtype='object')"
            ]
          },
          "metadata": {},
          "execution_count": 11
        }
      ]
    },
    {
      "cell_type": "code",
      "source": [
        "data.drop(['Branch', 'Invoice ID', 'Tax 5%'], axis=1, inplace=True)"
      ],
      "metadata": {
        "id": "BZt6JQh8gSSa"
      },
      "execution_count": 12,
      "outputs": []
    },
    {
      "cell_type": "code",
      "source": [
        "sns.countplot(data.City)"
      ],
      "metadata": {
        "colab": {
          "base_uri": "https://localhost:8080/",
          "height": 297
        },
        "id": "zV8SgXXVgeV1",
        "outputId": "f84260dd-77cd-494c-9a18-68a7bbe6ede3"
      },
      "execution_count": 13,
      "outputs": [
        {
          "output_type": "execute_result",
          "data": {
            "text/plain": [
              "<matplotlib.axes._subplots.AxesSubplot at 0x7fce4bfaee10>"
            ]
          },
          "metadata": {},
          "execution_count": 13
        },
        {
          "output_type": "display_data",
          "data": {
            "text/plain": [
              "<Figure size 432x288 with 1 Axes>"
            ],
            "image/png": "[encoded data removed]"
          },
          "metadata": {
            "needs_background": "light"
          }
        }
      ]
    },
    {
      "cell_type": "code",
      "source": [
        ""
      ],
      "metadata": {
        "id": "25vzi7N8hFtY"
      },
      "execution_count": 13,
      "outputs": []
    },
    {
      "cell_type": "markdown",
      "source": [
        "## Data Cleaning and Preprocessing"
      ],
      "metadata": {
        "id": "2v-j_lzNTwyR"
      }
    },
    {
      "cell_type": "code",
      "source": [
        "data.isnull().sum()"
      ],
      "metadata": {
        "id": "1r509UJZUc16",
        "colab": {
          "base_uri": "https://localhost:8080/"
        },
        "outputId": "e5729a51-9aa7-4784-f9d7-6af9473b420a"
      },
      "execution_count": 14,
      "outputs": [
        {
          "output_type": "execute_result",
          "data": {
            "text/plain": [
              "City                       0\n",
              "Customer type              0\n",
              "Gender                     0\n",
              "Product line               0\n",
              "Unit price                 0\n",
              "Quantity                   0\n",
              "Total                      0\n",
              "Date                       0\n",
              "Time                       0\n",
              "Payment                    0\n",
              "cogs                       0\n",
              "gross margin percentage    0\n",
              "gross income               0\n",
              "Rating                     0\n",
              "dtype: int64"
            ]
          },
          "metadata": {},
          "execution_count": 14
        }
      ]
    },
    {
      "cell_type": "code",
      "source": [
        "data.isnull().sum()/data.shape[0]"
      ],
      "metadata": {
        "id": "edYrwHd7Ue_M",
        "colab": {
          "base_uri": "https://localhost:8080/"
        },
        "outputId": "b82c1b6b-b472-4a4c-ee0e-5724f2913128"
      },
      "execution_count": 15,
      "outputs": [
        {
          "output_type": "execute_result",
          "data": {
            "text/plain": [
              "City                       0.0\n",
              "Customer type              0.0\n",
              "Gender                     0.0\n",
              "Product line               0.0\n",
              "Unit price                 0.0\n",
              "Quantity                   0.0\n",
              "Total                      0.0\n",
              "Date                       0.0\n",
              "Time                       0.0\n",
              "Payment                    0.0\n",
              "cogs                       0.0\n",
              "gross margin percentage    0.0\n",
              "gross income               0.0\n",
              "Rating                     0.0\n",
              "dtype: float64"
            ]
          },
          "metadata": {},
          "execution_count": 15
        }
      ]
    },
    {
      "cell_type": "markdown",
      "source": [
        "## Data Engineering"
      ],
      "metadata": {
        "id": "hy2zRCK7eTqw"
      }
    },
    {
      "cell_type": "code",
      "source": [
        "data['Date'] = pd.to_datetime(data.Date)"
      ],
      "metadata": {
        "id": "mtOEnuTCeZwV"
      },
      "execution_count": 16,
      "outputs": []
    },
    {
      "cell_type": "code",
      "source": [
        "import datetime as dt\n",
        "data['Year'] = data['Date'].dt.year"
      ],
      "metadata": {
        "id": "wWbeXU2OhkLC"
      },
      "execution_count": 17,
      "outputs": []
    },
    {
      "cell_type": "code",
      "source": [
        "data['Month'] = data['Date'].dt.month\n",
        "data['Day'] = data['Date'].dt.day\n"
      ],
      "metadata": {
        "id": "twDBD1Uthvl8"
      },
      "execution_count": 18,
      "outputs": []
    },
    {
      "cell_type": "code",
      "source": [
        "city_data =data.groupby('City')"
      ],
      "metadata": {
        "id": "QOTJUoXQh8Bn"
      },
      "execution_count": 19,
      "outputs": []
    },
    {
      "cell_type": "code",
      "source": [
        "city_data.mean()"
      ],
      "metadata": {
        "colab": {
          "base_uri": "https://localhost:8080/",
          "height": 175
        },
        "id": "wRrfkO7Pi9-C",
        "outputId": "f0f2214c-2293-49e9-de85-396f06cdf8bb"
      },
      "execution_count": 20,
      "outputs": [
        {
          "output_type": "execute_result",
          "data": {
            "text/plain": [
              "           Unit price  Quantity       Total        cogs  \\\n",
              "City                                                      \n",
              "Akwa-Ibom   56.609024  5.582317  337.099715  321.047348   \n",
              "Ibadan      55.659277  5.481928  319.872506  304.640482   \n",
              "Lagos       54.780853  5.467647  312.354031  297.480029   \n",
              "\n",
              "           gross margin percentage  gross income    Rating    Year     Month  \\\n",
              "City                                                                           \n",
              "Akwa-Ibom                 4.761905     16.052367  7.072866  2019.0  1.951220   \n",
              "Ibadan                    4.761905     15.232024  6.818072  2019.0  2.003012   \n",
              "Lagos                     4.761905     14.874001  7.027059  2019.0  2.023529   \n",
              "\n",
              "                 Day  \n",
              "City                  \n",
              "Akwa-Ibom  15.109756  \n",
              "Ibadan     15.265060  \n",
              "Lagos      15.388235  "
            ],
            "text/html": [
              "\n",
              "  <div id=\"df-d19ef3c4-5ba2-487d-9fe3-93d7903129f3\">\n",
              "    <div class=\"colab-df-container\">\n",
              "      <div>\n",
              "<style scoped>\n",
              "    .dataframe tbody tr th:only-of-type {\n",
              "        vertical-align: middle;\n",
              "    }\n",
              "\n",
              "    .dataframe tbody tr th {\n",
              "        vertical-align: top;\n",
              "    }\n",
              "\n",
              "    .dataframe thead th {\n",
              "        text-align: right;\n",
              "    }\n",
              "</style>\n",
              "<table border=\"1\" class=\"dataframe\">\n",
              "  <thead>\n",
              "    <tr style=\"text-align: right;\">\n",
              "      <th></th>\n",
              "      <th>Unit price</th>\n",
              "      <th>Quantity</th>\n",
              "      <th>Total</th>\n",
              "      <th>cogs</th>\n",
              "      <th>gross margin percentage</th>\n",
              "      <th>gross income</th>\n",
              "      <th>Rating</th>\n",
              "      <th>Year</th>\n",
              "      <th>Month</th>\n",
              "      <th>Day</th>\n",
              "    </tr>\n",
              "    <tr>\n",
              "      <th>City</th>\n",
              "      <th></th>\n",
              "      <th></th>\n",
              "      <th></th>\n",
              "      <th></th>\n",
              "      <th></th>\n",
              "      <th></th>\n",
              "      <th></th>\n",
              "      <th></th>\n",
              "      <th></th>\n",
              "      <th></th>\n",
              "    </tr>\n",
              "  </thead>\n",
              "  <tbody>\n",
              "    <tr>\n",
              "      <th>Akwa-Ibom</th>\n",
              "      <td>56.609024</td>\n",
              "      <td>5.582317</td>\n",
              "      <td>337.099715</td>\n",
              "      <td>321.047348</td>\n",
              "      <td>4.761905</td>\n",
              "      <td>16.052367</td>\n",
              "      <td>7.072866</td>\n",
              "      <td>2019.0</td>\n",
              "      <td>1.951220</td>\n",
              "      <td>15.109756</td>\n",
              "    </tr>\n",
              "    <tr>\n",
              "      <th>Ibadan</th>\n",
              "      <td>55.659277</td>\n",
              "      <td>5.481928</td>\n",
              "      <td>319.872506</td>\n",
              "      <td>304.640482</td>\n",
              "      <td>4.761905</td>\n",
              "      <td>15.232024</td>\n",
              "      <td>6.818072</td>\n",
              "      <td>2019.0</td>\n",
              "      <td>2.003012</td>\n",
              "      <td>15.265060</td>\n",
              "    </tr>\n",
              "    <tr>\n",
              "      <th>Lagos</th>\n",
              "      <td>54.780853</td>\n",
              "      <td>5.467647</td>\n",
              "      <td>312.354031</td>\n",
              "      <td>297.480029</td>\n",
              "      <td>4.761905</td>\n",
              "      <td>14.874001</td>\n",
              "      <td>7.027059</td>\n",
              "      <td>2019.0</td>\n",
              "      <td>2.023529</td>\n",
              "      <td>15.388235</td>\n",
              "    </tr>\n",
              "  </tbody>\n",
              "</table>\n",
              "</div>\n",
              "      <button class=\"colab-df-convert\" onclick=\"convertToInteractive('df-d19ef3c4-5ba2-487d-9fe3-93d7903129f3')\"\n",
              "              title=\"Convert this dataframe to an interactive table.\"\n",
              "              style=\"display:none;\">\n",
              "        \n",
              "  <svg xmlns=\"http://www.w3.org/2000/svg\" height=\"24px\"viewBox=\"0 0 24 24\"\n",
              "       width=\"24px\">\n",
              "    <path d=\"M0 0h24v24H0V0z\" fill=\"none\"/>\n",
              "    <path d=\"M18.56 5.44l.94 2.06.94-2.06 2.06-.94-2.06-.94-.94-2.06-.94 2.06-2.06.94zm-11 1L8.5 8.5l.94-2.06 2.06-.94-2.06-.94L8.5 2.5l-.94 2.06-2.06.94zm10 10l.94 2.06.94-2.06 2.06-.94-2.06-.94-.94-2.06-.94 2.06-2.06.94z\"/><path d=\"M17.41 7.96l-1.37-1.37c-.4-.4-.92-.59-1.43-.59-.52 0-1.04.2-1.43.59L10.3 9.45l-7.72 7.72c-.78.78-.78 2.05 0 2.83L4 21.41c.39.39.9.59 1.41.59.51 0 1.02-.2 1.41-.59l7.78-7.78 2.81-2.81c.8-.78.8-2.07 0-2.86zM5.41 20L4 18.59l7.72-7.72 1.47 1.35L5.41 20z\"/>\n",
              "  </svg>\n",
              "      </button>\n",
              "      \n",
              "  <style>\n",
              "    .colab-df-container {\n",
              "      display:flex;\n",
              "      flex-wrap:wrap;\n",
              "      gap: 12px;\n",
              "    }\n",
              "\n",
              "    .colab-df-convert {\n",
              "      background-color: #E8F0FE;\n",
              "      border: none;\n",
              "      border-radius: 50%;\n",
              "      cursor: pointer;\n",
              "      display: none;\n",
              "      fill: #1967D2;\n",
              "      height: 32px;\n",
              "      padding: 0 0 0 0;\n",
              "      width: 32px;\n",
              "    }\n",
              "\n",
              "    .colab-df-convert:hover {\n",
              "      background-color: #E2EBFA;\n",
              "      box-shadow: 0px 1px 2px rgba(60, 64, 67, 0.3), 0px 1px 3px 1px rgba(60, 64, 67, 0.15);\n",
              "      fill: #174EA6;\n",
              "    }\n",
              "\n",
              "    [theme=dark] .colab-df-convert {\n",
              "      background-color: #3B4455;\n",
              "      fill: #D2E3FC;\n",
              "    }\n",
              "\n",
              "    [theme=dark] .colab-df-convert:hover {\n",
              "      background-color: #434B5C;\n",
              "      box-shadow: 0px 1px 3px 1px rgba(0, 0, 0, 0.15);\n",
              "      filter: drop-shadow(0px 1px 2px rgba(0, 0, 0, 0.3));\n",
              "      fill: #FFFFFF;\n",
              "    }\n",
              "  </style>\n",
              "\n",
              "      <script>\n",
              "        const buttonEl =\n",
              "          document.querySelector('#df-d19ef3c4-5ba2-487d-9fe3-93d7903129f3 button.colab-df-convert');\n",
              "        buttonEl.style.display =\n",
              "          google.colab.kernel.accessAllowed ? 'block' : 'none';\n",
              "\n",
              "        async function convertToInteractive(key) {\n",
              "          const element = document.querySelector('#df-d19ef3c4-5ba2-487d-9fe3-93d7903129f3');\n",
              "          const dataTable =\n",
              "            await google.colab.kernel.invokeFunction('convertToInteractive',\n",
              "                                                     [key], {});\n",
              "          if (!dataTable) return;\n",
              "\n",
              "          const docLinkHtml = 'Like what you see? Visit the ' +\n",
              "            '<a target=\"_blank\" href=https://colab.research.google.com/notebooks/data_table.ipynb>data table notebook</a>'\n",
              "            + ' to learn more about interactive tables.';\n",
              "          element.innerHTML = '';\n",
              "          dataTable['output_type'] = 'display_data';\n",
              "          await google.colab.output.renderOutput(dataTable, element);\n",
              "          const docLink = document.createElement('div');\n",
              "          docLink.innerHTML = docLinkHtml;\n",
              "          element.appendChild(docLink);\n",
              "        }\n",
              "      </script>\n",
              "    </div>\n",
              "  </div>\n",
              "  "
            ]
          },
          "metadata": {},
          "execution_count": 20
        }
      ]
    },
    {
      "cell_type": "markdown",
      "source": [
        "## Data Visualization"
      ],
      "metadata": {
        "id": "oZ3FIT8hUhBl"
      }
    },
    {
      "cell_type": "code",
      "source": [
        "sns.countplot('Customer type', data=data)"
      ],
      "metadata": {
        "colab": {
          "base_uri": "https://localhost:8080/",
          "height": 297
        },
        "id": "OOMkqWXViMjl",
        "outputId": "a3fb19e2-fd3b-4c6c-8c57-adb55af2e1c0"
      },
      "execution_count": 21,
      "outputs": [
        {
          "output_type": "execute_result",
          "data": {
            "text/plain": [
              "<matplotlib.axes._subplots.AxesSubplot at 0x7fce2860f410>"
            ]
          },
          "metadata": {},
          "execution_count": 21
        },
        {
          "output_type": "display_data",
          "data": {
            "text/plain": [
              "<Figure size 432x288 with 1 Axes>"
            ],
            "image/png": "[encoded data removed]"
          },
          "metadata": {
            "needs_background": "light"
          }
        }
      ]
    },
    {
      "cell_type": "code",
      "source": [
        "data['Customer type'].value_counts()"
      ],
      "metadata": {
        "colab": {
          "base_uri": "https://localhost:8080/"
        },
        "id": "RnStidiviniJ",
        "outputId": "e55188b4-3b13-48e1-856c-1e6491b2ebcc"
      },
      "execution_count": 22,
      "outputs": [
        {
          "output_type": "execute_result",
          "data": {
            "text/plain": [
              "Member    501\n",
              "Normal    499\n",
              "Name: Customer type, dtype: int64"
            ]
          },
          "metadata": {},
          "execution_count": 22
        }
      ]
    },
    {
      "cell_type": "code",
      "source": [
        "sns.countplot('City',  hue='Gender',data=data)"
      ],
      "metadata": {
        "colab": {
          "base_uri": "https://localhost:8080/",
          "height": 297
        },
        "id": "9ynlI5YWjGXw",
        "outputId": "609a810a-19cd-4b43-c40d-12e9a1ed1201"
      },
      "execution_count": 23,
      "outputs": [
        {
          "output_type": "execute_result",
          "data": {
            "text/plain": [
              "<matplotlib.axes._subplots.AxesSubplot at 0x7fce2862aed0>"
            ]
          },
          "metadata": {},
          "execution_count": 23
        },
        {
          "output_type": "display_data",
          "data": {
            "text/plain": [
              "<Figure size 432x288 with 1 Axes>"
            ],
            "image/png": "[encoded data removed]"
          },
          "metadata": {
            "needs_background": "light"
          }
        }
      ]
    },
    {
      "cell_type": "code",
      "source": [
        "sns.boxplot(y = 'Total',x='Gender', data=data)"
      ],
      "metadata": {
        "colab": {
          "base_uri": "https://localhost:8080/",
          "height": 297
        },
        "id": "Q8SQxz07jiGa",
        "outputId": "65e6b3eb-c426-41e0-ab5b-bd95f9526a51"
      },
      "execution_count": 24,
      "outputs": [
        {
          "output_type": "execute_result",
          "data": {
            "text/plain": [
              "<matplotlib.axes._subplots.AxesSubplot at 0x7fce280cb150>"
            ]
          },
          "metadata": {},
          "execution_count": 24
        },
        {
          "output_type": "display_data",
          "data": {
            "text/plain": [
              "<Figure size 432x288 with 1 Axes>"
            ],
            "image/png": "[encoded data removed]"
          },
          "metadata": {
            "needs_background": "light"
          }
        }
      ]
    },
    {
      "cell_type": "code",
      "source": [
        "sns.violinplot(y = 'Total',x='Gender', data=data)"
      ],
      "metadata": {
        "colab": {
          "base_uri": "https://localhost:8080/",
          "height": 297
        },
        "id": "JbCuEF0hkHTg",
        "outputId": "515e70be-2e9a-491e-b119-ba8ec914e806"
      },
      "execution_count": 25,
      "outputs": [
        {
          "output_type": "execute_result",
          "data": {
            "text/plain": [
              "<matplotlib.axes._subplots.AxesSubplot at 0x7fce2808ec10>"
            ]
          },
          "metadata": {},
          "execution_count": 25
        },
        {
          "output_type": "display_data",
          "data": {
            "text/plain": [
              "<Figure size 432x288 with 1 Axes>"
            ],
            "image/png": "[encoded data removed]"
          },
          "metadata": {
            "needs_background": "light"
          }
        }
      ]
    },
    {
      "cell_type": "code",
      "source": [
        "plt.figure(figsize=(12,6))\n",
        "sns.countplot('Product line', hue='Gender', data=data)\n",
        "plt.xticks(rotation=45)"
      ],
      "metadata": {
        "colab": {
          "base_uri": "https://localhost:8080/",
          "height": 484
        },
        "id": "jH7HlUYDiKCi",
        "outputId": "12766244-b5c5-41e4-e086-38f6175f28d8"
      },
      "execution_count": 26,
      "outputs": [
        {
          "output_type": "execute_result",
          "data": {
            "text/plain": [
              "(array([0, 1, 2, 3, 4, 5]), <a list of 6 Text major ticklabel objects>)"
            ]
          },
          "metadata": {},
          "execution_count": 26
        },
        {
          "output_type": "display_data",
          "data": {
            "text/plain": [
              "<Figure size 864x432 with 1 Axes>"
            ],
            "image/png": "[encoded data removed]"
          },
          "metadata": {
            "needs_background": "light"
          }
        }
      ]
    },
    {
      "cell_type": "code",
      "source": [
        "data.columns"
      ],
      "metadata": {
        "colab": {
          "base_uri": "https://localhost:8080/"
        },
        "id": "-2HEJsjglUGU",
        "outputId": "4a4bff4a-ba75-495a-b06a-ba0539b9752e"
      },
      "execution_count": 27,
      "outputs": [
        {
          "output_type": "execute_result",
          "data": {
            "text/plain": [
              "Index(['City', 'Customer type', 'Gender', 'Product line', 'Unit price',\n",
              "       'Quantity', 'Total', 'Date', 'Time', 'Payment', 'cogs',\n",
              "       'gross margin percentage', 'gross income', 'Rating', 'Year', 'Month',\n",
              "       'Day'],\n",
              "      dtype='object')"
            ]
          },
          "metadata": {},
          "execution_count": 27
        }
      ]
    },
    {
      "cell_type": "code",
      "source": [
        "sns.boxplot(y= 'Rating',x='City', data=data)"
      ],
      "metadata": {
        "colab": {
          "base_uri": "https://localhost:8080/",
          "height": 297
        },
        "id": "CiJOzBXmiL1S",
        "outputId": "2cd7908f-6382-413f-80de-7719db054674"
      },
      "execution_count": 28,
      "outputs": [
        {
          "output_type": "execute_result",
          "data": {
            "text/plain": [
              "<matplotlib.axes._subplots.AxesSubplot at 0x7fce25ef1310>"
            ]
          },
          "metadata": {},
          "execution_count": 28
        },
        {
          "output_type": "display_data",
          "data": {
            "text/plain": [
              "<Figure size 432x288 with 1 Axes>"
            ],
            "image/png": "[encoded data removed]"
          },
          "metadata": {
            "needs_background": "light"
          }
        }
      ]
    },
    {
      "cell_type": "code",
      "source": [
        "sns.boxplot(y= 'Rating',x='Gender', data=data)"
      ],
      "metadata": {
        "colab": {
          "base_uri": "https://localhost:8080/",
          "height": 297
        },
        "id": "IvBbDEC4lb0G",
        "outputId": "9c56b5b5-0c33-4aea-e36b-3376918d0741"
      },
      "execution_count": 29,
      "outputs": [
        {
          "output_type": "execute_result",
          "data": {
            "text/plain": [
              "<matplotlib.axes._subplots.AxesSubplot at 0x7fce25ecde90>"
            ]
          },
          "metadata": {},
          "execution_count": 29
        },
        {
          "output_type": "display_data",
          "data": {
            "text/plain": [
              "<Figure size 432x288 with 1 Axes>"
            ],
            "image/png": "[encoded data removed]"
          },
          "metadata": {
            "needs_background": "light"
          }
        }
      ]
    },
    {
      "cell_type": "code",
      "source": [
        "sns.countplot('Month', data=data)"
      ],
      "metadata": {
        "colab": {
          "base_uri": "https://localhost:8080/",
          "height": 297
        },
        "id": "a5Rl3HjHlhxQ",
        "outputId": "80c56485-b532-4f56-e536-ad5cc6e57488"
      },
      "execution_count": 30,
      "outputs": [
        {
          "output_type": "execute_result",
          "data": {
            "text/plain": [
              "<matplotlib.axes._subplots.AxesSubplot at 0x7fce25e0f490>"
            ]
          },
          "metadata": {},
          "execution_count": 30
        },
        {
          "output_type": "display_data",
          "data": {
            "text/plain": [
              "<Figure size 432x288 with 1 Axes>"
            ],
            "image/png": "[encoded data removed]"
          },
          "metadata": {
            "needs_background": "light"
          }
        }
      ]
    },
    {
      "cell_type": "markdown",
      "source": [
        "## Observations and Conclusion"
      ],
      "metadata": {
        "id": "MIm0uVKWb6rg"
      }
    },
    {
      "cell_type": "markdown",
      "source": [
        "More female customers than male\n",
        "\n",
        "Males buy more health and beauty products than females\n",
        "\n",
        "Females gives higher rating than male on average\n",
        "\n",
        "Most sales occured in January"
      ],
      "metadata": {
        "id": "CP3BqDLClkzt"
      }
    },
    {
      "cell_type": "markdown",
      "source": [
        "\n",
        "\n",
        "---\n",
        "---\n",
        "---\n",
        "\n",
        "\n",
        "\n"
      ],
      "metadata": {
        "id": "rFP1NV-dee8w"
      }
    },
    {
      "cell_type": "markdown",
      "source": [
        "# Introduction to Machine Learning\n",
        "\n",
        "### Artificial Intelligence"
      ],
      "metadata": {
        "id": "KoCMPc7EcAEd"
      }
    },
    {
      "cell_type": "markdown",
      "source": [
        "Supervised Learning - fraud, cancer, pass, salary, loan default\n",
        "\n",
        "Unsupervised Learning- Clustering\n",
        "\n",
        "Semi-supervised Learning\n",
        "\n",
        "Reinforcement Learning - Self-driving car"
      ],
      "metadata": {
        "id": "in8Mx6Vkca2Q"
      }
    },
    {
      "cell_type": "markdown",
      "source": [
        "![2347060912509_status_556cd0df84ca465a9b0c71024d651ef2.jpg](data:image/jpeg;base64,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)"
      ],
      "metadata": {
        "id": "G_qPgicrdByx"
      }
    },
    {
      "cell_type": "code",
      "source": [
        ""
      ],
      "metadata": {
        "id": "_ozLv1itfFTs"
      },
      "execution_count": 30,
      "outputs": []
    }
  ]
}