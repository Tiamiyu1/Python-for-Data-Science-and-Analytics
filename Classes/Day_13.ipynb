{
  "nbformat": 4,
  "nbformat_minor": 0,
  "metadata": {
    "colab": {
      "name": "Day 13.ipynb",
      "provenance": [],
      "collapsed_sections": [],
      "authorship_tag": "ABX9TyPFsOwPa2p00UpNemJl+KWC",
      "include_colab_link": true
    },
    "kernelspec": {
      "name": "python3",
      "display_name": "Python 3"
    },
    "language_info": {
      "name": "python"
    }
  },
  "cells": [
    {
      "cell_type": "markdown",
      "metadata": {
        "id": "view-in-github",
        "colab_type": "text"
      },
      "source": [
        "<a href=\"https://colab.research.google.com/github/Tiamiyu1/Python-for-Data-Science-and-Analytics/blob/main/Classes/Day_13.ipynb\" target=\"_parent\"><img src=\"https://colab.research.google.com/assets/colab-badge.svg\" alt=\"Open In Colab\"/></a>"
      ]
    },
    {
      "cell_type": "markdown",
      "source": [
        "# Data Visualization\n",
        "\n",
        "Subset with multiple conditions \n",
        "\n",
        "rename a value within column \n",
        "\n",
        "Renaming columns\n",
        "\n",
        "Groupby"
      ],
      "metadata": {
        "id": "ix-w30gIFDeO"
      }
    },
    {
      "cell_type": "code",
      "source": [
        "import numpy as np\n",
        "import pandas as pd"
      ],
      "metadata": {
        "id": "67es6ul_-sH-"
      },
      "execution_count": 1,
      "outputs": []
    },
    {
      "cell_type": "code",
      "source": [
        "df = pd.read_csv('https://raw.githubusercontent.com/Tiamiyu1/Python-for-Data-Science-and-Analytics/main/Data/Smart%20Sheet%20-%20Sheet8.csv')"
      ],
      "metadata": {
        "id": "cZNDifzvVG4a"
      },
      "execution_count": 2,
      "outputs": []
    },
    {
      "cell_type": "code",
      "source": [
        "df['TOTAL'] =  df[['MATH',\t'ENGLISH',\t'BIOLOGY',\t'ECONOMICS',\t'AGRIC']].sum(axis=1)"
      ],
      "metadata": {
        "id": "ugHnAEHQ1Peh"
      },
      "execution_count": 3,
      "outputs": []
    },
    {
      "cell_type": "code",
      "source": [
        "df[(df['GENDER']=='FEMALE') &  (df['TOTAL']>=300)]  # and condition"
      ],
      "metadata": {
        "id": "IQwwBixFyvIt",
        "colab": {
          "base_uri": "https://localhost:8080/",
          "height": 394
        },
        "outputId": "ad21b376-6b1e-4314-a0bb-d4ab66e80f32"
      },
      "execution_count": 4,
      "outputs": [
        {
          "output_type": "execute_result",
          "data": {
            "text/plain": [
              "   FIRST NAME  LAST NAME  GENDER  MATH  ENGLISH  BIOLOGY  ECONOMICS  AGRIC  \\\n",
              "1       IMRAN      ROFID  FEMALE    70    33.33    100.0         55   97.5   \n",
              "3    PICHARDS     GODWIN  FEMALE    60    60.00    100.0         92   67.0   \n",
              "5       FLINT  AYEMOJUBA  FEMALE    75    96.67     92.5         62   59.5   \n",
              "6      KIEKIE   APAOKAGI  FEMALE    85    50.00     90.0         70   67.5   \n",
              "11     KASADY     DOREDO  FEMALE   100    66.67     75.0         75   73.5   \n",
              "12     SHAGGI   ROSELINA  FEMALE   100   100.00     72.5        100   97.5   \n",
              "16    PATRICK     ALECIA  FEMALE   100    50.00    100.0         35   27.5   \n",
              "19      JONES   ANGELICA  FEMALE    80    83.33     85.0         45   52.5   \n",
              "20       EMIL    FOSWELL  FEMALE    80    80.00     80.0         80   80.0   \n",
              "22      KENNY     BENTYL  FEMALE   100    83.33    100.0        100   57.5   \n",
              "25       FRED    BLONSKY  FEMALE   100   100.00     97.5         60   87.0   \n",
              "\n",
              "    INTELIGENCE   TOTAL  \n",
              "1          7.73  355.83  \n",
              "3          7.84  379.00  \n",
              "5          6.97  385.67  \n",
              "6          7.08  362.50  \n",
              "11         7.48  390.17  \n",
              "12         9.49  470.00  \n",
              "16         4.65  312.50  \n",
              "19         5.96  345.83  \n",
              "20         8.00  400.00  \n",
              "22         8.13  440.83  \n",
              "25         8.24  444.50  "
            ],
            "text/html": [
              "\n",
              "  <div id=\"df-81c0fc6c-f5c6-49a4-a608-35f44d2e55bb\">\n",
              "    <div class=\"colab-df-container\">\n",
              "      <div>\n",
              "<style scoped>\n",
              "    .dataframe tbody tr th:only-of-type {\n",
              "        vertical-align: middle;\n",
              "    }\n",
              "\n",
              "    .dataframe tbody tr th {\n",
              "        vertical-align: top;\n",
              "    }\n",
              "\n",
              "    .dataframe thead th {\n",
              "        text-align: right;\n",
              "    }\n",
              "</style>\n",
              "<table border=\"1\" class=\"dataframe\">\n",
              "  <thead>\n",
              "    <tr style=\"text-align: right;\">\n",
              "      <th></th>\n",
              "      <th>FIRST NAME</th>\n",
              "      <th>LAST NAME</th>\n",
              "      <th>GENDER</th>\n",
              "      <th>MATH</th>\n",
              "      <th>ENGLISH</th>\n",
              "      <th>BIOLOGY</th>\n",
              "      <th>ECONOMICS</th>\n",
              "      <th>AGRIC</th>\n",
              "      <th>INTELIGENCE</th>\n",
              "      <th>TOTAL</th>\n",
              "    </tr>\n",
              "  </thead>\n",
              "  <tbody>\n",
              "    <tr>\n",
              "      <th>1</th>\n",
              "      <td>IMRAN</td>\n",
              "      <td>ROFID</td>\n",
              "      <td>FEMALE</td>\n",
              "      <td>70</td>\n",
              "      <td>33.33</td>\n",
              "      <td>100.0</td>\n",
              "      <td>55</td>\n",
              "      <td>97.5</td>\n",
              "      <td>7.73</td>\n",
              "      <td>355.83</td>\n",
              "    </tr>\n",
              "    <tr>\n",
              "      <th>3</th>\n",
              "      <td>PICHARDS</td>\n",
              "      <td>GODWIN</td>\n",
              "      <td>FEMALE</td>\n",
              "      <td>60</td>\n",
              "      <td>60.00</td>\n",
              "      <td>100.0</td>\n",
              "      <td>92</td>\n",
              "      <td>67.0</td>\n",
              "      <td>7.84</td>\n",
              "      <td>379.00</td>\n",
              "    </tr>\n",
              "    <tr>\n",
              "      <th>5</th>\n",
              "      <td>FLINT</td>\n",
              "      <td>AYEMOJUBA</td>\n",
              "      <td>FEMALE</td>\n",
              "      <td>75</td>\n",
              "      <td>96.67</td>\n",
              "      <td>92.5</td>\n",
              "      <td>62</td>\n",
              "      <td>59.5</td>\n",
              "      <td>6.97</td>\n",
              "      <td>385.67</td>\n",
              "    </tr>\n",
              "    <tr>\n",
              "      <th>6</th>\n",
              "      <td>KIEKIE</td>\n",
              "      <td>APAOKAGI</td>\n",
              "      <td>FEMALE</td>\n",
              "      <td>85</td>\n",
              "      <td>50.00</td>\n",
              "      <td>90.0</td>\n",
              "      <td>70</td>\n",
              "      <td>67.5</td>\n",
              "      <td>7.08</td>\n",
              "      <td>362.50</td>\n",
              "    </tr>\n",
              "    <tr>\n",
              "      <th>11</th>\n",
              "      <td>KASADY</td>\n",
              "      <td>DOREDO</td>\n",
              "      <td>FEMALE</td>\n",
              "      <td>100</td>\n",
              "      <td>66.67</td>\n",
              "      <td>75.0</td>\n",
              "      <td>75</td>\n",
              "      <td>73.5</td>\n",
              "      <td>7.48</td>\n",
              "      <td>390.17</td>\n",
              "    </tr>\n",
              "    <tr>\n",
              "      <th>12</th>\n",
              "      <td>SHAGGI</td>\n",
              "      <td>ROSELINA</td>\n",
              "      <td>FEMALE</td>\n",
              "      <td>100</td>\n",
              "      <td>100.00</td>\n",
              "      <td>72.5</td>\n",
              "      <td>100</td>\n",
              "      <td>97.5</td>\n",
              "      <td>9.49</td>\n",
              "      <td>470.00</td>\n",
              "    </tr>\n",
              "    <tr>\n",
              "      <th>16</th>\n",
              "      <td>PATRICK</td>\n",
              "      <td>ALECIA</td>\n",
              "      <td>FEMALE</td>\n",
              "      <td>100</td>\n",
              "      <td>50.00</td>\n",
              "      <td>100.0</td>\n",
              "      <td>35</td>\n",
              "      <td>27.5</td>\n",
              "      <td>4.65</td>\n",
              "      <td>312.50</td>\n",
              "    </tr>\n",
              "    <tr>\n",
              "      <th>19</th>\n",
              "      <td>JONES</td>\n",
              "      <td>ANGELICA</td>\n",
              "      <td>FEMALE</td>\n",
              "      <td>80</td>\n",
              "      <td>83.33</td>\n",
              "      <td>85.0</td>\n",
              "      <td>45</td>\n",
              "      <td>52.5</td>\n",
              "      <td>5.96</td>\n",
              "      <td>345.83</td>\n",
              "    </tr>\n",
              "    <tr>\n",
              "      <th>20</th>\n",
              "      <td>EMIL</td>\n",
              "      <td>FOSWELL</td>\n",
              "      <td>FEMALE</td>\n",
              "      <td>80</td>\n",
              "      <td>80.00</td>\n",
              "      <td>80.0</td>\n",
              "      <td>80</td>\n",
              "      <td>80.0</td>\n",
              "      <td>8.00</td>\n",
              "      <td>400.00</td>\n",
              "    </tr>\n",
              "    <tr>\n",
              "      <th>22</th>\n",
              "      <td>KENNY</td>\n",
              "      <td>BENTYL</td>\n",
              "      <td>FEMALE</td>\n",
              "      <td>100</td>\n",
              "      <td>83.33</td>\n",
              "      <td>100.0</td>\n",
              "      <td>100</td>\n",
              "      <td>57.5</td>\n",
              "      <td>8.13</td>\n",
              "      <td>440.83</td>\n",
              "    </tr>\n",
              "    <tr>\n",
              "      <th>25</th>\n",
              "      <td>FRED</td>\n",
              "      <td>BLONSKY</td>\n",
              "      <td>FEMALE</td>\n",
              "      <td>100</td>\n",
              "      <td>100.00</td>\n",
              "      <td>97.5</td>\n",
              "      <td>60</td>\n",
              "      <td>87.0</td>\n",
              "      <td>8.24</td>\n",
              "      <td>444.50</td>\n",
              "    </tr>\n",
              "  </tbody>\n",
              "</table>\n",
              "</div>\n",
              "      <button class=\"colab-df-convert\" onclick=\"convertToInteractive('df-81c0fc6c-f5c6-49a4-a608-35f44d2e55bb')\"\n",
              "              title=\"Convert this dataframe to an interactive table.\"\n",
              "              style=\"display:none;\">\n",
              "        \n",
              "  <svg xmlns=\"http://www.w3.org/2000/svg\" height=\"24px\"viewBox=\"0 0 24 24\"\n",
              "       width=\"24px\">\n",
              "    <path d=\"M0 0h24v24H0V0z\" fill=\"none\"/>\n",
              "    <path d=\"M18.56 5.44l.94 2.06.94-2.06 2.06-.94-2.06-.94-.94-2.06-.94 2.06-2.06.94zm-11 1L8.5 8.5l.94-2.06 2.06-.94-2.06-.94L8.5 2.5l-.94 2.06-2.06.94zm10 10l.94 2.06.94-2.06 2.06-.94-2.06-.94-.94-2.06-.94 2.06-2.06.94z\"/><path d=\"M17.41 7.96l-1.37-1.37c-.4-.4-.92-.59-1.43-.59-.52 0-1.04.2-1.43.59L10.3 9.45l-7.72 7.72c-.78.78-.78 2.05 0 2.83L4 21.41c.39.39.9.59 1.41.59.51 0 1.02-.2 1.41-.59l7.78-7.78 2.81-2.81c.8-.78.8-2.07 0-2.86zM5.41 20L4 18.59l7.72-7.72 1.47 1.35L5.41 20z\"/>\n",
              "  </svg>\n",
              "      </button>\n",
              "      \n",
              "  <style>\n",
              "    .colab-df-container {\n",
              "      display:flex;\n",
              "      flex-wrap:wrap;\n",
              "      gap: 12px;\n",
              "    }\n",
              "\n",
              "    .colab-df-convert {\n",
              "      background-color: #E8F0FE;\n",
              "      border: none;\n",
              "      border-radius: 50%;\n",
              "      cursor: pointer;\n",
              "      display: none;\n",
              "      fill: #1967D2;\n",
              "      height: 32px;\n",
              "      padding: 0 0 0 0;\n",
              "      width: 32px;\n",
              "    }\n",
              "\n",
              "    .colab-df-convert:hover {\n",
              "      background-color: #E2EBFA;\n",
              "      box-shadow: 0px 1px 2px rgba(60, 64, 67, 0.3), 0px 1px 3px 1px rgba(60, 64, 67, 0.15);\n",
              "      fill: #174EA6;\n",
              "    }\n",
              "\n",
              "    [theme=dark] .colab-df-convert {\n",
              "      background-color: #3B4455;\n",
              "      fill: #D2E3FC;\n",
              "    }\n",
              "\n",
              "    [theme=dark] .colab-df-convert:hover {\n",
              "      background-color: #434B5C;\n",
              "      box-shadow: 0px 1px 3px 1px rgba(0, 0, 0, 0.15);\n",
              "      filter: drop-shadow(0px 1px 2px rgba(0, 0, 0, 0.3));\n",
              "      fill: #FFFFFF;\n",
              "    }\n",
              "  </style>\n",
              "\n",
              "      <script>\n",
              "        const buttonEl =\n",
              "          document.querySelector('#df-81c0fc6c-f5c6-49a4-a608-35f44d2e55bb button.colab-df-convert');\n",
              "        buttonEl.style.display =\n",
              "          google.colab.kernel.accessAllowed ? 'block' : 'none';\n",
              "\n",
              "        async function convertToInteractive(key) {\n",
              "          const element = document.querySelector('#df-81c0fc6c-f5c6-49a4-a608-35f44d2e55bb');\n",
              "          const dataTable =\n",
              "            await google.colab.kernel.invokeFunction('convertToInteractive',\n",
              "                                                     [key], {});\n",
              "          if (!dataTable) return;\n",
              "\n",
              "          const docLinkHtml = 'Like what you see? Visit the ' +\n",
              "            '<a target=\"_blank\" href=https://colab.research.google.com/notebooks/data_table.ipynb>data table notebook</a>'\n",
              "            + ' to learn more about interactive tables.';\n",
              "          element.innerHTML = '';\n",
              "          dataTable['output_type'] = 'display_data';\n",
              "          await google.colab.output.renderOutput(dataTable, element);\n",
              "          const docLink = document.createElement('div');\n",
              "          docLink.innerHTML = docLinkHtml;\n",
              "          element.appendChild(docLink);\n",
              "        }\n",
              "      </script>\n",
              "    </div>\n",
              "  </div>\n",
              "  "
            ]
          },
          "metadata": {},
          "execution_count": 4
        }
      ]
    },
    {
      "cell_type": "code",
      "source": [
        "df[(df['GENDER']=='FEMALE') |  (df['TOTAL']>=300)]  # and condition"
      ],
      "metadata": {
        "colab": {
          "base_uri": "https://localhost:8080/",
          "height": 739
        },
        "id": "xjujoOobTjJC",
        "outputId": "5f21e3f9-6f8e-4f1a-c40c-46d2636610f3"
      },
      "execution_count": 5,
      "outputs": [
        {
          "output_type": "execute_result",
          "data": {
            "text/plain": [
              "   FIRST NAME  LAST NAME  GENDER  MATH  ENGLISH  BIOLOGY  ECONOMICS  AGRIC  \\\n",
              "0      ATTAH       OPPOR    MALE    75   100.00    100.0         55   77.0   \n",
              "1       IMRAN      ROFID  FEMALE    70    33.33    100.0         55   97.5   \n",
              "2       JAMES      WALLY    MALE    80     0.00     85.0         68  100.0   \n",
              "3    PICHARDS     GODWIN  FEMALE    60    60.00    100.0         92   67.0   \n",
              "4     SUCCESS       KUDA    MALE   100    90.00     80.0         53   72.5   \n",
              "5       FLINT  AYEMOJUBA  FEMALE    75    96.67     92.5         62   59.5   \n",
              "6      KIEKIE   APAOKAGI  FEMALE    85    50.00     90.0         70   67.5   \n",
              "7      ANGELA       PAUL    MALE    90    70.00      0.0         74   82.5   \n",
              "8     BALDWIN     KOSOKO    MALE   100    63.33     57.5         85   61.0   \n",
              "10       KING      SUNNY    MALE    75   100.00     62.5         95   22.5   \n",
              "11     KASADY     DOREDO  FEMALE   100    66.67     75.0         75   73.5   \n",
              "12     SHAGGI   ROSELINA  FEMALE   100   100.00     72.5        100   97.5   \n",
              "13      MILES     EDWARD    MALE    50    86.67     50.0        100   61.5   \n",
              "15      JONES     JORDAN    MALE   100    96.67     97.5         95   98.5   \n",
              "16    PATRICK     ALECIA  FEMALE   100    50.00    100.0         35   27.5   \n",
              "19      JONES   ANGELICA  FEMALE    80    83.33     85.0         45   52.5   \n",
              "20       EMIL    FOSWELL  FEMALE    80    80.00     80.0         80   80.0   \n",
              "21    PATRICK       SUYA    MALE    45    73.33     75.0         80   76.5   \n",
              "22      KENNY     BENTYL  FEMALE   100    83.33    100.0        100   57.5   \n",
              "23      HENRY    FREDRIC    MALE   100    93.33     72.5         70   50.0   \n",
              "24     FREAKY      STEVE    MALE    95    70.00    100.0         65   78.0   \n",
              "25       FRED    BLONSKY  FEMALE   100   100.00     97.5         60   87.0   \n",
              "\n",
              "    INTELIGENCE   TOTAL  \n",
              "0          7.61  407.00  \n",
              "1          7.73  355.83  \n",
              "2          7.72  333.00  \n",
              "3          7.84  379.00  \n",
              "4          7.09  395.50  \n",
              "5          6.97  385.67  \n",
              "6          7.08  362.50  \n",
              "7          6.67  316.50  \n",
              "8          6.99  366.83  \n",
              "10         6.06  355.00  \n",
              "11         7.48  390.17  \n",
              "12         9.49  470.00  \n",
              "13         7.33  348.17  \n",
              "15         9.72  487.67  \n",
              "16         4.65  312.50  \n",
              "19         5.96  345.83  \n",
              "20         8.00  400.00  \n",
              "21         7.54  349.83  \n",
              "22         8.13  440.83  \n",
              "23         6.62  385.83  \n",
              "24         7.75  408.00  \n",
              "25         8.24  444.50  "
            ],
            "text/html": [
              "\n",
              "  <div id=\"df-3ec03f1b-59a5-40de-8d66-83d588fab026\">\n",
              "    <div class=\"colab-df-container\">\n",
              "      <div>\n",
              "<style scoped>\n",
              "    .dataframe tbody tr th:only-of-type {\n",
              "        vertical-align: middle;\n",
              "    }\n",
              "\n",
              "    .dataframe tbody tr th {\n",
              "        vertical-align: top;\n",
              "    }\n",
              "\n",
              "    .dataframe thead th {\n",
              "        text-align: right;\n",
              "    }\n",
              "</style>\n",
              "<table border=\"1\" class=\"dataframe\">\n",
              "  <thead>\n",
              "    <tr style=\"text-align: right;\">\n",
              "      <th></th>\n",
              "      <th>FIRST NAME</th>\n",
              "      <th>LAST NAME</th>\n",
              "      <th>GENDER</th>\n",
              "      <th>MATH</th>\n",
              "      <th>ENGLISH</th>\n",
              "      <th>BIOLOGY</th>\n",
              "      <th>ECONOMICS</th>\n",
              "      <th>AGRIC</th>\n",
              "      <th>INTELIGENCE</th>\n",
              "      <th>TOTAL</th>\n",
              "    </tr>\n",
              "  </thead>\n",
              "  <tbody>\n",
              "    <tr>\n",
              "      <th>0</th>\n",
              "      <td>ATTAH</td>\n",
              "      <td>OPPOR</td>\n",
              "      <td>MALE</td>\n",
              "      <td>75</td>\n",
              "      <td>100.00</td>\n",
              "      <td>100.0</td>\n",
              "      <td>55</td>\n",
              "      <td>77.0</td>\n",
              "      <td>7.61</td>\n",
              "      <td>407.00</td>\n",
              "    </tr>\n",
              "    <tr>\n",
              "      <th>1</th>\n",
              "      <td>IMRAN</td>\n",
              "      <td>ROFID</td>\n",
              "      <td>FEMALE</td>\n",
              "      <td>70</td>\n",
              "      <td>33.33</td>\n",
              "      <td>100.0</td>\n",
              "      <td>55</td>\n",
              "      <td>97.5</td>\n",
              "      <td>7.73</td>\n",
              "      <td>355.83</td>\n",
              "    </tr>\n",
              "    <tr>\n",
              "      <th>2</th>\n",
              "      <td>JAMES</td>\n",
              "      <td>WALLY</td>\n",
              "      <td>MALE</td>\n",
              "      <td>80</td>\n",
              "      <td>0.00</td>\n",
              "      <td>85.0</td>\n",
              "      <td>68</td>\n",
              "      <td>100.0</td>\n",
              "      <td>7.72</td>\n",
              "      <td>333.00</td>\n",
              "    </tr>\n",
              "    <tr>\n",
              "      <th>3</th>\n",
              "      <td>PICHARDS</td>\n",
              "      <td>GODWIN</td>\n",
              "      <td>FEMALE</td>\n",
              "      <td>60</td>\n",
              "      <td>60.00</td>\n",
              "      <td>100.0</td>\n",
              "      <td>92</td>\n",
              "      <td>67.0</td>\n",
              "      <td>7.84</td>\n",
              "      <td>379.00</td>\n",
              "    </tr>\n",
              "    <tr>\n",
              "      <th>4</th>\n",
              "      <td>SUCCESS</td>\n",
              "      <td>KUDA</td>\n",
              "      <td>MALE</td>\n",
              "      <td>100</td>\n",
              "      <td>90.00</td>\n",
              "      <td>80.0</td>\n",
              "      <td>53</td>\n",
              "      <td>72.5</td>\n",
              "      <td>7.09</td>\n",
              "      <td>395.50</td>\n",
              "    </tr>\n",
              "    <tr>\n",
              "      <th>5</th>\n",
              "      <td>FLINT</td>\n",
              "      <td>AYEMOJUBA</td>\n",
              "      <td>FEMALE</td>\n",
              "      <td>75</td>\n",
              "      <td>96.67</td>\n",
              "      <td>92.5</td>\n",
              "      <td>62</td>\n",
              "      <td>59.5</td>\n",
              "      <td>6.97</td>\n",
              "      <td>385.67</td>\n",
              "    </tr>\n",
              "    <tr>\n",
              "      <th>6</th>\n",
              "      <td>KIEKIE</td>\n",
              "      <td>APAOKAGI</td>\n",
              "      <td>FEMALE</td>\n",
              "      <td>85</td>\n",
              "      <td>50.00</td>\n",
              "      <td>90.0</td>\n",
              "      <td>70</td>\n",
              "      <td>67.5</td>\n",
              "      <td>7.08</td>\n",
              "      <td>362.50</td>\n",
              "    </tr>\n",
              "    <tr>\n",
              "      <th>7</th>\n",
              "      <td>ANGELA</td>\n",
              "      <td>PAUL</td>\n",
              "      <td>MALE</td>\n",
              "      <td>90</td>\n",
              "      <td>70.00</td>\n",
              "      <td>0.0</td>\n",
              "      <td>74</td>\n",
              "      <td>82.5</td>\n",
              "      <td>6.67</td>\n",
              "      <td>316.50</td>\n",
              "    </tr>\n",
              "    <tr>\n",
              "      <th>8</th>\n",
              "      <td>BALDWIN</td>\n",
              "      <td>KOSOKO</td>\n",
              "      <td>MALE</td>\n",
              "      <td>100</td>\n",
              "      <td>63.33</td>\n",
              "      <td>57.5</td>\n",
              "      <td>85</td>\n",
              "      <td>61.0</td>\n",
              "      <td>6.99</td>\n",
              "      <td>366.83</td>\n",
              "    </tr>\n",
              "    <tr>\n",
              "      <th>10</th>\n",
              "      <td>KING</td>\n",
              "      <td>SUNNY</td>\n",
              "      <td>MALE</td>\n",
              "      <td>75</td>\n",
              "      <td>100.00</td>\n",
              "      <td>62.5</td>\n",
              "      <td>95</td>\n",
              "      <td>22.5</td>\n",
              "      <td>6.06</td>\n",
              "      <td>355.00</td>\n",
              "    </tr>\n",
              "    <tr>\n",
              "      <th>11</th>\n",
              "      <td>KASADY</td>\n",
              "      <td>DOREDO</td>\n",
              "      <td>FEMALE</td>\n",
              "      <td>100</td>\n",
              "      <td>66.67</td>\n",
              "      <td>75.0</td>\n",
              "      <td>75</td>\n",
              "      <td>73.5</td>\n",
              "      <td>7.48</td>\n",
              "      <td>390.17</td>\n",
              "    </tr>\n",
              "    <tr>\n",
              "      <th>12</th>\n",
              "      <td>SHAGGI</td>\n",
              "      <td>ROSELINA</td>\n",
              "      <td>FEMALE</td>\n",
              "      <td>100</td>\n",
              "      <td>100.00</td>\n",
              "      <td>72.5</td>\n",
              "      <td>100</td>\n",
              "      <td>97.5</td>\n",
              "      <td>9.49</td>\n",
              "      <td>470.00</td>\n",
              "    </tr>\n",
              "    <tr>\n",
              "      <th>13</th>\n",
              "      <td>MILES</td>\n",
              "      <td>EDWARD</td>\n",
              "      <td>MALE</td>\n",
              "      <td>50</td>\n",
              "      <td>86.67</td>\n",
              "      <td>50.0</td>\n",
              "      <td>100</td>\n",
              "      <td>61.5</td>\n",
              "      <td>7.33</td>\n",
              "      <td>348.17</td>\n",
              "    </tr>\n",
              "    <tr>\n",
              "      <th>15</th>\n",
              "      <td>JONES</td>\n",
              "      <td>JORDAN</td>\n",
              "      <td>MALE</td>\n",
              "      <td>100</td>\n",
              "      <td>96.67</td>\n",
              "      <td>97.5</td>\n",
              "      <td>95</td>\n",
              "      <td>98.5</td>\n",
              "      <td>9.72</td>\n",
              "      <td>487.67</td>\n",
              "    </tr>\n",
              "    <tr>\n",
              "      <th>16</th>\n",
              "      <td>PATRICK</td>\n",
              "      <td>ALECIA</td>\n",
              "      <td>FEMALE</td>\n",
              "      <td>100</td>\n",
              "      <td>50.00</td>\n",
              "      <td>100.0</td>\n",
              "      <td>35</td>\n",
              "      <td>27.5</td>\n",
              "      <td>4.65</td>\n",
              "      <td>312.50</td>\n",
              "    </tr>\n",
              "    <tr>\n",
              "      <th>19</th>\n",
              "      <td>JONES</td>\n",
              "      <td>ANGELICA</td>\n",
              "      <td>FEMALE</td>\n",
              "      <td>80</td>\n",
              "      <td>83.33</td>\n",
              "      <td>85.0</td>\n",
              "      <td>45</td>\n",
              "      <td>52.5</td>\n",
              "      <td>5.96</td>\n",
              "      <td>345.83</td>\n",
              "    </tr>\n",
              "    <tr>\n",
              "      <th>20</th>\n",
              "      <td>EMIL</td>\n",
              "      <td>FOSWELL</td>\n",
              "      <td>FEMALE</td>\n",
              "      <td>80</td>\n",
              "      <td>80.00</td>\n",
              "      <td>80.0</td>\n",
              "      <td>80</td>\n",
              "      <td>80.0</td>\n",
              "      <td>8.00</td>\n",
              "      <td>400.00</td>\n",
              "    </tr>\n",
              "    <tr>\n",
              "      <th>21</th>\n",
              "      <td>PATRICK</td>\n",
              "      <td>SUYA</td>\n",
              "      <td>MALE</td>\n",
              "      <td>45</td>\n",
              "      <td>73.33</td>\n",
              "      <td>75.0</td>\n",
              "      <td>80</td>\n",
              "      <td>76.5</td>\n",
              "      <td>7.54</td>\n",
              "      <td>349.83</td>\n",
              "    </tr>\n",
              "    <tr>\n",
              "      <th>22</th>\n",
              "      <td>KENNY</td>\n",
              "      <td>BENTYL</td>\n",
              "      <td>FEMALE</td>\n",
              "      <td>100</td>\n",
              "      <td>83.33</td>\n",
              "      <td>100.0</td>\n",
              "      <td>100</td>\n",
              "      <td>57.5</td>\n",
              "      <td>8.13</td>\n",
              "      <td>440.83</td>\n",
              "    </tr>\n",
              "    <tr>\n",
              "      <th>23</th>\n",
              "      <td>HENRY</td>\n",
              "      <td>FREDRIC</td>\n",
              "      <td>MALE</td>\n",
              "      <td>100</td>\n",
              "      <td>93.33</td>\n",
              "      <td>72.5</td>\n",
              "      <td>70</td>\n",
              "      <td>50.0</td>\n",
              "      <td>6.62</td>\n",
              "      <td>385.83</td>\n",
              "    </tr>\n",
              "    <tr>\n",
              "      <th>24</th>\n",
              "      <td>FREAKY</td>\n",
              "      <td>STEVE</td>\n",
              "      <td>MALE</td>\n",
              "      <td>95</td>\n",
              "      <td>70.00</td>\n",
              "      <td>100.0</td>\n",
              "      <td>65</td>\n",
              "      <td>78.0</td>\n",
              "      <td>7.75</td>\n",
              "      <td>408.00</td>\n",
              "    </tr>\n",
              "    <tr>\n",
              "      <th>25</th>\n",
              "      <td>FRED</td>\n",
              "      <td>BLONSKY</td>\n",
              "      <td>FEMALE</td>\n",
              "      <td>100</td>\n",
              "      <td>100.00</td>\n",
              "      <td>97.5</td>\n",
              "      <td>60</td>\n",
              "      <td>87.0</td>\n",
              "      <td>8.24</td>\n",
              "      <td>444.50</td>\n",
              "    </tr>\n",
              "  </tbody>\n",
              "</table>\n",
              "</div>\n",
              "      <button class=\"colab-df-convert\" onclick=\"convertToInteractive('df-3ec03f1b-59a5-40de-8d66-83d588fab026')\"\n",
              "              title=\"Convert this dataframe to an interactive table.\"\n",
              "              style=\"display:none;\">\n",
              "        \n",
              "  <svg xmlns=\"http://www.w3.org/2000/svg\" height=\"24px\"viewBox=\"0 0 24 24\"\n",
              "       width=\"24px\">\n",
              "    <path d=\"M0 0h24v24H0V0z\" fill=\"none\"/>\n",
              "    <path d=\"M18.56 5.44l.94 2.06.94-2.06 2.06-.94-2.06-.94-.94-2.06-.94 2.06-2.06.94zm-11 1L8.5 8.5l.94-2.06 2.06-.94-2.06-.94L8.5 2.5l-.94 2.06-2.06.94zm10 10l.94 2.06.94-2.06 2.06-.94-2.06-.94-.94-2.06-.94 2.06-2.06.94z\"/><path d=\"M17.41 7.96l-1.37-1.37c-.4-.4-.92-.59-1.43-.59-.52 0-1.04.2-1.43.59L10.3 9.45l-7.72 7.72c-.78.78-.78 2.05 0 2.83L4 21.41c.39.39.9.59 1.41.59.51 0 1.02-.2 1.41-.59l7.78-7.78 2.81-2.81c.8-.78.8-2.07 0-2.86zM5.41 20L4 18.59l7.72-7.72 1.47 1.35L5.41 20z\"/>\n",
              "  </svg>\n",
              "      </button>\n",
              "      \n",
              "  <style>\n",
              "    .colab-df-container {\n",
              "      display:flex;\n",
              "      flex-wrap:wrap;\n",
              "      gap: 12px;\n",
              "    }\n",
              "\n",
              "    .colab-df-convert {\n",
              "      background-color: #E8F0FE;\n",
              "      border: none;\n",
              "      border-radius: 50%;\n",
              "      cursor: pointer;\n",
              "      display: none;\n",
              "      fill: #1967D2;\n",
              "      height: 32px;\n",
              "      padding: 0 0 0 0;\n",
              "      width: 32px;\n",
              "    }\n",
              "\n",
              "    .colab-df-convert:hover {\n",
              "      background-color: #E2EBFA;\n",
              "      box-shadow: 0px 1px 2px rgba(60, 64, 67, 0.3), 0px 1px 3px 1px rgba(60, 64, 67, 0.15);\n",
              "      fill: #174EA6;\n",
              "    }\n",
              "\n",
              "    [theme=dark] .colab-df-convert {\n",
              "      background-color: #3B4455;\n",
              "      fill: #D2E3FC;\n",
              "    }\n",
              "\n",
              "    [theme=dark] .colab-df-convert:hover {\n",
              "      background-color: #434B5C;\n",
              "      box-shadow: 0px 1px 3px 1px rgba(0, 0, 0, 0.15);\n",
              "      filter: drop-shadow(0px 1px 2px rgba(0, 0, 0, 0.3));\n",
              "      fill: #FFFFFF;\n",
              "    }\n",
              "  </style>\n",
              "\n",
              "      <script>\n",
              "        const buttonEl =\n",
              "          document.querySelector('#df-3ec03f1b-59a5-40de-8d66-83d588fab026 button.colab-df-convert');\n",
              "        buttonEl.style.display =\n",
              "          google.colab.kernel.accessAllowed ? 'block' : 'none';\n",
              "\n",
              "        async function convertToInteractive(key) {\n",
              "          const element = document.querySelector('#df-3ec03f1b-59a5-40de-8d66-83d588fab026');\n",
              "          const dataTable =\n",
              "            await google.colab.kernel.invokeFunction('convertToInteractive',\n",
              "                                                     [key], {});\n",
              "          if (!dataTable) return;\n",
              "\n",
              "          const docLinkHtml = 'Like what you see? Visit the ' +\n",
              "            '<a target=\"_blank\" href=https://colab.research.google.com/notebooks/data_table.ipynb>data table notebook</a>'\n",
              "            + ' to learn more about interactive tables.';\n",
              "          element.innerHTML = '';\n",
              "          dataTable['output_type'] = 'display_data';\n",
              "          await google.colab.output.renderOutput(dataTable, element);\n",
              "          const docLink = document.createElement('div');\n",
              "          docLink.innerHTML = docLinkHtml;\n",
              "          element.appendChild(docLink);\n",
              "        }\n",
              "      </script>\n",
              "    </div>\n",
              "  </div>\n",
              "  "
            ]
          },
          "metadata": {},
          "execution_count": 5
        }
      ]
    },
    {
      "cell_type": "code",
      "source": [
        "df['GENDER'] = df['GENDER'].replace({'MALE':'male', 'FEMALE':'female'})"
      ],
      "metadata": {
        "id": "GRTZiPMRyHh2"
      },
      "execution_count": 6,
      "outputs": []
    },
    {
      "cell_type": "code",
      "source": [
        "df"
      ],
      "metadata": {
        "colab": {
          "base_uri": "https://localhost:8080/",
          "height": 864
        },
        "id": "BYFGIVYPUDDC",
        "outputId": "a647b521-8e05-40e5-8aa6-cb86ab4349b7"
      },
      "execution_count": 7,
      "outputs": [
        {
          "output_type": "execute_result",
          "data": {
            "text/plain": [
              "   FIRST NAME  LAST NAME  GENDER  MATH  ENGLISH  BIOLOGY  ECONOMICS  AGRIC  \\\n",
              "0      ATTAH       OPPOR    male    75   100.00    100.0         55   77.0   \n",
              "1       IMRAN      ROFID  female    70    33.33    100.0         55   97.5   \n",
              "2       JAMES      WALLY    male    80     0.00     85.0         68  100.0   \n",
              "3    PICHARDS     GODWIN  female    60    60.00    100.0         92   67.0   \n",
              "4     SUCCESS       KUDA    male   100    90.00     80.0         53   72.5   \n",
              "5       FLINT  AYEMOJUBA  female    75    96.67     92.5         62   59.5   \n",
              "6      KIEKIE   APAOKAGI  female    85    50.00     90.0         70   67.5   \n",
              "7      ANGELA       PAUL    male    90    70.00      0.0         74   82.5   \n",
              "8     BALDWIN     KOSOKO    male   100    63.33     57.5         85   61.0   \n",
              "9      CREED      VICTOR    male    85    56.67     55.0         56   14.5   \n",
              "10       KING      SUNNY    male    75   100.00     62.5         95   22.5   \n",
              "11     KASADY     DOREDO  female   100    66.67     75.0         75   73.5   \n",
              "12     SHAGGI   ROSELINA  female   100   100.00     72.5        100   97.5   \n",
              "13      MILES     EDWARD    male    50    86.67     50.0        100   61.5   \n",
              "14   RODERICK   KINGSLEY    male     0   100.00     60.0         83   27.5   \n",
              "15      JONES     JORDAN    male   100    96.67     97.5         95   98.5   \n",
              "16    PATRICK     ALECIA  female   100    50.00    100.0         35   27.5   \n",
              "17     FAMOUS      AYUBA    male    50    76.67     77.5         40   21.5   \n",
              "18      HENRY      GORGE    male    85    56.67     55.0         56   14.5   \n",
              "19      JONES   ANGELICA  female    80    83.33     85.0         45   52.5   \n",
              "20       EMIL    FOSWELL  female    80    80.00     80.0         80   80.0   \n",
              "21    PATRICK       SUYA    male    45    73.33     75.0         80   76.5   \n",
              "22      KENNY     BENTYL  female   100    83.33    100.0        100   57.5   \n",
              "23      HENRY    FREDRIC    male   100    93.33     72.5         70   50.0   \n",
              "24     FREAKY      STEVE    male    95    70.00    100.0         65   78.0   \n",
              "25       FRED    BLONSKY  female   100   100.00     97.5         60   87.0   \n",
              "\n",
              "    INTELIGENCE   TOTAL  \n",
              "0          7.61  407.00  \n",
              "1          7.73  355.83  \n",
              "2          7.72  333.00  \n",
              "3          7.84  379.00  \n",
              "4          7.09  395.50  \n",
              "5          6.97  385.67  \n",
              "6          7.08  362.50  \n",
              "7          6.67  316.50  \n",
              "8          6.99  366.83  \n",
              "9          4.08  267.17  \n",
              "10         6.06  355.00  \n",
              "11         7.48  390.17  \n",
              "12         9.49  470.00  \n",
              "13         7.33  348.17  \n",
              "14         5.49  270.50  \n",
              "15         9.72  487.67  \n",
              "16         4.65  312.50  \n",
              "17         4.24  265.67  \n",
              "18         4.08  267.17  \n",
              "19         5.96  345.83  \n",
              "20         8.00  400.00  \n",
              "21         7.54  349.83  \n",
              "22         8.13  440.83  \n",
              "23         6.62  385.83  \n",
              "24         7.75  408.00  \n",
              "25         8.24  444.50  "
            ],
            "text/html": [
              "\n",
              "  <div id=\"df-bd4c43b9-f1f9-43af-ac96-06b350902f43\">\n",
              "    <div class=\"colab-df-container\">\n",
              "      <div>\n",
              "<style scoped>\n",
              "    .dataframe tbody tr th:only-of-type {\n",
              "        vertical-align: middle;\n",
              "    }\n",
              "\n",
              "    .dataframe tbody tr th {\n",
              "        vertical-align: top;\n",
              "    }\n",
              "\n",
              "    .dataframe thead th {\n",
              "        text-align: right;\n",
              "    }\n",
              "</style>\n",
              "<table border=\"1\" class=\"dataframe\">\n",
              "  <thead>\n",
              "    <tr style=\"text-align: right;\">\n",
              "      <th></th>\n",
              "      <th>FIRST NAME</th>\n",
              "      <th>LAST NAME</th>\n",
              "      <th>GENDER</th>\n",
              "      <th>MATH</th>\n",
              "      <th>ENGLISH</th>\n",
              "      <th>BIOLOGY</th>\n",
              "      <th>ECONOMICS</th>\n",
              "      <th>AGRIC</th>\n",
              "      <th>INTELIGENCE</th>\n",
              "      <th>TOTAL</th>\n",
              "    </tr>\n",
              "  </thead>\n",
              "  <tbody>\n",
              "    <tr>\n",
              "      <th>0</th>\n",
              "      <td>ATTAH</td>\n",
              "      <td>OPPOR</td>\n",
              "      <td>male</td>\n",
              "      <td>75</td>\n",
              "      <td>100.00</td>\n",
              "      <td>100.0</td>\n",
              "      <td>55</td>\n",
              "      <td>77.0</td>\n",
              "      <td>7.61</td>\n",
              "      <td>407.00</td>\n",
              "    </tr>\n",
              "    <tr>\n",
              "      <th>1</th>\n",
              "      <td>IMRAN</td>\n",
              "      <td>ROFID</td>\n",
              "      <td>female</td>\n",
              "      <td>70</td>\n",
              "      <td>33.33</td>\n",
              "      <td>100.0</td>\n",
              "      <td>55</td>\n",
              "      <td>97.5</td>\n",
              "      <td>7.73</td>\n",
              "      <td>355.83</td>\n",
              "    </tr>\n",
              "    <tr>\n",
              "      <th>2</th>\n",
              "      <td>JAMES</td>\n",
              "      <td>WALLY</td>\n",
              "      <td>male</td>\n",
              "      <td>80</td>\n",
              "      <td>0.00</td>\n",
              "      <td>85.0</td>\n",
              "      <td>68</td>\n",
              "      <td>100.0</td>\n",
              "      <td>7.72</td>\n",
              "      <td>333.00</td>\n",
              "    </tr>\n",
              "    <tr>\n",
              "      <th>3</th>\n",
              "      <td>PICHARDS</td>\n",
              "      <td>GODWIN</td>\n",
              "      <td>female</td>\n",
              "      <td>60</td>\n",
              "      <td>60.00</td>\n",
              "      <td>100.0</td>\n",
              "      <td>92</td>\n",
              "      <td>67.0</td>\n",
              "      <td>7.84</td>\n",
              "      <td>379.00</td>\n",
              "    </tr>\n",
              "    <tr>\n",
              "      <th>4</th>\n",
              "      <td>SUCCESS</td>\n",
              "      <td>KUDA</td>\n",
              "      <td>male</td>\n",
              "      <td>100</td>\n",
              "      <td>90.00</td>\n",
              "      <td>80.0</td>\n",
              "      <td>53</td>\n",
              "      <td>72.5</td>\n",
              "      <td>7.09</td>\n",
              "      <td>395.50</td>\n",
              "    </tr>\n",
              "    <tr>\n",
              "      <th>5</th>\n",
              "      <td>FLINT</td>\n",
              "      <td>AYEMOJUBA</td>\n",
              "      <td>female</td>\n",
              "      <td>75</td>\n",
              "      <td>96.67</td>\n",
              "      <td>92.5</td>\n",
              "      <td>62</td>\n",
              "      <td>59.5</td>\n",
              "      <td>6.97</td>\n",
              "      <td>385.67</td>\n",
              "    </tr>\n",
              "    <tr>\n",
              "      <th>6</th>\n",
              "      <td>KIEKIE</td>\n",
              "      <td>APAOKAGI</td>\n",
              "      <td>female</td>\n",
              "      <td>85</td>\n",
              "      <td>50.00</td>\n",
              "      <td>90.0</td>\n",
              "      <td>70</td>\n",
              "      <td>67.5</td>\n",
              "      <td>7.08</td>\n",
              "      <td>362.50</td>\n",
              "    </tr>\n",
              "    <tr>\n",
              "      <th>7</th>\n",
              "      <td>ANGELA</td>\n",
              "      <td>PAUL</td>\n",
              "      <td>male</td>\n",
              "      <td>90</td>\n",
              "      <td>70.00</td>\n",
              "      <td>0.0</td>\n",
              "      <td>74</td>\n",
              "      <td>82.5</td>\n",
              "      <td>6.67</td>\n",
              "      <td>316.50</td>\n",
              "    </tr>\n",
              "    <tr>\n",
              "      <th>8</th>\n",
              "      <td>BALDWIN</td>\n",
              "      <td>KOSOKO</td>\n",
              "      <td>male</td>\n",
              "      <td>100</td>\n",
              "      <td>63.33</td>\n",
              "      <td>57.5</td>\n",
              "      <td>85</td>\n",
              "      <td>61.0</td>\n",
              "      <td>6.99</td>\n",
              "      <td>366.83</td>\n",
              "    </tr>\n",
              "    <tr>\n",
              "      <th>9</th>\n",
              "      <td>CREED</td>\n",
              "      <td>VICTOR</td>\n",
              "      <td>male</td>\n",
              "      <td>85</td>\n",
              "      <td>56.67</td>\n",
              "      <td>55.0</td>\n",
              "      <td>56</td>\n",
              "      <td>14.5</td>\n",
              "      <td>4.08</td>\n",
              "      <td>267.17</td>\n",
              "    </tr>\n",
              "    <tr>\n",
              "      <th>10</th>\n",
              "      <td>KING</td>\n",
              "      <td>SUNNY</td>\n",
              "      <td>male</td>\n",
              "      <td>75</td>\n",
              "      <td>100.00</td>\n",
              "      <td>62.5</td>\n",
              "      <td>95</td>\n",
              "      <td>22.5</td>\n",
              "      <td>6.06</td>\n",
              "      <td>355.00</td>\n",
              "    </tr>\n",
              "    <tr>\n",
              "      <th>11</th>\n",
              "      <td>KASADY</td>\n",
              "      <td>DOREDO</td>\n",
              "      <td>female</td>\n",
              "      <td>100</td>\n",
              "      <td>66.67</td>\n",
              "      <td>75.0</td>\n",
              "      <td>75</td>\n",
              "      <td>73.5</td>\n",
              "      <td>7.48</td>\n",
              "      <td>390.17</td>\n",
              "    </tr>\n",
              "    <tr>\n",
              "      <th>12</th>\n",
              "      <td>SHAGGI</td>\n",
              "      <td>ROSELINA</td>\n",
              "      <td>female</td>\n",
              "      <td>100</td>\n",
              "      <td>100.00</td>\n",
              "      <td>72.5</td>\n",
              "      <td>100</td>\n",
              "      <td>97.5</td>\n",
              "      <td>9.49</td>\n",
              "      <td>470.00</td>\n",
              "    </tr>\n",
              "    <tr>\n",
              "      <th>13</th>\n",
              "      <td>MILES</td>\n",
              "      <td>EDWARD</td>\n",
              "      <td>male</td>\n",
              "      <td>50</td>\n",
              "      <td>86.67</td>\n",
              "      <td>50.0</td>\n",
              "      <td>100</td>\n",
              "      <td>61.5</td>\n",
              "      <td>7.33</td>\n",
              "      <td>348.17</td>\n",
              "    </tr>\n",
              "    <tr>\n",
              "      <th>14</th>\n",
              "      <td>RODERICK</td>\n",
              "      <td>KINGSLEY</td>\n",
              "      <td>male</td>\n",
              "      <td>0</td>\n",
              "      <td>100.00</td>\n",
              "      <td>60.0</td>\n",
              "      <td>83</td>\n",
              "      <td>27.5</td>\n",
              "      <td>5.49</td>\n",
              "      <td>270.50</td>\n",
              "    </tr>\n",
              "    <tr>\n",
              "      <th>15</th>\n",
              "      <td>JONES</td>\n",
              "      <td>JORDAN</td>\n",
              "      <td>male</td>\n",
              "      <td>100</td>\n",
              "      <td>96.67</td>\n",
              "      <td>97.5</td>\n",
              "      <td>95</td>\n",
              "      <td>98.5</td>\n",
              "      <td>9.72</td>\n",
              "      <td>487.67</td>\n",
              "    </tr>\n",
              "    <tr>\n",
              "      <th>16</th>\n",
              "      <td>PATRICK</td>\n",
              "      <td>ALECIA</td>\n",
              "      <td>female</td>\n",
              "      <td>100</td>\n",
              "      <td>50.00</td>\n",
              "      <td>100.0</td>\n",
              "      <td>35</td>\n",
              "      <td>27.5</td>\n",
              "      <td>4.65</td>\n",
              "      <td>312.50</td>\n",
              "    </tr>\n",
              "    <tr>\n",
              "      <th>17</th>\n",
              "      <td>FAMOUS</td>\n",
              "      <td>AYUBA</td>\n",
              "      <td>male</td>\n",
              "      <td>50</td>\n",
              "      <td>76.67</td>\n",
              "      <td>77.5</td>\n",
              "      <td>40</td>\n",
              "      <td>21.5</td>\n",
              "      <td>4.24</td>\n",
              "      <td>265.67</td>\n",
              "    </tr>\n",
              "    <tr>\n",
              "      <th>18</th>\n",
              "      <td>HENRY</td>\n",
              "      <td>GORGE</td>\n",
              "      <td>male</td>\n",
              "      <td>85</td>\n",
              "      <td>56.67</td>\n",
              "      <td>55.0</td>\n",
              "      <td>56</td>\n",
              "      <td>14.5</td>\n",
              "      <td>4.08</td>\n",
              "      <td>267.17</td>\n",
              "    </tr>\n",
              "    <tr>\n",
              "      <th>19</th>\n",
              "      <td>JONES</td>\n",
              "      <td>ANGELICA</td>\n",
              "      <td>female</td>\n",
              "      <td>80</td>\n",
              "      <td>83.33</td>\n",
              "      <td>85.0</td>\n",
              "      <td>45</td>\n",
              "      <td>52.5</td>\n",
              "      <td>5.96</td>\n",
              "      <td>345.83</td>\n",
              "    </tr>\n",
              "    <tr>\n",
              "      <th>20</th>\n",
              "      <td>EMIL</td>\n",
              "      <td>FOSWELL</td>\n",
              "      <td>female</td>\n",
              "      <td>80</td>\n",
              "      <td>80.00</td>\n",
              "      <td>80.0</td>\n",
              "      <td>80</td>\n",
              "      <td>80.0</td>\n",
              "      <td>8.00</td>\n",
              "      <td>400.00</td>\n",
              "    </tr>\n",
              "    <tr>\n",
              "      <th>21</th>\n",
              "      <td>PATRICK</td>\n",
              "      <td>SUYA</td>\n",
              "      <td>male</td>\n",
              "      <td>45</td>\n",
              "      <td>73.33</td>\n",
              "      <td>75.0</td>\n",
              "      <td>80</td>\n",
              "      <td>76.5</td>\n",
              "      <td>7.54</td>\n",
              "      <td>349.83</td>\n",
              "    </tr>\n",
              "    <tr>\n",
              "      <th>22</th>\n",
              "      <td>KENNY</td>\n",
              "      <td>BENTYL</td>\n",
              "      <td>female</td>\n",
              "      <td>100</td>\n",
              "      <td>83.33</td>\n",
              "      <td>100.0</td>\n",
              "      <td>100</td>\n",
              "      <td>57.5</td>\n",
              "      <td>8.13</td>\n",
              "      <td>440.83</td>\n",
              "    </tr>\n",
              "    <tr>\n",
              "      <th>23</th>\n",
              "      <td>HENRY</td>\n",
              "      <td>FREDRIC</td>\n",
              "      <td>male</td>\n",
              "      <td>100</td>\n",
              "      <td>93.33</td>\n",
              "      <td>72.5</td>\n",
              "      <td>70</td>\n",
              "      <td>50.0</td>\n",
              "      <td>6.62</td>\n",
              "      <td>385.83</td>\n",
              "    </tr>\n",
              "    <tr>\n",
              "      <th>24</th>\n",
              "      <td>FREAKY</td>\n",
              "      <td>STEVE</td>\n",
              "      <td>male</td>\n",
              "      <td>95</td>\n",
              "      <td>70.00</td>\n",
              "      <td>100.0</td>\n",
              "      <td>65</td>\n",
              "      <td>78.0</td>\n",
              "      <td>7.75</td>\n",
              "      <td>408.00</td>\n",
              "    </tr>\n",
              "    <tr>\n",
              "      <th>25</th>\n",
              "      <td>FRED</td>\n",
              "      <td>BLONSKY</td>\n",
              "      <td>female</td>\n",
              "      <td>100</td>\n",
              "      <td>100.00</td>\n",
              "      <td>97.5</td>\n",
              "      <td>60</td>\n",
              "      <td>87.0</td>\n",
              "      <td>8.24</td>\n",
              "      <td>444.50</td>\n",
              "    </tr>\n",
              "  </tbody>\n",
              "</table>\n",
              "</div>\n",
              "      <button class=\"colab-df-convert\" onclick=\"convertToInteractive('df-bd4c43b9-f1f9-43af-ac96-06b350902f43')\"\n",
              "              title=\"Convert this dataframe to an interactive table.\"\n",
              "              style=\"display:none;\">\n",
              "        \n",
              "  <svg xmlns=\"http://www.w3.org/2000/svg\" height=\"24px\"viewBox=\"0 0 24 24\"\n",
              "       width=\"24px\">\n",
              "    <path d=\"M0 0h24v24H0V0z\" fill=\"none\"/>\n",
              "    <path d=\"M18.56 5.44l.94 2.06.94-2.06 2.06-.94-2.06-.94-.94-2.06-.94 2.06-2.06.94zm-11 1L8.5 8.5l.94-2.06 2.06-.94-2.06-.94L8.5 2.5l-.94 2.06-2.06.94zm10 10l.94 2.06.94-2.06 2.06-.94-2.06-.94-.94-2.06-.94 2.06-2.06.94z\"/><path d=\"M17.41 7.96l-1.37-1.37c-.4-.4-.92-.59-1.43-.59-.52 0-1.04.2-1.43.59L10.3 9.45l-7.72 7.72c-.78.78-.78 2.05 0 2.83L4 21.41c.39.39.9.59 1.41.59.51 0 1.02-.2 1.41-.59l7.78-7.78 2.81-2.81c.8-.78.8-2.07 0-2.86zM5.41 20L4 18.59l7.72-7.72 1.47 1.35L5.41 20z\"/>\n",
              "  </svg>\n",
              "      </button>\n",
              "      \n",
              "  <style>\n",
              "    .colab-df-container {\n",
              "      display:flex;\n",
              "      flex-wrap:wrap;\n",
              "      gap: 12px;\n",
              "    }\n",
              "\n",
              "    .colab-df-convert {\n",
              "      background-color: #E8F0FE;\n",
              "      border: none;\n",
              "      border-radius: 50%;\n",
              "      cursor: pointer;\n",
              "      display: none;\n",
              "      fill: #1967D2;\n",
              "      height: 32px;\n",
              "      padding: 0 0 0 0;\n",
              "      width: 32px;\n",
              "    }\n",
              "\n",
              "    .colab-df-convert:hover {\n",
              "      background-color: #E2EBFA;\n",
              "      box-shadow: 0px 1px 2px rgba(60, 64, 67, 0.3), 0px 1px 3px 1px rgba(60, 64, 67, 0.15);\n",
              "      fill: #174EA6;\n",
              "    }\n",
              "\n",
              "    [theme=dark] .colab-df-convert {\n",
              "      background-color: #3B4455;\n",
              "      fill: #D2E3FC;\n",
              "    }\n",
              "\n",
              "    [theme=dark] .colab-df-convert:hover {\n",
              "      background-color: #434B5C;\n",
              "      box-shadow: 0px 1px 3px 1px rgba(0, 0, 0, 0.15);\n",
              "      filter: drop-shadow(0px 1px 2px rgba(0, 0, 0, 0.3));\n",
              "      fill: #FFFFFF;\n",
              "    }\n",
              "  </style>\n",
              "\n",
              "      <script>\n",
              "        const buttonEl =\n",
              "          document.querySelector('#df-bd4c43b9-f1f9-43af-ac96-06b350902f43 button.colab-df-convert');\n",
              "        buttonEl.style.display =\n",
              "          google.colab.kernel.accessAllowed ? 'block' : 'none';\n",
              "\n",
              "        async function convertToInteractive(key) {\n",
              "          const element = document.querySelector('#df-bd4c43b9-f1f9-43af-ac96-06b350902f43');\n",
              "          const dataTable =\n",
              "            await google.colab.kernel.invokeFunction('convertToInteractive',\n",
              "                                                     [key], {});\n",
              "          if (!dataTable) return;\n",
              "\n",
              "          const docLinkHtml = 'Like what you see? Visit the ' +\n",
              "            '<a target=\"_blank\" href=https://colab.research.google.com/notebooks/data_table.ipynb>data table notebook</a>'\n",
              "            + ' to learn more about interactive tables.';\n",
              "          element.innerHTML = '';\n",
              "          dataTable['output_type'] = 'display_data';\n",
              "          await google.colab.output.renderOutput(dataTable, element);\n",
              "          const docLink = document.createElement('div');\n",
              "          docLink.innerHTML = docLinkHtml;\n",
              "          element.appendChild(docLink);\n",
              "        }\n",
              "      </script>\n",
              "    </div>\n",
              "  </div>\n",
              "  "
            ]
          },
          "metadata": {},
          "execution_count": 7
        }
      ]
    },
    {
      "cell_type": "code",
      "source": [
        "df.columns"
      ],
      "metadata": {
        "colab": {
          "base_uri": "https://localhost:8080/"
        },
        "id": "u7Os6GD_UYdS",
        "outputId": "f60ae445-e00b-41aa-990b-cd5fec19abe2"
      },
      "execution_count": 8,
      "outputs": [
        {
          "output_type": "execute_result",
          "data": {
            "text/plain": [
              "Index(['FIRST NAME', 'LAST NAME', 'GENDER', 'MATH', 'ENGLISH', 'BIOLOGY',\n",
              "       'ECONOMICS', 'AGRIC', 'INTELIGENCE', 'TOTAL'],\n",
              "      dtype='object')"
            ]
          },
          "metadata": {},
          "execution_count": 8
        }
      ]
    },
    {
      "cell_type": "code",
      "source": [
        "df.columns"
      ],
      "metadata": {
        "colab": {
          "base_uri": "https://localhost:8080/"
        },
        "id": "57w9RDSyhs-p",
        "outputId": "cd4dec08-ee02-4fd8-8715-b12ae996b039"
      },
      "execution_count": 9,
      "outputs": [
        {
          "output_type": "execute_result",
          "data": {
            "text/plain": [
              "Index(['FIRST NAME', 'LAST NAME', 'GENDER', 'MATH', 'ENGLISH', 'BIOLOGY',\n",
              "       'ECONOMICS', 'AGRIC', 'INTELIGENCE', 'TOTAL'],\n",
              "      dtype='object')"
            ]
          },
          "metadata": {},
          "execution_count": 9
        }
      ]
    },
    {
      "cell_type": "code",
      "source": [
        "# df.columns = ['FIRST NAME', 'LAST NAME', 'GENDER', 'MATH', 'ENGLISH', 'BIOLOGY',\n",
        "#        'ECONOMICS', 'AGRIC', 'INTELIGENCE', 'TOTAL']"
      ],
      "metadata": {
        "id": "oP7z2u7eh_RD"
      },
      "execution_count": 10,
      "outputs": []
    },
    {
      "cell_type": "code",
      "source": [
        "# df"
      ],
      "metadata": {
        "id": "A0FDJlYxiVa2"
      },
      "execution_count": 11,
      "outputs": []
    },
    {
      "cell_type": "code",
      "source": [
        "# rename columns\n",
        "df.rename(columns={'FIRST NAME': 'first_name', 'LAST NAME':'last_name', 'GENDER':'gender', 'MATH':'maths', 'ENGLISH':'english', \n",
        "                   'BIOLOGY':'biology', 'ECONOMICS':'economics', 'AGRIC':'agric', 'INTELIGENCE':'intelligence', 'TOTAL':'total'}, inplace=True)"
      ],
      "metadata": {
        "id": "gRmCeA8kxknb"
      },
      "execution_count": 12,
      "outputs": []
    },
    {
      "cell_type": "code",
      "source": [
        "df"
      ],
      "metadata": {
        "colab": {
          "base_uri": "https://localhost:8080/",
          "height": 864
        },
        "id": "NfRDDXsHVCxN",
        "outputId": "f3faf911-d921-4f82-b395-e2c48763d71f"
      },
      "execution_count": 13,
      "outputs": [
        {
          "output_type": "execute_result",
          "data": {
            "text/plain": [
              "   first_name  last_name  gender  maths  english  biology  economics  agric  \\\n",
              "0      ATTAH       OPPOR    male     75   100.00    100.0         55   77.0   \n",
              "1       IMRAN      ROFID  female     70    33.33    100.0         55   97.5   \n",
              "2       JAMES      WALLY    male     80     0.00     85.0         68  100.0   \n",
              "3    PICHARDS     GODWIN  female     60    60.00    100.0         92   67.0   \n",
              "4     SUCCESS       KUDA    male    100    90.00     80.0         53   72.5   \n",
              "5       FLINT  AYEMOJUBA  female     75    96.67     92.5         62   59.5   \n",
              "6      KIEKIE   APAOKAGI  female     85    50.00     90.0         70   67.5   \n",
              "7      ANGELA       PAUL    male     90    70.00      0.0         74   82.5   \n",
              "8     BALDWIN     KOSOKO    male    100    63.33     57.5         85   61.0   \n",
              "9      CREED      VICTOR    male     85    56.67     55.0         56   14.5   \n",
              "10       KING      SUNNY    male     75   100.00     62.5         95   22.5   \n",
              "11     KASADY     DOREDO  female    100    66.67     75.0         75   73.5   \n",
              "12     SHAGGI   ROSELINA  female    100   100.00     72.5        100   97.5   \n",
              "13      MILES     EDWARD    male     50    86.67     50.0        100   61.5   \n",
              "14   RODERICK   KINGSLEY    male      0   100.00     60.0         83   27.5   \n",
              "15      JONES     JORDAN    male    100    96.67     97.5         95   98.5   \n",
              "16    PATRICK     ALECIA  female    100    50.00    100.0         35   27.5   \n",
              "17     FAMOUS      AYUBA    male     50    76.67     77.5         40   21.5   \n",
              "18      HENRY      GORGE    male     85    56.67     55.0         56   14.5   \n",
              "19      JONES   ANGELICA  female     80    83.33     85.0         45   52.5   \n",
              "20       EMIL    FOSWELL  female     80    80.00     80.0         80   80.0   \n",
              "21    PATRICK       SUYA    male     45    73.33     75.0         80   76.5   \n",
              "22      KENNY     BENTYL  female    100    83.33    100.0        100   57.5   \n",
              "23      HENRY    FREDRIC    male    100    93.33     72.5         70   50.0   \n",
              "24     FREAKY      STEVE    male     95    70.00    100.0         65   78.0   \n",
              "25       FRED    BLONSKY  female    100   100.00     97.5         60   87.0   \n",
              "\n",
              "    intelligence   total  \n",
              "0           7.61  407.00  \n",
              "1           7.73  355.83  \n",
              "2           7.72  333.00  \n",
              "3           7.84  379.00  \n",
              "4           7.09  395.50  \n",
              "5           6.97  385.67  \n",
              "6           7.08  362.50  \n",
              "7           6.67  316.50  \n",
              "8           6.99  366.83  \n",
              "9           4.08  267.17  \n",
              "10          6.06  355.00  \n",
              "11          7.48  390.17  \n",
              "12          9.49  470.00  \n",
              "13          7.33  348.17  \n",
              "14          5.49  270.50  \n",
              "15          9.72  487.67  \n",
              "16          4.65  312.50  \n",
              "17          4.24  265.67  \n",
              "18          4.08  267.17  \n",
              "19          5.96  345.83  \n",
              "20          8.00  400.00  \n",
              "21          7.54  349.83  \n",
              "22          8.13  440.83  \n",
              "23          6.62  385.83  \n",
              "24          7.75  408.00  \n",
              "25          8.24  444.50  "
            ],
            "text/html": [
              "\n",
              "  <div id=\"df-5350281d-e437-494a-b670-4f17bca6d1bb\">\n",
              "    <div class=\"colab-df-container\">\n",
              "      <div>\n",
              "<style scoped>\n",
              "    .dataframe tbody tr th:only-of-type {\n",
              "        vertical-align: middle;\n",
              "    }\n",
              "\n",
              "    .dataframe tbody tr th {\n",
              "        vertical-align: top;\n",
              "    }\n",
              "\n",
              "    .dataframe thead th {\n",
              "        text-align: right;\n",
              "    }\n",
              "</style>\n",
              "<table border=\"1\" class=\"dataframe\">\n",
              "  <thead>\n",
              "    <tr style=\"text-align: right;\">\n",
              "      <th></th>\n",
              "      <th>first_name</th>\n",
              "      <th>last_name</th>\n",
              "      <th>gender</th>\n",
              "      <th>maths</th>\n",
              "      <th>english</th>\n",
              "      <th>biology</th>\n",
              "      <th>economics</th>\n",
              "      <th>agric</th>\n",
              "      <th>intelligence</th>\n",
              "      <th>total</th>\n",
              "    </tr>\n",
              "  </thead>\n",
              "  <tbody>\n",
              "    <tr>\n",
              "      <th>0</th>\n",
              "      <td>ATTAH</td>\n",
              "      <td>OPPOR</td>\n",
              "      <td>male</td>\n",
              "      <td>75</td>\n",
              "      <td>100.00</td>\n",
              "      <td>100.0</td>\n",
              "      <td>55</td>\n",
              "      <td>77.0</td>\n",
              "      <td>7.61</td>\n",
              "      <td>407.00</td>\n",
              "    </tr>\n",
              "    <tr>\n",
              "      <th>1</th>\n",
              "      <td>IMRAN</td>\n",
              "      <td>ROFID</td>\n",
              "      <td>female</td>\n",
              "      <td>70</td>\n",
              "      <td>33.33</td>\n",
              "      <td>100.0</td>\n",
              "      <td>55</td>\n",
              "      <td>97.5</td>\n",
              "      <td>7.73</td>\n",
              "      <td>355.83</td>\n",
              "    </tr>\n",
              "    <tr>\n",
              "      <th>2</th>\n",
              "      <td>JAMES</td>\n",
              "      <td>WALLY</td>\n",
              "      <td>male</td>\n",
              "      <td>80</td>\n",
              "      <td>0.00</td>\n",
              "      <td>85.0</td>\n",
              "      <td>68</td>\n",
              "      <td>100.0</td>\n",
              "      <td>7.72</td>\n",
              "      <td>333.00</td>\n",
              "    </tr>\n",
              "    <tr>\n",
              "      <th>3</th>\n",
              "      <td>PICHARDS</td>\n",
              "      <td>GODWIN</td>\n",
              "      <td>female</td>\n",
              "      <td>60</td>\n",
              "      <td>60.00</td>\n",
              "      <td>100.0</td>\n",
              "      <td>92</td>\n",
              "      <td>67.0</td>\n",
              "      <td>7.84</td>\n",
              "      <td>379.00</td>\n",
              "    </tr>\n",
              "    <tr>\n",
              "      <th>4</th>\n",
              "      <td>SUCCESS</td>\n",
              "      <td>KUDA</td>\n",
              "      <td>male</td>\n",
              "      <td>100</td>\n",
              "      <td>90.00</td>\n",
              "      <td>80.0</td>\n",
              "      <td>53</td>\n",
              "      <td>72.5</td>\n",
              "      <td>7.09</td>\n",
              "      <td>395.50</td>\n",
              "    </tr>\n",
              "    <tr>\n",
              "      <th>5</th>\n",
              "      <td>FLINT</td>\n",
              "      <td>AYEMOJUBA</td>\n",
              "      <td>female</td>\n",
              "      <td>75</td>\n",
              "      <td>96.67</td>\n",
              "      <td>92.5</td>\n",
              "      <td>62</td>\n",
              "      <td>59.5</td>\n",
              "      <td>6.97</td>\n",
              "      <td>385.67</td>\n",
              "    </tr>\n",
              "    <tr>\n",
              "      <th>6</th>\n",
              "      <td>KIEKIE</td>\n",
              "      <td>APAOKAGI</td>\n",
              "      <td>female</td>\n",
              "      <td>85</td>\n",
              "      <td>50.00</td>\n",
              "      <td>90.0</td>\n",
              "      <td>70</td>\n",
              "      <td>67.5</td>\n",
              "      <td>7.08</td>\n",
              "      <td>362.50</td>\n",
              "    </tr>\n",
              "    <tr>\n",
              "      <th>7</th>\n",
              "      <td>ANGELA</td>\n",
              "      <td>PAUL</td>\n",
              "      <td>male</td>\n",
              "      <td>90</td>\n",
              "      <td>70.00</td>\n",
              "      <td>0.0</td>\n",
              "      <td>74</td>\n",
              "      <td>82.5</td>\n",
              "      <td>6.67</td>\n",
              "      <td>316.50</td>\n",
              "    </tr>\n",
              "    <tr>\n",
              "      <th>8</th>\n",
              "      <td>BALDWIN</td>\n",
              "      <td>KOSOKO</td>\n",
              "      <td>male</td>\n",
              "      <td>100</td>\n",
              "      <td>63.33</td>\n",
              "      <td>57.5</td>\n",
              "      <td>85</td>\n",
              "      <td>61.0</td>\n",
              "      <td>6.99</td>\n",
              "      <td>366.83</td>\n",
              "    </tr>\n",
              "    <tr>\n",
              "      <th>9</th>\n",
              "      <td>CREED</td>\n",
              "      <td>VICTOR</td>\n",
              "      <td>male</td>\n",
              "      <td>85</td>\n",
              "      <td>56.67</td>\n",
              "      <td>55.0</td>\n",
              "      <td>56</td>\n",
              "      <td>14.5</td>\n",
              "      <td>4.08</td>\n",
              "      <td>267.17</td>\n",
              "    </tr>\n",
              "    <tr>\n",
              "      <th>10</th>\n",
              "      <td>KING</td>\n",
              "      <td>SUNNY</td>\n",
              "      <td>male</td>\n",
              "      <td>75</td>\n",
              "      <td>100.00</td>\n",
              "      <td>62.5</td>\n",
              "      <td>95</td>\n",
              "      <td>22.5</td>\n",
              "      <td>6.06</td>\n",
              "      <td>355.00</td>\n",
              "    </tr>\n",
              "    <tr>\n",
              "      <th>11</th>\n",
              "      <td>KASADY</td>\n",
              "      <td>DOREDO</td>\n",
              "      <td>female</td>\n",
              "      <td>100</td>\n",
              "      <td>66.67</td>\n",
              "      <td>75.0</td>\n",
              "      <td>75</td>\n",
              "      <td>73.5</td>\n",
              "      <td>7.48</td>\n",
              "      <td>390.17</td>\n",
              "    </tr>\n",
              "    <tr>\n",
              "      <th>12</th>\n",
              "      <td>SHAGGI</td>\n",
              "      <td>ROSELINA</td>\n",
              "      <td>female</td>\n",
              "      <td>100</td>\n",
              "      <td>100.00</td>\n",
              "      <td>72.5</td>\n",
              "      <td>100</td>\n",
              "      <td>97.5</td>\n",
              "      <td>9.49</td>\n",
              "      <td>470.00</td>\n",
              "    </tr>\n",
              "    <tr>\n",
              "      <th>13</th>\n",
              "      <td>MILES</td>\n",
              "      <td>EDWARD</td>\n",
              "      <td>male</td>\n",
              "      <td>50</td>\n",
              "      <td>86.67</td>\n",
              "      <td>50.0</td>\n",
              "      <td>100</td>\n",
              "      <td>61.5</td>\n",
              "      <td>7.33</td>\n",
              "      <td>348.17</td>\n",
              "    </tr>\n",
              "    <tr>\n",
              "      <th>14</th>\n",
              "      <td>RODERICK</td>\n",
              "      <td>KINGSLEY</td>\n",
              "      <td>male</td>\n",
              "      <td>0</td>\n",
              "      <td>100.00</td>\n",
              "      <td>60.0</td>\n",
              "      <td>83</td>\n",
              "      <td>27.5</td>\n",
              "      <td>5.49</td>\n",
              "      <td>270.50</td>\n",
              "    </tr>\n",
              "    <tr>\n",
              "      <th>15</th>\n",
              "      <td>JONES</td>\n",
              "      <td>JORDAN</td>\n",
              "      <td>male</td>\n",
              "      <td>100</td>\n",
              "      <td>96.67</td>\n",
              "      <td>97.5</td>\n",
              "      <td>95</td>\n",
              "      <td>98.5</td>\n",
              "      <td>9.72</td>\n",
              "      <td>487.67</td>\n",
              "    </tr>\n",
              "    <tr>\n",
              "      <th>16</th>\n",
              "      <td>PATRICK</td>\n",
              "      <td>ALECIA</td>\n",
              "      <td>female</td>\n",
              "      <td>100</td>\n",
              "      <td>50.00</td>\n",
              "      <td>100.0</td>\n",
              "      <td>35</td>\n",
              "      <td>27.5</td>\n",
              "      <td>4.65</td>\n",
              "      <td>312.50</td>\n",
              "    </tr>\n",
              "    <tr>\n",
              "      <th>17</th>\n",
              "      <td>FAMOUS</td>\n",
              "      <td>AYUBA</td>\n",
              "      <td>male</td>\n",
              "      <td>50</td>\n",
              "      <td>76.67</td>\n",
              "      <td>77.5</td>\n",
              "      <td>40</td>\n",
              "      <td>21.5</td>\n",
              "      <td>4.24</td>\n",
              "      <td>265.67</td>\n",
              "    </tr>\n",
              "    <tr>\n",
              "      <th>18</th>\n",
              "      <td>HENRY</td>\n",
              "      <td>GORGE</td>\n",
              "      <td>male</td>\n",
              "      <td>85</td>\n",
              "      <td>56.67</td>\n",
              "      <td>55.0</td>\n",
              "      <td>56</td>\n",
              "      <td>14.5</td>\n",
              "      <td>4.08</td>\n",
              "      <td>267.17</td>\n",
              "    </tr>\n",
              "    <tr>\n",
              "      <th>19</th>\n",
              "      <td>JONES</td>\n",
              "      <td>ANGELICA</td>\n",
              "      <td>female</td>\n",
              "      <td>80</td>\n",
              "      <td>83.33</td>\n",
              "      <td>85.0</td>\n",
              "      <td>45</td>\n",
              "      <td>52.5</td>\n",
              "      <td>5.96</td>\n",
              "      <td>345.83</td>\n",
              "    </tr>\n",
              "    <tr>\n",
              "      <th>20</th>\n",
              "      <td>EMIL</td>\n",
              "      <td>FOSWELL</td>\n",
              "      <td>female</td>\n",
              "      <td>80</td>\n",
              "      <td>80.00</td>\n",
              "      <td>80.0</td>\n",
              "      <td>80</td>\n",
              "      <td>80.0</td>\n",
              "      <td>8.00</td>\n",
              "      <td>400.00</td>\n",
              "    </tr>\n",
              "    <tr>\n",
              "      <th>21</th>\n",
              "      <td>PATRICK</td>\n",
              "      <td>SUYA</td>\n",
              "      <td>male</td>\n",
              "      <td>45</td>\n",
              "      <td>73.33</td>\n",
              "      <td>75.0</td>\n",
              "      <td>80</td>\n",
              "      <td>76.5</td>\n",
              "      <td>7.54</td>\n",
              "      <td>349.83</td>\n",
              "    </tr>\n",
              "    <tr>\n",
              "      <th>22</th>\n",
              "      <td>KENNY</td>\n",
              "      <td>BENTYL</td>\n",
              "      <td>female</td>\n",
              "      <td>100</td>\n",
              "      <td>83.33</td>\n",
              "      <td>100.0</td>\n",
              "      <td>100</td>\n",
              "      <td>57.5</td>\n",
              "      <td>8.13</td>\n",
              "      <td>440.83</td>\n",
              "    </tr>\n",
              "    <tr>\n",
              "      <th>23</th>\n",
              "      <td>HENRY</td>\n",
              "      <td>FREDRIC</td>\n",
              "      <td>male</td>\n",
              "      <td>100</td>\n",
              "      <td>93.33</td>\n",
              "      <td>72.5</td>\n",
              "      <td>70</td>\n",
              "      <td>50.0</td>\n",
              "      <td>6.62</td>\n",
              "      <td>385.83</td>\n",
              "    </tr>\n",
              "    <tr>\n",
              "      <th>24</th>\n",
              "      <td>FREAKY</td>\n",
              "      <td>STEVE</td>\n",
              "      <td>male</td>\n",
              "      <td>95</td>\n",
              "      <td>70.00</td>\n",
              "      <td>100.0</td>\n",
              "      <td>65</td>\n",
              "      <td>78.0</td>\n",
              "      <td>7.75</td>\n",
              "      <td>408.00</td>\n",
              "    </tr>\n",
              "    <tr>\n",
              "      <th>25</th>\n",
              "      <td>FRED</td>\n",
              "      <td>BLONSKY</td>\n",
              "      <td>female</td>\n",
              "      <td>100</td>\n",
              "      <td>100.00</td>\n",
              "      <td>97.5</td>\n",
              "      <td>60</td>\n",
              "      <td>87.0</td>\n",
              "      <td>8.24</td>\n",
              "      <td>444.50</td>\n",
              "    </tr>\n",
              "  </tbody>\n",
              "</table>\n",
              "</div>\n",
              "      <button class=\"colab-df-convert\" onclick=\"convertToInteractive('df-5350281d-e437-494a-b670-4f17bca6d1bb')\"\n",
              "              title=\"Convert this dataframe to an interactive table.\"\n",
              "              style=\"display:none;\">\n",
              "        \n",
              "  <svg xmlns=\"http://www.w3.org/2000/svg\" height=\"24px\"viewBox=\"0 0 24 24\"\n",
              "       width=\"24px\">\n",
              "    <path d=\"M0 0h24v24H0V0z\" fill=\"none\"/>\n",
              "    <path d=\"M18.56 5.44l.94 2.06.94-2.06 2.06-.94-2.06-.94-.94-2.06-.94 2.06-2.06.94zm-11 1L8.5 8.5l.94-2.06 2.06-.94-2.06-.94L8.5 2.5l-.94 2.06-2.06.94zm10 10l.94 2.06.94-2.06 2.06-.94-2.06-.94-.94-2.06-.94 2.06-2.06.94z\"/><path d=\"M17.41 7.96l-1.37-1.37c-.4-.4-.92-.59-1.43-.59-.52 0-1.04.2-1.43.59L10.3 9.45l-7.72 7.72c-.78.78-.78 2.05 0 2.83L4 21.41c.39.39.9.59 1.41.59.51 0 1.02-.2 1.41-.59l7.78-7.78 2.81-2.81c.8-.78.8-2.07 0-2.86zM5.41 20L4 18.59l7.72-7.72 1.47 1.35L5.41 20z\"/>\n",
              "  </svg>\n",
              "      </button>\n",
              "      \n",
              "  <style>\n",
              "    .colab-df-container {\n",
              "      display:flex;\n",
              "      flex-wrap:wrap;\n",
              "      gap: 12px;\n",
              "    }\n",
              "\n",
              "    .colab-df-convert {\n",
              "      background-color: #E8F0FE;\n",
              "      border: none;\n",
              "      border-radius: 50%;\n",
              "      cursor: pointer;\n",
              "      display: none;\n",
              "      fill: #1967D2;\n",
              "      height: 32px;\n",
              "      padding: 0 0 0 0;\n",
              "      width: 32px;\n",
              "    }\n",
              "\n",
              "    .colab-df-convert:hover {\n",
              "      background-color: #E2EBFA;\n",
              "      box-shadow: 0px 1px 2px rgba(60, 64, 67, 0.3), 0px 1px 3px 1px rgba(60, 64, 67, 0.15);\n",
              "      fill: #174EA6;\n",
              "    }\n",
              "\n",
              "    [theme=dark] .colab-df-convert {\n",
              "      background-color: #3B4455;\n",
              "      fill: #D2E3FC;\n",
              "    }\n",
              "\n",
              "    [theme=dark] .colab-df-convert:hover {\n",
              "      background-color: #434B5C;\n",
              "      box-shadow: 0px 1px 3px 1px rgba(0, 0, 0, 0.15);\n",
              "      filter: drop-shadow(0px 1px 2px rgba(0, 0, 0, 0.3));\n",
              "      fill: #FFFFFF;\n",
              "    }\n",
              "  </style>\n",
              "\n",
              "      <script>\n",
              "        const buttonEl =\n",
              "          document.querySelector('#df-5350281d-e437-494a-b670-4f17bca6d1bb button.colab-df-convert');\n",
              "        buttonEl.style.display =\n",
              "          google.colab.kernel.accessAllowed ? 'block' : 'none';\n",
              "\n",
              "        async function convertToInteractive(key) {\n",
              "          const element = document.querySelector('#df-5350281d-e437-494a-b670-4f17bca6d1bb');\n",
              "          const dataTable =\n",
              "            await google.colab.kernel.invokeFunction('convertToInteractive',\n",
              "                                                     [key], {});\n",
              "          if (!dataTable) return;\n",
              "\n",
              "          const docLinkHtml = 'Like what you see? Visit the ' +\n",
              "            '<a target=\"_blank\" href=https://colab.research.google.com/notebooks/data_table.ipynb>data table notebook</a>'\n",
              "            + ' to learn more about interactive tables.';\n",
              "          element.innerHTML = '';\n",
              "          dataTable['output_type'] = 'display_data';\n",
              "          await google.colab.output.renderOutput(dataTable, element);\n",
              "          const docLink = document.createElement('div');\n",
              "          docLink.innerHTML = docLinkHtml;\n",
              "          element.appendChild(docLink);\n",
              "        }\n",
              "      </script>\n",
              "    </div>\n",
              "  </div>\n",
              "  "
            ]
          },
          "metadata": {},
          "execution_count": 13
        }
      ]
    },
    {
      "cell_type": "code",
      "source": [
        "for col in df.columns:\n",
        "  col = col.title()"
      ],
      "metadata": {
        "id": "2LLpsmo2VL33"
      },
      "execution_count": 14,
      "outputs": []
    },
    {
      "cell_type": "code",
      "source": [
        "df.groupby('gender')['total'].mean()"
      ],
      "metadata": {
        "colab": {
          "base_uri": "https://localhost:8080/"
        },
        "id": "IkZh1qui1TxW",
        "outputId": "2edc2553-0615-4577-c096-5e2ff6d008f2"
      },
      "execution_count": 16,
      "outputs": [
        {
          "output_type": "execute_result",
          "data": {
            "text/plain": [
              "gender\n",
              "female    389.711818\n",
              "male      348.256000\n",
              "Name: total, dtype: float64"
            ]
          },
          "metadata": {},
          "execution_count": 16
        }
      ]
    },
    {
      "cell_type": "markdown",
      "source": [
        "##  Varibles\n",
        "\n",
        "Numerical/Quantitative - continuous, descrete\n",
        "\n",
        "Categorical/Qualitative - ordinal, nominal"
      ],
      "metadata": {
        "id": "9plwgjKDzyYm"
      }
    },
    {
      "cell_type": "markdown",
      "source": [
        "## Data Visualization"
      ],
      "metadata": {
        "id": "ZlO1Sw4oYw5J"
      }
    },
    {
      "cell_type": "markdown",
      "source": [
        "Pandas\n",
        "\n",
        "Matplotlib\n",
        "\n",
        "Seaborn\n",
        "\n",
        "barchart, histogram, distplot, countplot, violinplot, \n",
        "\n",
        "Subplots\n",
        "\n",
        "labeling your plot"
      ],
      "metadata": {
        "id": "3zkHSWLQ9uI1"
      }
    },
    {
      "cell_type": "markdown",
      "source": [
        "## Pandas plot"
      ],
      "metadata": {
        "id": "1t1ZxVmE4Qu8"
      }
    },
    {
      "cell_type": "code",
      "source": [
        "df['gender'].value_counts().plot(kind='bar')"
      ],
      "metadata": {
        "id": "QkoXJxTU-qAt",
        "colab": {
          "base_uri": "https://localhost:8080/",
          "height": 308
        },
        "outputId": "55102466-5521-4403-fa33-051062466595"
      },
      "execution_count": 17,
      "outputs": [
        {
          "output_type": "execute_result",
          "data": {
            "text/plain": [
              "<matplotlib.axes._subplots.AxesSubplot at 0x7f01c3861e10>"
            ]
          },
          "metadata": {},
          "execution_count": 17
        },
        {
          "output_type": "display_data",
          "data": {
            "text/plain": [
              "<Figure size 432x288 with 1 Axes>"
            ],
            "image/png": "[encoded data removed]"
          },
          "metadata": {
            "needs_background": "light"
          }
        }
      ]
    },
    {
      "cell_type": "code",
      "source": [
        "df['gender'].value_counts().plot(kind='pie')"
      ],
      "metadata": {
        "colab": {
          "base_uri": "https://localhost:8080/",
          "height": 266
        },
        "id": "Qk6ji9HFZO73",
        "outputId": "e2d51ef8-1207-4815-dd4d-8af481e2ef9d"
      },
      "execution_count": 18,
      "outputs": [
        {
          "output_type": "execute_result",
          "data": {
            "text/plain": [
              "<matplotlib.axes._subplots.AxesSubplot at 0x7f01c3743290>"
            ]
          },
          "metadata": {},
          "execution_count": 18
        },
        {
          "output_type": "display_data",
          "data": {
            "text/plain": [
              "<Figure size 432x288 with 1 Axes>"
            ],
            "image/png": "[encoded data removed]"
          },
          "metadata": {}
        }
      ]
    },
    {
      "cell_type": "code",
      "source": [
        "df['maths'].value_counts().plot(kind='pie')"
      ],
      "metadata": {
        "id": "lOb8IqRh2YmU",
        "colab": {
          "base_uri": "https://localhost:8080/",
          "height": 266
        },
        "outputId": "8e678e13-e80a-439c-f01b-fc9fc4b1f662"
      },
      "execution_count": 19,
      "outputs": [
        {
          "output_type": "execute_result",
          "data": {
            "text/plain": [
              "<matplotlib.axes._subplots.AxesSubplot at 0x7f01c329ed50>"
            ]
          },
          "metadata": {},
          "execution_count": 19
        },
        {
          "output_type": "display_data",
          "data": {
            "text/plain": [
              "<Figure size 432x288 with 1 Axes>"
            ],
            "image/png": "[encoded data removed]"
          },
          "metadata": {}
        }
      ]
    },
    {
      "cell_type": "code",
      "source": [
        "df['maths'].value_counts()"
      ],
      "metadata": {
        "colab": {
          "base_uri": "https://localhost:8080/"
        },
        "id": "vWtlgxOJZspo",
        "outputId": "068e0ea7-ed42-4806-d2ea-e9851f8f78ed"
      },
      "execution_count": 20,
      "outputs": [
        {
          "output_type": "execute_result",
          "data": {
            "text/plain": [
              "100    9\n",
              "75     3\n",
              "80     3\n",
              "85     3\n",
              "50     2\n",
              "70     1\n",
              "60     1\n",
              "90     1\n",
              "0      1\n",
              "45     1\n",
              "95     1\n",
              "Name: maths, dtype: int64"
            ]
          },
          "metadata": {},
          "execution_count": 20
        }
      ]
    },
    {
      "cell_type": "code",
      "source": [
        "df['maths'].plot(kind='hist')"
      ],
      "metadata": {
        "id": "1j3RDnyF2Llc",
        "colab": {
          "base_uri": "https://localhost:8080/",
          "height": 284
        },
        "outputId": "96760a5a-f529-4ae8-8c52-3552beaa1a3d"
      },
      "execution_count": 21,
      "outputs": [
        {
          "output_type": "execute_result",
          "data": {
            "text/plain": [
              "<matplotlib.axes._subplots.AxesSubplot at 0x7f01c3226b50>"
            ]
          },
          "metadata": {},
          "execution_count": 21
        },
        {
          "output_type": "display_data",
          "data": {
            "text/plain": [
              "<Figure size 432x288 with 1 Axes>"
            ],
            "image/png": "[encoded data removed]"
          },
          "metadata": {
            "needs_background": "light"
          }
        }
      ]
    },
    {
      "cell_type": "code",
      "source": [
        "df['agric'].plot(kind='box')"
      ],
      "metadata": {
        "id": "vq8cZ43W3N9a",
        "colab": {
          "base_uri": "https://localhost:8080/",
          "height": 284
        },
        "outputId": "1ab1aec3-e2bb-4b9d-9ad3-a4ccc314d561"
      },
      "execution_count": 22,
      "outputs": [
        {
          "output_type": "execute_result",
          "data": {
            "text/plain": [
              "<matplotlib.axes._subplots.AxesSubplot at 0x7f01c312e910>"
            ]
          },
          "metadata": {},
          "execution_count": 22
        },
        {
          "output_type": "display_data",
          "data": {
            "text/plain": [
              "<Figure size 432x288 with 1 Axes>"
            ],
            "image/png": "[encoded data removed]"
          },
          "metadata": {
            "needs_background": "light"
          }
        }
      ]
    },
    {
      "cell_type": "code",
      "source": [
        "df['maths'].plot(kind='box')"
      ],
      "metadata": {
        "colab": {
          "base_uri": "https://localhost:8080/",
          "height": 284
        },
        "id": "Kc3Xm-O2aqa4",
        "outputId": "e8199e27-017a-4f6c-d0f2-a5f186630420"
      },
      "execution_count": 23,
      "outputs": [
        {
          "output_type": "execute_result",
          "data": {
            "text/plain": [
              "<matplotlib.axes._subplots.AxesSubplot at 0x7f01c3140d50>"
            ]
          },
          "metadata": {},
          "execution_count": 23
        },
        {
          "output_type": "display_data",
          "data": {
            "text/plain": [
              "<Figure size 432x288 with 1 Axes>"
            ],
            "image/png": "[encoded data removed]"
          },
          "metadata": {
            "needs_background": "light"
          }
        }
      ]
    },
    {
      "cell_type": "code",
      "source": [
        "df['english'].plot(kind='box')"
      ],
      "metadata": {
        "colab": {
          "base_uri": "https://localhost:8080/",
          "height": 284
        },
        "id": "sSCZw_xAa2lx",
        "outputId": "1798914c-8ad7-4c50-9af7-1d04d05a7e6d"
      },
      "execution_count": 24,
      "outputs": [
        {
          "output_type": "execute_result",
          "data": {
            "text/plain": [
              "<matplotlib.axes._subplots.AxesSubplot at 0x7f01c3083350>"
            ]
          },
          "metadata": {},
          "execution_count": 24
        },
        {
          "output_type": "display_data",
          "data": {
            "text/plain": [
              "<Figure size 432x288 with 1 Axes>"
            ],
            "image/png": "[encoded data removed]"
          },
          "metadata": {
            "needs_background": "light"
          }
        }
      ]
    },
    {
      "cell_type": "code",
      "source": [
        "df.describe().T"
      ],
      "metadata": {
        "colab": {
          "base_uri": "https://localhost:8080/",
          "height": 269
        },
        "id": "SZ6sW5mRaOE1",
        "outputId": "5e636fbf-fbb5-4125-dc84-74dee5506666"
      },
      "execution_count": 25,
      "outputs": [
        {
          "output_type": "execute_result",
          "data": {
            "text/plain": [
              "              count        mean        std     min       25%      50%  \\\n",
              "maths          26.0   80.000000  23.664319    0.00   75.0000   85.000   \n",
              "english        26.0   74.487308  24.238665    0.00   60.8325   78.335   \n",
              "biology        26.0   77.692308  22.901125    0.00   65.0000   80.000   \n",
              "economics      26.0   71.115385  19.089949   35.00   56.0000   70.000   \n",
              "agric          26.0   62.500000  26.835797   14.50   50.6250   67.250   \n",
              "intelligence   26.0    6.944615   1.488122    4.08    6.2000    7.210   \n",
              "total          26.0  365.795000  60.243182  265.67  336.2075  364.665   \n",
              "\n",
              "                  75%     max  \n",
              "maths         100.000  100.00  \n",
              "english        95.835  100.00  \n",
              "biology        97.500  100.00  \n",
              "economics      84.500  100.00  \n",
              "agric          79.500  100.00  \n",
              "intelligence    7.745    9.72  \n",
              "total         398.875  487.67  "
            ],
            "text/html": [
              "\n",
              "  <div id=\"df-6e1464e8-cc1a-41cb-a98a-5e878775e741\">\n",
              "    <div class=\"colab-df-container\">\n",
              "      <div>\n",
              "<style scoped>\n",
              "    .dataframe tbody tr th:only-of-type {\n",
              "        vertical-align: middle;\n",
              "    }\n",
              "\n",
              "    .dataframe tbody tr th {\n",
              "        vertical-align: top;\n",
              "    }\n",
              "\n",
              "    .dataframe thead th {\n",
              "        text-align: right;\n",
              "    }\n",
              "</style>\n",
              "<table border=\"1\" class=\"dataframe\">\n",
              "  <thead>\n",
              "    <tr style=\"text-align: right;\">\n",
              "      <th></th>\n",
              "      <th>count</th>\n",
              "      <th>mean</th>\n",
              "      <th>std</th>\n",
              "      <th>min</th>\n",
              "      <th>25%</th>\n",
              "      <th>50%</th>\n",
              "      <th>75%</th>\n",
              "      <th>max</th>\n",
              "    </tr>\n",
              "  </thead>\n",
              "  <tbody>\n",
              "    <tr>\n",
              "      <th>maths</th>\n",
              "      <td>26.0</td>\n",
              "      <td>80.000000</td>\n",
              "      <td>23.664319</td>\n",
              "      <td>0.00</td>\n",
              "      <td>75.0000</td>\n",
              "      <td>85.000</td>\n",
              "      <td>100.000</td>\n",
              "      <td>100.00</td>\n",
              "    </tr>\n",
              "    <tr>\n",
              "      <th>english</th>\n",
              "      <td>26.0</td>\n",
              "      <td>74.487308</td>\n",
              "      <td>24.238665</td>\n",
              "      <td>0.00</td>\n",
              "      <td>60.8325</td>\n",
              "      <td>78.335</td>\n",
              "      <td>95.835</td>\n",
              "      <td>100.00</td>\n",
              "    </tr>\n",
              "    <tr>\n",
              "      <th>biology</th>\n",
              "      <td>26.0</td>\n",
              "      <td>77.692308</td>\n",
              "      <td>22.901125</td>\n",
              "      <td>0.00</td>\n",
              "      <td>65.0000</td>\n",
              "      <td>80.000</td>\n",
              "      <td>97.500</td>\n",
              "      <td>100.00</td>\n",
              "    </tr>\n",
              "    <tr>\n",
              "      <th>economics</th>\n",
              "      <td>26.0</td>\n",
              "      <td>71.115385</td>\n",
              "      <td>19.089949</td>\n",
              "      <td>35.00</td>\n",
              "      <td>56.0000</td>\n",
              "      <td>70.000</td>\n",
              "      <td>84.500</td>\n",
              "      <td>100.00</td>\n",
              "    </tr>\n",
              "    <tr>\n",
              "      <th>agric</th>\n",
              "      <td>26.0</td>\n",
              "      <td>62.500000</td>\n",
              "      <td>26.835797</td>\n",
              "      <td>14.50</td>\n",
              "      <td>50.6250</td>\n",
              "      <td>67.250</td>\n",
              "      <td>79.500</td>\n",
              "      <td>100.00</td>\n",
              "    </tr>\n",
              "    <tr>\n",
              "      <th>intelligence</th>\n",
              "      <td>26.0</td>\n",
              "      <td>6.944615</td>\n",
              "      <td>1.488122</td>\n",
              "      <td>4.08</td>\n",
              "      <td>6.2000</td>\n",
              "      <td>7.210</td>\n",
              "      <td>7.745</td>\n",
              "      <td>9.72</td>\n",
              "    </tr>\n",
              "    <tr>\n",
              "      <th>total</th>\n",
              "      <td>26.0</td>\n",
              "      <td>365.795000</td>\n",
              "      <td>60.243182</td>\n",
              "      <td>265.67</td>\n",
              "      <td>336.2075</td>\n",
              "      <td>364.665</td>\n",
              "      <td>398.875</td>\n",
              "      <td>487.67</td>\n",
              "    </tr>\n",
              "  </tbody>\n",
              "</table>\n",
              "</div>\n",
              "      <button class=\"colab-df-convert\" onclick=\"convertToInteractive('df-6e1464e8-cc1a-41cb-a98a-5e878775e741')\"\n",
              "              title=\"Convert this dataframe to an interactive table.\"\n",
              "              style=\"display:none;\">\n",
              "        \n",
              "  <svg xmlns=\"http://www.w3.org/2000/svg\" height=\"24px\"viewBox=\"0 0 24 24\"\n",
              "       width=\"24px\">\n",
              "    <path d=\"M0 0h24v24H0V0z\" fill=\"none\"/>\n",
              "    <path d=\"M18.56 5.44l.94 2.06.94-2.06 2.06-.94-2.06-.94-.94-2.06-.94 2.06-2.06.94zm-11 1L8.5 8.5l.94-2.06 2.06-.94-2.06-.94L8.5 2.5l-.94 2.06-2.06.94zm10 10l.94 2.06.94-2.06 2.06-.94-2.06-.94-.94-2.06-.94 2.06-2.06.94z\"/><path d=\"M17.41 7.96l-1.37-1.37c-.4-.4-.92-.59-1.43-.59-.52 0-1.04.2-1.43.59L10.3 9.45l-7.72 7.72c-.78.78-.78 2.05 0 2.83L4 21.41c.39.39.9.59 1.41.59.51 0 1.02-.2 1.41-.59l7.78-7.78 2.81-2.81c.8-.78.8-2.07 0-2.86zM5.41 20L4 18.59l7.72-7.72 1.47 1.35L5.41 20z\"/>\n",
              "  </svg>\n",
              "      </button>\n",
              "      \n",
              "  <style>\n",
              "    .colab-df-container {\n",
              "      display:flex;\n",
              "      flex-wrap:wrap;\n",
              "      gap: 12px;\n",
              "    }\n",
              "\n",
              "    .colab-df-convert {\n",
              "      background-color: #E8F0FE;\n",
              "      border: none;\n",
              "      border-radius: 50%;\n",
              "      cursor: pointer;\n",
              "      display: none;\n",
              "      fill: #1967D2;\n",
              "      height: 32px;\n",
              "      padding: 0 0 0 0;\n",
              "      width: 32px;\n",
              "    }\n",
              "\n",
              "    .colab-df-convert:hover {\n",
              "      background-color: #E2EBFA;\n",
              "      box-shadow: 0px 1px 2px rgba(60, 64, 67, 0.3), 0px 1px 3px 1px rgba(60, 64, 67, 0.15);\n",
              "      fill: #174EA6;\n",
              "    }\n",
              "\n",
              "    [theme=dark] .colab-df-convert {\n",
              "      background-color: #3B4455;\n",
              "      fill: #D2E3FC;\n",
              "    }\n",
              "\n",
              "    [theme=dark] .colab-df-convert:hover {\n",
              "      background-color: #434B5C;\n",
              "      box-shadow: 0px 1px 3px 1px rgba(0, 0, 0, 0.15);\n",
              "      filter: drop-shadow(0px 1px 2px rgba(0, 0, 0, 0.3));\n",
              "      fill: #FFFFFF;\n",
              "    }\n",
              "  </style>\n",
              "\n",
              "      <script>\n",
              "        const buttonEl =\n",
              "          document.querySelector('#df-6e1464e8-cc1a-41cb-a98a-5e878775e741 button.colab-df-convert');\n",
              "        buttonEl.style.display =\n",
              "          google.colab.kernel.accessAllowed ? 'block' : 'none';\n",
              "\n",
              "        async function convertToInteractive(key) {\n",
              "          const element = document.querySelector('#df-6e1464e8-cc1a-41cb-a98a-5e878775e741');\n",
              "          const dataTable =\n",
              "            await google.colab.kernel.invokeFunction('convertToInteractive',\n",
              "                                                     [key], {});\n",
              "          if (!dataTable) return;\n",
              "\n",
              "          const docLinkHtml = 'Like what you see? Visit the ' +\n",
              "            '<a target=\"_blank\" href=https://colab.research.google.com/notebooks/data_table.ipynb>data table notebook</a>'\n",
              "            + ' to learn more about interactive tables.';\n",
              "          element.innerHTML = '';\n",
              "          dataTable['output_type'] = 'display_data';\n",
              "          await google.colab.output.renderOutput(dataTable, element);\n",
              "          const docLink = document.createElement('div');\n",
              "          docLink.innerHTML = docLinkHtml;\n",
              "          element.appendChild(docLink);\n",
              "        }\n",
              "      </script>\n",
              "    </div>\n",
              "  </div>\n",
              "  "
            ]
          },
          "metadata": {},
          "execution_count": 25
        }
      ]
    },
    {
      "cell_type": "code",
      "source": [
        "df.drop(['total', 'intelligence'], axis=1).plot.line()"
      ],
      "metadata": {
        "colab": {
          "base_uri": "https://localhost:8080/",
          "height": 284
        },
        "id": "jkbjyAOr5Ypd",
        "outputId": "cc8afa18-a2ba-41e4-f83e-0a8ad09809a7"
      },
      "execution_count": 26,
      "outputs": [
        {
          "output_type": "execute_result",
          "data": {
            "text/plain": [
              "<matplotlib.axes._subplots.AxesSubplot at 0x7f01c3092410>"
            ]
          },
          "metadata": {},
          "execution_count": 26
        },
        {
          "output_type": "display_data",
          "data": {
            "text/plain": [
              "<Figure size 432x288 with 1 Axes>"
            ],
            "image/png": "[encoded data removed]"
          },
          "metadata": {
            "needs_background": "light"
          }
        }
      ]
    },
    {
      "cell_type": "code",
      "source": [
        "import matplotlib.pyplot as plt\n",
        "%matplotlib inline\n",
        "import seaborn as sns\n",
        "sns.set_style('darkgrid')"
      ],
      "metadata": {
        "id": "-WU-RAgL6P8H"
      },
      "execution_count": 27,
      "outputs": []
    },
    {
      "cell_type": "code",
      "source": [
        "sns.histplot(df.maths)"
      ],
      "metadata": {
        "id": "Bo3Cf5Xv55A7",
        "colab": {
          "base_uri": "https://localhost:8080/",
          "height": 297
        },
        "outputId": "cc72d3c8-b5db-4af1-9f81-376b34a84e7d"
      },
      "execution_count": 28,
      "outputs": [
        {
          "output_type": "execute_result",
          "data": {
            "text/plain": [
              "<matplotlib.axes._subplots.AxesSubplot at 0x7f01c30a97d0>"
            ]
          },
          "metadata": {},
          "execution_count": 28
        },
        {
          "output_type": "display_data",
          "data": {
            "text/plain": [
              "<Figure size 432x288 with 1 Axes>"
            ],
            "image/png": "[encoded data removed]"
          },
          "metadata": {}
        }
      ]
    },
    {
      "cell_type": "code",
      "source": [
        ""
      ],
      "metadata": {
        "id": "l_KqzfcxdyKR"
      },
      "execution_count": 28,
      "outputs": []
    },
    {
      "cell_type": "code",
      "source": [
        "df.corr()"
      ],
      "metadata": {
        "colab": {
          "base_uri": "https://localhost:8080/",
          "height": 269
        },
        "id": "_8og5yFMdQEr",
        "outputId": "67d91dca-2a20-4c78-af22-9f0a1d6b83b9"
      },
      "execution_count": 29,
      "outputs": [
        {
          "output_type": "execute_result",
          "data": {
            "text/plain": [
              "                 maths   english   biology  economics     agric  intelligence  \\\n",
              "maths         1.000000 -0.073230  0.149463  -0.088987  0.283442      0.272438   \n",
              "english      -0.073230  1.000000 -0.041866   0.276611 -0.099030      0.181951   \n",
              "biology       0.149463 -0.041866  1.000000  -0.187161  0.251965      0.345487   \n",
              "economics    -0.088987  0.276611 -0.187161   1.000000  0.281440      0.582391   \n",
              "agric         0.283442 -0.099030  0.251965   0.281440  1.000000      0.894200   \n",
              "intelligence  0.272438  0.181951  0.345487   0.582391  0.894200      1.000000   \n",
              "total         0.518230  0.401206  0.474943   0.447441  0.701919      0.894437   \n",
              "\n",
              "                 total  \n",
              "maths         0.518230  \n",
              "english       0.401206  \n",
              "biology       0.474943  \n",
              "economics     0.447441  \n",
              "agric         0.701919  \n",
              "intelligence  0.894437  \n",
              "total         1.000000  "
            ],
            "text/html": [
              "\n",
              "  <div id=\"df-21c37fa1-5415-497d-8259-397662fa1539\">\n",
              "    <div class=\"colab-df-container\">\n",
              "      <div>\n",
              "<style scoped>\n",
              "    .dataframe tbody tr th:only-of-type {\n",
              "        vertical-align: middle;\n",
              "    }\n",
              "\n",
              "    .dataframe tbody tr th {\n",
              "        vertical-align: top;\n",
              "    }\n",
              "\n",
              "    .dataframe thead th {\n",
              "        text-align: right;\n",
              "    }\n",
              "</style>\n",
              "<table border=\"1\" class=\"dataframe\">\n",
              "  <thead>\n",
              "    <tr style=\"text-align: right;\">\n",
              "      <th></th>\n",
              "      <th>maths</th>\n",
              "      <th>english</th>\n",
              "      <th>biology</th>\n",
              "      <th>economics</th>\n",
              "      <th>agric</th>\n",
              "      <th>intelligence</th>\n",
              "      <th>total</th>\n",
              "    </tr>\n",
              "  </thead>\n",
              "  <tbody>\n",
              "    <tr>\n",
              "      <th>maths</th>\n",
              "      <td>1.000000</td>\n",
              "      <td>-0.073230</td>\n",
              "      <td>0.149463</td>\n",
              "      <td>-0.088987</td>\n",
              "      <td>0.283442</td>\n",
              "      <td>0.272438</td>\n",
              "      <td>0.518230</td>\n",
              "    </tr>\n",
              "    <tr>\n",
              "      <th>english</th>\n",
              "      <td>-0.073230</td>\n",
              "      <td>1.000000</td>\n",
              "      <td>-0.041866</td>\n",
              "      <td>0.276611</td>\n",
              "      <td>-0.099030</td>\n",
              "      <td>0.181951</td>\n",
              "      <td>0.401206</td>\n",
              "    </tr>\n",
              "    <tr>\n",
              "      <th>biology</th>\n",
              "      <td>0.149463</td>\n",
              "      <td>-0.041866</td>\n",
              "      <td>1.000000</td>\n",
              "      <td>-0.187161</td>\n",
              "      <td>0.251965</td>\n",
              "      <td>0.345487</td>\n",
              "      <td>0.474943</td>\n",
              "    </tr>\n",
              "    <tr>\n",
              "      <th>economics</th>\n",
              "      <td>-0.088987</td>\n",
              "      <td>0.276611</td>\n",
              "      <td>-0.187161</td>\n",
              "      <td>1.000000</td>\n",
              "      <td>0.281440</td>\n",
              "      <td>0.582391</td>\n",
              "      <td>0.447441</td>\n",
              "    </tr>\n",
              "    <tr>\n",
              "      <th>agric</th>\n",
              "      <td>0.283442</td>\n",
              "      <td>-0.099030</td>\n",
              "      <td>0.251965</td>\n",
              "      <td>0.281440</td>\n",
              "      <td>1.000000</td>\n",
              "      <td>0.894200</td>\n",
              "      <td>0.701919</td>\n",
              "    </tr>\n",
              "    <tr>\n",
              "      <th>intelligence</th>\n",
              "      <td>0.272438</td>\n",
              "      <td>0.181951</td>\n",
              "      <td>0.345487</td>\n",
              "      <td>0.582391</td>\n",
              "      <td>0.894200</td>\n",
              "      <td>1.000000</td>\n",
              "      <td>0.894437</td>\n",
              "    </tr>\n",
              "    <tr>\n",
              "      <th>total</th>\n",
              "      <td>0.518230</td>\n",
              "      <td>0.401206</td>\n",
              "      <td>0.474943</td>\n",
              "      <td>0.447441</td>\n",
              "      <td>0.701919</td>\n",
              "      <td>0.894437</td>\n",
              "      <td>1.000000</td>\n",
              "    </tr>\n",
              "  </tbody>\n",
              "</table>\n",
              "</div>\n",
              "      <button class=\"colab-df-convert\" onclick=\"convertToInteractive('df-21c37fa1-5415-497d-8259-397662fa1539')\"\n",
              "              title=\"Convert this dataframe to an interactive table.\"\n",
              "              style=\"display:none;\">\n",
              "        \n",
              "  <svg xmlns=\"http://www.w3.org/2000/svg\" height=\"24px\"viewBox=\"0 0 24 24\"\n",
              "       width=\"24px\">\n",
              "    <path d=\"M0 0h24v24H0V0z\" fill=\"none\"/>\n",
              "    <path d=\"M18.56 5.44l.94 2.06.94-2.06 2.06-.94-2.06-.94-.94-2.06-.94 2.06-2.06.94zm-11 1L8.5 8.5l.94-2.06 2.06-.94-2.06-.94L8.5 2.5l-.94 2.06-2.06.94zm10 10l.94 2.06.94-2.06 2.06-.94-2.06-.94-.94-2.06-.94 2.06-2.06.94z\"/><path d=\"M17.41 7.96l-1.37-1.37c-.4-.4-.92-.59-1.43-.59-.52 0-1.04.2-1.43.59L10.3 9.45l-7.72 7.72c-.78.78-.78 2.05 0 2.83L4 21.41c.39.39.9.59 1.41.59.51 0 1.02-.2 1.41-.59l7.78-7.78 2.81-2.81c.8-.78.8-2.07 0-2.86zM5.41 20L4 18.59l7.72-7.72 1.47 1.35L5.41 20z\"/>\n",
              "  </svg>\n",
              "      </button>\n",
              "      \n",
              "  <style>\n",
              "    .colab-df-container {\n",
              "      display:flex;\n",
              "      flex-wrap:wrap;\n",
              "      gap: 12px;\n",
              "    }\n",
              "\n",
              "    .colab-df-convert {\n",
              "      background-color: #E8F0FE;\n",
              "      border: none;\n",
              "      border-radius: 50%;\n",
              "      cursor: pointer;\n",
              "      display: none;\n",
              "      fill: #1967D2;\n",
              "      height: 32px;\n",
              "      padding: 0 0 0 0;\n",
              "      width: 32px;\n",
              "    }\n",
              "\n",
              "    .colab-df-convert:hover {\n",
              "      background-color: #E2EBFA;\n",
              "      box-shadow: 0px 1px 2px rgba(60, 64, 67, 0.3), 0px 1px 3px 1px rgba(60, 64, 67, 0.15);\n",
              "      fill: #174EA6;\n",
              "    }\n",
              "\n",
              "    [theme=dark] .colab-df-convert {\n",
              "      background-color: #3B4455;\n",
              "      fill: #D2E3FC;\n",
              "    }\n",
              "\n",
              "    [theme=dark] .colab-df-convert:hover {\n",
              "      background-color: #434B5C;\n",
              "      box-shadow: 0px 1px 3px 1px rgba(0, 0, 0, 0.15);\n",
              "      filter: drop-shadow(0px 1px 2px rgba(0, 0, 0, 0.3));\n",
              "      fill: #FFFFFF;\n",
              "    }\n",
              "  </style>\n",
              "\n",
              "      <script>\n",
              "        const buttonEl =\n",
              "          document.querySelector('#df-21c37fa1-5415-497d-8259-397662fa1539 button.colab-df-convert');\n",
              "        buttonEl.style.display =\n",
              "          google.colab.kernel.accessAllowed ? 'block' : 'none';\n",
              "\n",
              "        async function convertToInteractive(key) {\n",
              "          const element = document.querySelector('#df-21c37fa1-5415-497d-8259-397662fa1539');\n",
              "          const dataTable =\n",
              "            await google.colab.kernel.invokeFunction('convertToInteractive',\n",
              "                                                     [key], {});\n",
              "          if (!dataTable) return;\n",
              "\n",
              "          const docLinkHtml = 'Like what you see? Visit the ' +\n",
              "            '<a target=\"_blank\" href=https://colab.research.google.com/notebooks/data_table.ipynb>data table notebook</a>'\n",
              "            + ' to learn more about interactive tables.';\n",
              "          element.innerHTML = '';\n",
              "          dataTable['output_type'] = 'display_data';\n",
              "          await google.colab.output.renderOutput(dataTable, element);\n",
              "          const docLink = document.createElement('div');\n",
              "          docLink.innerHTML = docLinkHtml;\n",
              "          element.appendChild(docLink);\n",
              "        }\n",
              "      </script>\n",
              "    </div>\n",
              "  </div>\n",
              "  "
            ]
          },
          "metadata": {},
          "execution_count": 29
        }
      ]
    },
    {
      "cell_type": "code",
      "source": [
        "sns.heatmap(df.corr())"
      ],
      "metadata": {
        "colab": {
          "base_uri": "https://localhost:8080/",
          "height": 336
        },
        "id": "7EXBsaSVdmbE",
        "outputId": "59fa55ae-c280-4d42-9aa7-94bff577748c"
      },
      "execution_count": 30,
      "outputs": [
        {
          "output_type": "execute_result",
          "data": {
            "text/plain": [
              "<matplotlib.axes._subplots.AxesSubplot at 0x7f01b44b1890>"
            ]
          },
          "metadata": {},
          "execution_count": 30
        },
        {
          "output_type": "display_data",
          "data": {
            "text/plain": [
              "<Figure size 432x288 with 2 Axes>"
            ],
            "image/png": "[encoded data removed]"
          },
          "metadata": {}
        }
      ]
    },
    {
      "cell_type": "code",
      "source": [
        "sns.countplot(df.gender);"
      ],
      "metadata": {
        "colab": {
          "base_uri": "https://localhost:8080/",
          "height": 335
        },
        "id": "Uxe3jS0QdzmG",
        "outputId": "1f056601-be1e-4cdf-d945-2bd12eb4efeb"
      },
      "execution_count": 31,
      "outputs": [
        {
          "output_type": "stream",
          "name": "stderr",
          "text": [
            "/usr/local/lib/python3.7/dist-packages/seaborn/_decorators.py:43: FutureWarning: Pass the following variable as a keyword arg: x. From version 0.12, the only valid positional argument will be `data`, and passing other arguments without an explicit keyword will result in an error or misinterpretation.\n",
            "  FutureWarning\n"
          ]
        },
        {
          "output_type": "display_data",
          "data": {
            "text/plain": [
              "<Figure size 432x288 with 1 Axes>"
            ],
            "image/png": "[encoded data removed]"
          },
          "metadata": {}
        }
      ]
    },
    {
      "cell_type": "code",
      "source": [
        "sns.countplot('gender', data=df)"
      ],
      "metadata": {
        "colab": {
          "base_uri": "https://localhost:8080/",
          "height": 354
        },
        "id": "y4mF-UKyeT9n",
        "outputId": "366623c0-69a1-4f86-d839-76c1906e72e9"
      },
      "execution_count": 32,
      "outputs": [
        {
          "output_type": "stream",
          "name": "stderr",
          "text": [
            "/usr/local/lib/python3.7/dist-packages/seaborn/_decorators.py:43: FutureWarning: Pass the following variable as a keyword arg: x. From version 0.12, the only valid positional argument will be `data`, and passing other arguments without an explicit keyword will result in an error or misinterpretation.\n",
            "  FutureWarning\n"
          ]
        },
        {
          "output_type": "execute_result",
          "data": {
            "text/plain": [
              "<matplotlib.axes._subplots.AxesSubplot at 0x7f01b1bc6190>"
            ]
          },
          "metadata": {},
          "execution_count": 32
        },
        {
          "output_type": "display_data",
          "data": {
            "text/plain": [
              "<Figure size 432x288 with 1 Axes>"
            ],
            "image/png": "[encoded data removed]"
          },
          "metadata": {}
        }
      ]
    },
    {
      "cell_type": "code",
      "source": [
        "sns.barplot(x='gender', y='intelligence', data=df)"
      ],
      "metadata": {
        "colab": {
          "base_uri": "https://localhost:8080/",
          "height": 297
        },
        "id": "yImn8cIDea5a",
        "outputId": "d2d08e10-ce4f-4fe2-e633-4c84955ffb7e"
      },
      "execution_count": 33,
      "outputs": [
        {
          "output_type": "execute_result",
          "data": {
            "text/plain": [
              "<matplotlib.axes._subplots.AxesSubplot at 0x7f01b1b28210>"
            ]
          },
          "metadata": {},
          "execution_count": 33
        },
        {
          "output_type": "display_data",
          "data": {
            "text/plain": [
              "<Figure size 432x288 with 1 Axes>"
            ],
            "image/png": "[encoded data removed]"
          },
          "metadata": {}
        }
      ]
    },
    {
      "cell_type": "code",
      "source": [
        "sns.barplot(df['gender'], df['intelligence'])"
      ],
      "metadata": {
        "colab": {
          "base_uri": "https://localhost:8080/",
          "height": 354
        },
        "id": "tG5K5Fa_enD2",
        "outputId": "c391b255-8b6c-4497-81c0-ae65dcec9430"
      },
      "execution_count": 34,
      "outputs": [
        {
          "output_type": "stream",
          "name": "stderr",
          "text": [
            "/usr/local/lib/python3.7/dist-packages/seaborn/_decorators.py:43: FutureWarning: Pass the following variables as keyword args: x, y. From version 0.12, the only valid positional argument will be `data`, and passing other arguments without an explicit keyword will result in an error or misinterpretation.\n",
            "  FutureWarning\n"
          ]
        },
        {
          "output_type": "execute_result",
          "data": {
            "text/plain": [
              "<matplotlib.axes._subplots.AxesSubplot at 0x7f01b1b08590>"
            ]
          },
          "metadata": {},
          "execution_count": 34
        },
        {
          "output_type": "display_data",
          "data": {
            "text/plain": [
              "<Figure size 432x288 with 1 Axes>"
            ],
            "image/png": "[encoded data removed]"
          },
          "metadata": {}
        }
      ]
    },
    {
      "cell_type": "code",
      "source": [
        "plt.figure(figsize=(16,6))\n",
        "df.drop(['total', 'intelligence'], axis=1).boxplot()\n",
        "plt.title('Boxplot for the 5 Subjects')\n",
        "plt.xlabel('Subjects')\n",
        "plt.ylabel('Scores')"
      ],
      "metadata": {
        "colab": {
          "base_uri": "https://localhost:8080/",
          "height": 422
        },
        "id": "V2n-vUBCe5y8",
        "outputId": "f189b4c1-88a1-4877-bea3-2f8840356c87"
      },
      "execution_count": 35,
      "outputs": [
        {
          "output_type": "execute_result",
          "data": {
            "text/plain": [
              "Text(0, 0.5, 'Scores')"
            ]
          },
          "metadata": {},
          "execution_count": 35
        },
        {
          "output_type": "display_data",
          "data": {
            "text/plain": [
              "<Figure size 1152x432 with 1 Axes>"
            ],
            "image/png": "[encoded data removed]"
          },
          "metadata": {}
        }
      ]
    },
    {
      "cell_type": "code",
      "source": [
        "sns.violinplot(x=df.gender, y=df.agric)"
      ],
      "metadata": {
        "id": "iQosL_PT73BS",
        "colab": {
          "base_uri": "https://localhost:8080/",
          "height": 298
        },
        "outputId": "6db95c82-1876-49ea-d931-baa8929e133d"
      },
      "execution_count": 36,
      "outputs": [
        {
          "output_type": "execute_result",
          "data": {
            "text/plain": [
              "<matplotlib.axes._subplots.AxesSubplot at 0x7f01b1959b90>"
            ]
          },
          "metadata": {},
          "execution_count": 36
        },
        {
          "output_type": "display_data",
          "data": {
            "text/plain": [
              "<Figure size 432x288 with 1 Axes>"
            ],
            "image/png": "[encoded data removed]"
          },
          "metadata": {}
        }
      ]
    },
    {
      "cell_type": "code",
      "source": [
        "sns.distplot(df.maths)"
      ],
      "metadata": {
        "colab": {
          "base_uri": "https://localhost:8080/",
          "height": 354
        },
        "id": "BeMcwN3rf_I8",
        "outputId": "31b6941b-3477-4a40-af77-21c900c57733"
      },
      "execution_count": 37,
      "outputs": [
        {
          "output_type": "stream",
          "name": "stderr",
          "text": [
            "/usr/local/lib/python3.7/dist-packages/seaborn/distributions.py:2619: FutureWarning: `distplot` is a deprecated function and will be removed in a future version. Please adapt your code to use either `displot` (a figure-level function with similar flexibility) or `histplot` (an axes-level function for histograms).\n",
            "  warnings.warn(msg, FutureWarning)\n"
          ]
        },
        {
          "output_type": "execute_result",
          "data": {
            "text/plain": [
              "<matplotlib.axes._subplots.AxesSubplot at 0x7f01af90c990>"
            ]
          },
          "metadata": {},
          "execution_count": 37
        },
        {
          "output_type": "display_data",
          "data": {
            "text/plain": [
              "<Figure size 432x288 with 1 Axes>"
            ],
            "image/png": "[encoded data removed]"
          },
          "metadata": {}
        }
      ]
    },
    {
      "cell_type": "code",
      "source": [
        "sns.histplot(df.maths)"
      ],
      "metadata": {
        "colab": {
          "base_uri": "https://localhost:8080/",
          "height": 297
        },
        "id": "gkuKzPa6ghuJ",
        "outputId": "10e9c100-b5c6-4368-adf8-6779dcd9ae6b"
      },
      "execution_count": 38,
      "outputs": [
        {
          "output_type": "execute_result",
          "data": {
            "text/plain": [
              "<matplotlib.axes._subplots.AxesSubplot at 0x7f01af86ab90>"
            ]
          },
          "metadata": {},
          "execution_count": 38
        },
        {
          "output_type": "display_data",
          "data": {
            "text/plain": [
              "<Figure size 432x288 with 1 Axes>"
            ],
            "image/png": "[encoded data removed]"
          },
          "metadata": {}
        }
      ]
    },
    {
      "cell_type": "code",
      "source": [
        "sns.scatterplot('maths', 'english', data=df)"
      ],
      "metadata": {
        "colab": {
          "base_uri": "https://localhost:8080/",
          "height": 354
        },
        "id": "G8mPk7uDhF7i",
        "outputId": "06a483fe-e5bc-4b3c-cab1-76ffe7ca490c"
      },
      "execution_count": 39,
      "outputs": [
        {
          "output_type": "stream",
          "name": "stderr",
          "text": [
            "/usr/local/lib/python3.7/dist-packages/seaborn/_decorators.py:43: FutureWarning: Pass the following variables as keyword args: x, y. From version 0.12, the only valid positional argument will be `data`, and passing other arguments without an explicit keyword will result in an error or misinterpretation.\n",
            "  FutureWarning\n"
          ]
        },
        {
          "output_type": "execute_result",
          "data": {
            "text/plain": [
              "<matplotlib.axes._subplots.AxesSubplot at 0x7f01af80a210>"
            ]
          },
          "metadata": {},
          "execution_count": 39
        },
        {
          "output_type": "display_data",
          "data": {
            "text/plain": [
              "<Figure size 432x288 with 1 Axes>"
            ],
            "image/png": "[encoded data removed]"
          },
          "metadata": {}
        }
      ]
    },
    {
      "cell_type": "code",
      "source": [
        "sns.scatterplot('intelligence', 'agric', data=df)"
      ],
      "metadata": {
        "colab": {
          "base_uri": "https://localhost:8080/",
          "height": 354
        },
        "id": "M4OvRuNkjfbp",
        "outputId": "eff9929b-b5a2-455f-de6a-8d62e7d34716"
      },
      "execution_count": 40,
      "outputs": [
        {
          "output_type": "stream",
          "name": "stderr",
          "text": [
            "/usr/local/lib/python3.7/dist-packages/seaborn/_decorators.py:43: FutureWarning: Pass the following variables as keyword args: x, y. From version 0.12, the only valid positional argument will be `data`, and passing other arguments without an explicit keyword will result in an error or misinterpretation.\n",
            "  FutureWarning\n"
          ]
        },
        {
          "output_type": "execute_result",
          "data": {
            "text/plain": [
              "<matplotlib.axes._subplots.AxesSubplot at 0x7f01af7a0e90>"
            ]
          },
          "metadata": {},
          "execution_count": 40
        },
        {
          "output_type": "display_data",
          "data": {
            "text/plain": [
              "<Figure size 432x288 with 1 Axes>"
            ],
            "image/png": "[encoded data removed]"
          },
          "metadata": {}
        }
      ]
    },
    {
      "cell_type": "markdown",
      "source": [
        "Categorica - countplot, piechart, barplot\n",
        "Numerical - histplot, distplot, boxplot, line,  barplot, scatter"
      ],
      "metadata": {
        "id": "o2kGD-LsjmN6"
      }
    },
    {
      "cell_type": "code",
      "source": [
        "sns.lineplot(df.maths)"
      ],
      "metadata": {
        "id": "OM3Ue5YRj6VY",
        "outputId": "880b1f8e-86cf-4dc1-e09e-d946b3edafbd",
        "colab": {
          "base_uri": "https://localhost:8080/",
          "height": 390
        }
      },
      "execution_count": 44,
      "outputs": [
        {
          "output_type": "stream",
          "name": "stderr",
          "text": [
            "/usr/local/lib/python3.7/dist-packages/seaborn/_decorators.py:43: FutureWarning: Pass the following variable as a keyword arg: x. From version 0.12, the only valid positional argument will be `data`, and passing other arguments without an explicit keyword will result in an error or misinterpretation.\n",
            "  FutureWarning\n",
            "/usr/local/lib/python3.7/dist-packages/numpy/lib/nanfunctions.py:1376: RuntimeWarning: All-NaN slice encountered\n",
            "  overwrite_input=overwrite_input, interpolation=interpolation\n"
          ]
        },
        {
          "output_type": "execute_result",
          "data": {
            "text/plain": [
              "<matplotlib.axes._subplots.AxesSubplot at 0x7f01af65b590>"
            ]
          },
          "metadata": {},
          "execution_count": 44
        },
        {
          "output_type": "display_data",
          "data": {
            "text/plain": [
              "<Figure size 432x288 with 1 Axes>"
            ],
            "image/png": "[encoded data removed]"
          },
          "metadata": {}
        }
      ]
    },
    {
      "cell_type": "code",
      "source": [
        ""
      ],
      "metadata": {
        "id": "BlOi5pwhj8jJ"
      },
      "execution_count": 41,
      "outputs": []
    }
  ]
}