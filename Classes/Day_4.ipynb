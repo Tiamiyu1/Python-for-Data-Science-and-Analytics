{
  "cells": [
    {
      "cell_type": "markdown",
      "metadata": {
        "id": "view-in-github",
        "colab_type": "text"
      },
      "source": [
        "<a href=\"https://colab.research.google.com/github/Tiamiyu1/Python-for-Data-Science-and-Analytics/blob/main/Classes/Day_4.ipynb\" target=\"_parent\"><img src=\"https://colab.research.google.com/assets/colab-badge.svg\" alt=\"Open In Colab\"/></a>"
      ]
    },
    {
      "cell_type": "code",
      "source": [
        "# # combine 2 or more conditions\n",
        "\n",
        "# and, or, not \n"
      ],
      "metadata": {
        "id": "4Zh-J7im5Qdi"
      },
      "execution_count": 1,
      "outputs": []
    },
    {
      "cell_type": "markdown",
      "metadata": {
        "id": "dRW6qGqYuuJ7"
      },
      "source": [
        "# Loop, if and list"
      ]
    },
    {
      "cell_type": "code",
      "source": [
        "my_list = [2,3,5, 34.5, 78, \"Bag\", False]"
      ],
      "metadata": {
        "id": "YGy_Z8qZu0N0"
      },
      "execution_count": 2,
      "outputs": []
    },
    {
      "cell_type": "code",
      "source": [
        "my_list"
      ],
      "metadata": {
        "id": "P5j4jy6auzmU",
        "colab": {
          "base_uri": "https://localhost:8080/"
        },
        "outputId": "ef52a4eb-75ed-49e0-8a61-1e5abab9cfcf"
      },
      "execution_count": 3,
      "outputs": [
        {
          "output_type": "execute_result",
          "data": {
            "text/plain": [
              "[2, 3, 5, 34.5, 78, 'Bag', False]"
            ]
          },
          "metadata": {},
          "execution_count": 3
        }
      ]
    },
    {
      "cell_type": "code",
      "source": [
        "\n",
        "my_list[0]"
      ],
      "metadata": {
        "id": "QMFtXlqTuzcw",
        "colab": {
          "base_uri": "https://localhost:8080/"
        },
        "outputId": "c5905644-5c89-4acb-9af6-a9b26a54323b"
      },
      "execution_count": 4,
      "outputs": [
        {
          "output_type": "execute_result",
          "data": {
            "text/plain": [
              "2"
            ]
          },
          "metadata": {},
          "execution_count": 4
        }
      ]
    },
    {
      "cell_type": "code",
      "source": [
        "\n",
        "my_list[-1]"
      ],
      "metadata": {
        "id": "ILqxh6LFuzMm",
        "colab": {
          "base_uri": "https://localhost:8080/"
        },
        "outputId": "c07ba6bd-ad61-462c-9ad9-1707a509e24d"
      },
      "execution_count": 5,
      "outputs": [
        {
          "output_type": "execute_result",
          "data": {
            "text/plain": [
              "False"
            ]
          },
          "metadata": {},
          "execution_count": 5
        }
      ]
    },
    {
      "cell_type": "code",
      "source": [
        "my_list[3:6]"
      ],
      "metadata": {
        "id": "XBbBNc3vuzHV",
        "colab": {
          "base_uri": "https://localhost:8080/"
        },
        "outputId": "9face35b-4981-450f-c7b1-05b492852592"
      },
      "execution_count": 6,
      "outputs": [
        {
          "output_type": "execute_result",
          "data": {
            "text/plain": [
              "[34.5, 78, 'Bag']"
            ]
          },
          "metadata": {},
          "execution_count": 6
        }
      ]
    },
    {
      "cell_type": "code",
      "source": [
        "\n",
        "\n",
        "\n",
        "for item in my_list:\n",
        "  print(item)"
      ],
      "metadata": {
        "colab": {
          "base_uri": "https://localhost:8080/"
        },
        "id": "osJ8pSpt6dcV",
        "outputId": "2f0f125a-c498-4354-ad7a-620fb6376335"
      },
      "execution_count": 7,
      "outputs": [
        {
          "output_type": "stream",
          "name": "stdout",
          "text": [
            "2\n",
            "3\n",
            "5\n",
            "34.5\n",
            "78\n",
            "Bag\n",
            "False\n"
          ]
        }
      ]
    },
    {
      "cell_type": "code",
      "source": [
        "# or = 89"
      ],
      "metadata": {
        "id": "v6WC6rKKDEee"
      },
      "execution_count": 8,
      "outputs": []
    },
    {
      "cell_type": "code",
      "source": [
        "type(my_list)"
      ],
      "metadata": {
        "colab": {
          "base_uri": "https://localhost:8080/"
        },
        "id": "JZopbN20DUVv",
        "outputId": "9672939e-5caa-42f3-c410-1cf1dbfd71e9"
      },
      "execution_count": 9,
      "outputs": [
        {
          "output_type": "execute_result",
          "data": {
            "text/plain": [
              "list"
            ]
          },
          "metadata": {},
          "execution_count": 9
        }
      ]
    },
    {
      "cell_type": "code",
      "source": [
        "numbers = [1,2,3,4,5]\n",
        "sum =0\n",
        "for number in numbers:\n",
        "  sum = sum + number\n",
        "print(sum)"
      ],
      "metadata": {
        "colab": {
          "base_uri": "https://localhost:8080/"
        },
        "id": "3vk78jbU6dQL",
        "outputId": "134fc0fa-aeeb-438c-e712-9636b1f1eedc"
      },
      "execution_count": 10,
      "outputs": [
        {
          "output_type": "stream",
          "name": "stdout",
          "text": [
            "15\n"
          ]
        }
      ]
    },
    {
      "cell_type": "code",
      "source": [
        "for i in range(1,20):\n",
        "  print(i)"
      ],
      "metadata": {
        "id": "1fd3bJusuzC0",
        "colab": {
          "base_uri": "https://localhost:8080/"
        },
        "outputId": "032229a1-c3ea-4107-dba1-f11271c5bfde"
      },
      "execution_count": 11,
      "outputs": [
        {
          "output_type": "stream",
          "name": "stdout",
          "text": [
            "1\n",
            "2\n",
            "3\n",
            "4\n",
            "5\n",
            "6\n",
            "7\n",
            "8\n",
            "9\n",
            "10\n",
            "11\n",
            "12\n",
            "13\n",
            "14\n",
            "15\n",
            "16\n",
            "17\n",
            "18\n",
            "19\n"
          ]
        }
      ]
    },
    {
      "cell_type": "code",
      "source": [
        "# break, pass, continue"
      ],
      "metadata": {
        "id": "mBW0bMFZ7NfV"
      },
      "execution_count": 12,
      "outputs": []
    },
    {
      "cell_type": "code",
      "source": [
        "colors = [ 'Black', 'Green', 'Red','Yellow', 'White']\n",
        "for color in colors:\n",
        "  print (color)"
      ],
      "metadata": {
        "colab": {
          "base_uri": "https://localhost:8080/"
        },
        "id": "otYzrzzU7Tbf",
        "outputId": "aeaf8899-500d-4979-9c2d-064eee438a27"
      },
      "execution_count": 13,
      "outputs": [
        {
          "output_type": "stream",
          "name": "stdout",
          "text": [
            "Black\n",
            "Green\n",
            "Red\n",
            "Yellow\n",
            "White\n"
          ]
        }
      ]
    },
    {
      "cell_type": "code",
      "source": [
        "colors.sort()"
      ],
      "metadata": {
        "id": "62pIKUrE-rOe"
      },
      "execution_count": 14,
      "outputs": []
    },
    {
      "cell_type": "code",
      "source": [
        "colors"
      ],
      "metadata": {
        "colab": {
          "base_uri": "https://localhost:8080/"
        },
        "id": "xLb-drVl-u4j",
        "outputId": "88319e60-ff6c-45aa-f346-8f711ced8b3d"
      },
      "execution_count": 15,
      "outputs": [
        {
          "output_type": "execute_result",
          "data": {
            "text/plain": [
              "['Black', 'Green', 'Red', 'White', 'Yellow']"
            ]
          },
          "metadata": {},
          "execution_count": 15
        }
      ]
    },
    {
      "cell_type": "code",
      "source": [
        "for color in colors:\n",
        "  print(color)"
      ],
      "metadata": {
        "colab": {
          "base_uri": "https://localhost:8080/"
        },
        "id": "9KhSo8d58b5J",
        "outputId": "4faf8553-1ea1-4264-cc57-f1cb2b2fe465"
      },
      "execution_count": 16,
      "outputs": [
        {
          "output_type": "stream",
          "name": "stdout",
          "text": [
            "Black\n",
            "Green\n",
            "Red\n",
            "White\n",
            "Yellow\n"
          ]
        }
      ]
    },
    {
      "cell_type": "code",
      "source": [
        "for color in colors:\n",
        "  if color == 'Red':\n",
        "    print(color)\n",
        "    break"
      ],
      "metadata": {
        "colab": {
          "base_uri": "https://localhost:8080/"
        },
        "id": "S9BApNMN7jZk",
        "outputId": "009c892b-b2fb-492b-9ade-a1a3c380e34b"
      },
      "execution_count": 17,
      "outputs": [
        {
          "output_type": "stream",
          "name": "stdout",
          "text": [
            "Red\n"
          ]
        }
      ]
    },
    {
      "cell_type": "code",
      "source": [
        "for color in colors:\n",
        "  if color == 'Red':\n",
        "    continue\n",
        "  print(color)\n",
        "  "
      ],
      "metadata": {
        "id": "1VseTeWzuyw3",
        "colab": {
          "base_uri": "https://localhost:8080/"
        },
        "outputId": "06e07c73-3b1d-434e-f0a4-7b69350c0a74"
      },
      "execution_count": 18,
      "outputs": [
        {
          "output_type": "stream",
          "name": "stdout",
          "text": [
            "Black\n",
            "Green\n",
            "White\n",
            "Yellow\n"
          ]
        }
      ]
    },
    {
      "cell_type": "code",
      "source": [
        "colors.append('Purple')"
      ],
      "metadata": {
        "id": "PCXuH1vc9hHL"
      },
      "execution_count": 19,
      "outputs": []
    },
    {
      "cell_type": "code",
      "source": [
        "colors"
      ],
      "metadata": {
        "colab": {
          "base_uri": "https://localhost:8080/"
        },
        "id": "Pmd-T3Fh9mbp",
        "outputId": "af922a43-7e44-4af8-d332-ce489f81125f"
      },
      "execution_count": 20,
      "outputs": [
        {
          "output_type": "execute_result",
          "data": {
            "text/plain": [
              "['Black', 'Green', 'Red', 'White', 'Yellow', 'Purple']"
            ]
          },
          "metadata": {},
          "execution_count": 20
        }
      ]
    },
    {
      "cell_type": "code",
      "source": [
        ""
      ],
      "metadata": {
        "id": "Y3RDMZYl-pEK"
      },
      "execution_count": 20,
      "outputs": []
    },
    {
      "cell_type": "code",
      "source": [
        "colors.remove('Green')"
      ],
      "metadata": {
        "id": "xp4nF1et9nz9"
      },
      "execution_count": 21,
      "outputs": []
    },
    {
      "cell_type": "code",
      "source": [
        "colors"
      ],
      "metadata": {
        "colab": {
          "base_uri": "https://localhost:8080/"
        },
        "id": "DfgJu3hh9pA7",
        "outputId": "a01117a6-8ca4-46cf-f1f7-0e3e9e787bff"
      },
      "execution_count": 22,
      "outputs": [
        {
          "output_type": "execute_result",
          "data": {
            "text/plain": [
              "['Black', 'Red', 'White', 'Yellow', 'Purple']"
            ]
          },
          "metadata": {},
          "execution_count": 22
        }
      ]
    },
    {
      "cell_type": "code",
      "source": [
        "colors.pop()\n",
        "colors"
      ],
      "metadata": {
        "colab": {
          "base_uri": "https://localhost:8080/"
        },
        "id": "OsMylqIv9pLZ",
        "outputId": "897e35a2-b722-4cd4-9a6a-77a4ca40966b"
      },
      "execution_count": 23,
      "outputs": [
        {
          "output_type": "execute_result",
          "data": {
            "text/plain": [
              "['Black', 'Red', 'White', 'Yellow']"
            ]
          },
          "metadata": {},
          "execution_count": 23
        }
      ]
    },
    {
      "cell_type": "code",
      "source": [
        "colors.pop(2)\n",
        "colors"
      ],
      "metadata": {
        "colab": {
          "base_uri": "https://localhost:8080/"
        },
        "id": "TFd6kTYK9pSf",
        "outputId": "bdd0f82f-249f-4d1a-ab07-875cac1f7c92"
      },
      "execution_count": 24,
      "outputs": [
        {
          "output_type": "execute_result",
          "data": {
            "text/plain": [
              "['Black', 'Red', 'Yellow']"
            ]
          },
          "metadata": {},
          "execution_count": 24
        }
      ]
    },
    {
      "cell_type": "code",
      "source": [
        "colors.clear()"
      ],
      "metadata": {
        "id": "DDPr4SpJ9pZB"
      },
      "execution_count": 25,
      "outputs": []
    },
    {
      "cell_type": "code",
      "source": [
        "colors"
      ],
      "metadata": {
        "colab": {
          "base_uri": "https://localhost:8080/"
        },
        "id": "bK4HbzBJ9pga",
        "outputId": "97604763-3809-49a0-da52-7341d2916379"
      },
      "execution_count": 26,
      "outputs": [
        {
          "output_type": "execute_result",
          "data": {
            "text/plain": [
              "[]"
            ]
          },
          "metadata": {},
          "execution_count": 26
        }
      ]
    },
    {
      "cell_type": "code",
      "source": [
        "del colors"
      ],
      "metadata": {
        "id": "C1jdJa4Y9pm0"
      },
      "execution_count": 27,
      "outputs": []
    },
    {
      "cell_type": "code",
      "source": [
        "# colors"
      ],
      "metadata": {
        "id": "Zj9_bOuc9pta"
      },
      "execution_count": 28,
      "outputs": []
    },
    {
      "cell_type": "markdown",
      "source": [
        "### Tuple"
      ],
      "metadata": {
        "id": "4wsYMUBI9pz8"
      }
    },
    {
      "cell_type": "code",
      "source": [
        "# a = set(b)\n",
        "# type(a)\n",
        "# type(b)"
      ],
      "metadata": {
        "id": "UvLX7uxdEFjw"
      },
      "execution_count": 29,
      "outputs": []
    },
    {
      "cell_type": "code",
      "source": [
        "a = [1,2,3,4,5]\n",
        "type(a)"
      ],
      "metadata": {
        "colab": {
          "base_uri": "https://localhost:8080/"
        },
        "id": "5cKwUF-DENsm",
        "outputId": "7cfb1117-79b5-41ce-e634-406825e8c5b5"
      },
      "execution_count": 30,
      "outputs": [
        {
          "output_type": "execute_result",
          "data": {
            "text/plain": [
              "list"
            ]
          },
          "metadata": {},
          "execution_count": 30
        }
      ]
    },
    {
      "cell_type": "code",
      "source": [
        "b = (1,2,3,4,5)\n",
        "type(b)"
      ],
      "metadata": {
        "colab": {
          "base_uri": "https://localhost:8080/"
        },
        "id": "GTxNwXcNEaG7",
        "outputId": "d75fb89a-df7f-45da-e12c-c610a41adb3b"
      },
      "execution_count": 31,
      "outputs": [
        {
          "output_type": "execute_result",
          "data": {
            "text/plain": [
              "tuple"
            ]
          },
          "metadata": {},
          "execution_count": 31
        }
      ]
    },
    {
      "cell_type": "code",
      "source": [
        "c = {1,2,3,4,5}\n",
        "type(c)"
      ],
      "metadata": {
        "colab": {
          "base_uri": "https://localhost:8080/"
        },
        "id": "HuyEPBbQEg1C",
        "outputId": "64e983cb-c5b4-41b5-c906-8fa6488319fd"
      },
      "execution_count": 32,
      "outputs": [
        {
          "output_type": "execute_result",
          "data": {
            "text/plain": [
              "set"
            ]
          },
          "metadata": {},
          "execution_count": 32
        }
      ]
    },
    {
      "cell_type": "code",
      "source": [
        "my_tuple = (23, 56, 90, False)\n",
        "my_tuple"
      ],
      "metadata": {
        "colab": {
          "base_uri": "https://localhost:8080/"
        },
        "id": "rHSY1i61-JNU",
        "outputId": "4123359e-c8c3-432c-99ea-0dfcb806242d"
      },
      "execution_count": 33,
      "outputs": [
        {
          "output_type": "execute_result",
          "data": {
            "text/plain": [
              "(23, 56, 90, False)"
            ]
          },
          "metadata": {},
          "execution_count": 33
        }
      ]
    },
    {
      "cell_type": "code",
      "source": [
        "# my_tuple.append(56)"
      ],
      "metadata": {
        "id": "VEB5IidS-Jep"
      },
      "execution_count": 34,
      "outputs": []
    },
    {
      "cell_type": "code",
      "source": [
        "# my_tuple.remove(90)\n",
        "my_tuple\n"
      ],
      "metadata": {
        "colab": {
          "base_uri": "https://localhost:8080/"
        },
        "id": "GAQ6ySte-JlB",
        "outputId": "9db847fc-6304-4508-9a18-f8cce216f9ce"
      },
      "execution_count": 36,
      "outputs": [
        {
          "output_type": "execute_result",
          "data": {
            "text/plain": [
              "(23, 56, 90, False)"
            ]
          },
          "metadata": {},
          "execution_count": 36
        }
      ]
    },
    {
      "cell_type": "code",
      "source": [
        "# len(colors)"
      ],
      "metadata": {
        "id": "w8nMvi5C-Jrn"
      },
      "execution_count": 37,
      "outputs": []
    },
    {
      "cell_type": "code",
      "source": [
        "# Write a python that grades students according to their score"
      ],
      "metadata": {
        "id": "4sqyTFmC-JzA"
      },
      "execution_count": 38,
      "outputs": []
    },
    {
      "cell_type": "code",
      "source": [
        "score = input(\"What is your score: \")\n",
        "type(score)"
      ],
      "metadata": {
        "colab": {
          "base_uri": "https://localhost:8080/"
        },
        "id": "B0_Vk8gE_kj0",
        "outputId": "29d9aa4d-f315-4ffe-b634-f77f7df5ce00"
      },
      "execution_count": 39,
      "outputs": [
        {
          "name": "stdout",
          "output_type": "stream",
          "text": [
            "What is your score: 56\n"
          ]
        },
        {
          "output_type": "execute_result",
          "data": {
            "text/plain": [
              "str"
            ]
          },
          "metadata": {},
          "execution_count": 39
        }
      ]
    },
    {
      "cell_type": "code",
      "source": [
        "score = input(\"What is your score?: \")\n",
        "score = int(score)\n",
        "if score >= 70:\n",
        "  print(\"Your grade is A\")\n",
        "elif score >= 50:\n",
        "  print(\"Your grade is B\")\n",
        "else:\n",
        "  print(\"Your grade is F\")"
      ],
      "metadata": {
        "colab": {
          "base_uri": "https://localhost:8080/"
        },
        "id": "E9R7L33L-J6H",
        "outputId": "325ded36-ea8c-450e-b617-99b89c229beb"
      },
      "execution_count": 40,
      "outputs": [
        {
          "output_type": "stream",
          "name": "stdout",
          "text": [
            "What is your score?: 78\n",
            "Your grade is A\n"
          ]
        }
      ]
    },
    {
      "cell_type": "markdown",
      "source": [
        "## Set"
      ],
      "metadata": {
        "id": "ZMEo1q13-KB1"
      }
    },
    {
      "cell_type": "code",
      "source": [
        "# my_set = {}"
      ],
      "metadata": {
        "id": "EteRWx_E9p6T"
      },
      "execution_count": 41,
      "outputs": []
    },
    {
      "cell_type": "code",
      "source": [
        "# [], (), {}"
      ],
      "metadata": {
        "id": "vs974jpcAUL6"
      },
      "execution_count": 42,
      "outputs": []
    },
    {
      "cell_type": "code",
      "source": [
        "listt = ['Red', 'Red', 2, 3, 2, 5, 67, 1,1,1,1]\n",
        "listt"
      ],
      "metadata": {
        "colab": {
          "base_uri": "https://localhost:8080/"
        },
        "id": "v_tSnvv7AUUY",
        "outputId": "075d29aa-5c1d-47f1-e225-a87303ea794b"
      },
      "execution_count": 43,
      "outputs": [
        {
          "output_type": "execute_result",
          "data": {
            "text/plain": [
              "['Red', 'Red', 2, 3, 2, 5, 67, 1, 1, 1, 1]"
            ]
          },
          "metadata": {},
          "execution_count": 43
        }
      ]
    },
    {
      "cell_type": "code",
      "source": [
        "listt = ('Red', 'Red', 2, 3, 2, 5, 67, 1,1,1,1)\n",
        "listt"
      ],
      "metadata": {
        "colab": {
          "base_uri": "https://localhost:8080/"
        },
        "id": "TjkbFsVwAUbZ",
        "outputId": "c673e1c2-b786-4e92-e0f3-e0c08a0e9cc2"
      },
      "execution_count": 44,
      "outputs": [
        {
          "output_type": "execute_result",
          "data": {
            "text/plain": [
              "('Red', 'Red', 2, 3, 2, 5, 67, 1, 1, 1, 1)"
            ]
          },
          "metadata": {},
          "execution_count": 44
        }
      ]
    },
    {
      "cell_type": "code",
      "source": [
        "my_set = {'Red', 'Red', 2, 3, 2, 5, 67, 1, 1, 1, 1}\n",
        "my_set"
      ],
      "metadata": {
        "colab": {
          "base_uri": "https://localhost:8080/"
        },
        "id": "khkD8q7sAUjW",
        "outputId": "f30209c7-97b1-4893-c223-981909fc564a"
      },
      "execution_count": 45,
      "outputs": [
        {
          "output_type": "execute_result",
          "data": {
            "text/plain": [
              "{1, 2, 3, 5, 67, 'Red'}"
            ]
          },
          "metadata": {},
          "execution_count": 45
        }
      ]
    },
    {
      "cell_type": "code",
      "source": [
        "colors = [ 'Black', 'Green', 'Red','Yellow', 'White']\n",
        "colors"
      ],
      "metadata": {
        "colab": {
          "base_uri": "https://localhost:8080/"
        },
        "id": "d4_7tuu5AUqt",
        "outputId": "0fc1419f-0cee-423f-9f16-4c7a2b1c074d"
      },
      "execution_count": 46,
      "outputs": [
        {
          "output_type": "execute_result",
          "data": {
            "text/plain": [
              "['Black', 'Green', 'Red', 'Yellow', 'White']"
            ]
          },
          "metadata": {},
          "execution_count": 46
        }
      ]
    },
    {
      "cell_type": "code",
      "source": [
        "\"Red\" in colors"
      ],
      "metadata": {
        "colab": {
          "base_uri": "https://localhost:8080/"
        },
        "id": "4Gpswam8AUyi",
        "outputId": "3deb1f98-f479-4cc1-8870-cda648ff5c3b"
      },
      "execution_count": 47,
      "outputs": [
        {
          "output_type": "execute_result",
          "data": {
            "text/plain": [
              "True"
            ]
          },
          "metadata": {},
          "execution_count": 47
        }
      ]
    },
    {
      "cell_type": "code",
      "source": [
        "\"RED\" in colors"
      ],
      "metadata": {
        "colab": {
          "base_uri": "https://localhost:8080/"
        },
        "id": "hRBfOqATAU6G",
        "outputId": "0d33f5c8-83e5-4006-b2c5-fdce6c910e9b"
      },
      "execution_count": 48,
      "outputs": [
        {
          "output_type": "execute_result",
          "data": {
            "text/plain": [
              "False"
            ]
          },
          "metadata": {},
          "execution_count": 48
        }
      ]
    },
    {
      "cell_type": "code",
      "source": [
        "students = ['Tunde', 'Bola', 'Kayode', 'Abdullaah', 'Kemi']"
      ],
      "metadata": {
        "id": "OLk81GKvBj-y"
      },
      "execution_count": 49,
      "outputs": []
    },
    {
      "cell_type": "code",
      "source": [
        "name = input('What is your name?')\n",
        "name = name.title()\n",
        "print(name)\n",
        "if name in students:\n",
        "  print('Present')\n",
        "else:\n",
        "  print('Absent')"
      ],
      "metadata": {
        "colab": {
          "base_uri": "https://localhost:8080/"
        },
        "id": "JnQTncwBBjQU",
        "outputId": "245f9b0e-2d9e-4b4e-e2f4-cac3a113c7bc"
      },
      "execution_count": 50,
      "outputs": [
        {
          "output_type": "stream",
          "name": "stdout",
          "text": [
            "What is your name?\n",
            "\n",
            "Absent\n"
          ]
        }
      ]
    },
    {
      "cell_type": "code",
      "execution_count": 51,
      "metadata": {
        "id": "556EXvinuuKq",
        "outputId": "abc6f332-4d0d-41df-d522-b4a2f95c61c2",
        "colab": {
          "base_uri": "https://localhost:8080/"
        }
      },
      "outputs": [
        {
          "output_type": "stream",
          "name": "stdout",
          "text": [
            "Please enter the password: wrwe324\n",
            "Access Denied, please try again\n"
          ]
        }
      ],
      "source": [
        "password  = input(\"Please enter the password: \")\n",
        "# password = 'pass' \n",
        "if password == 'pass':\n",
        "    print(\"Access Granted!\")\n",
        "elif password == 'passpass':\n",
        "    print(\"Access Granted!\")      \n",
        "else:\n",
        "    print(\"Access Denied, please try again\")"
      ]
    },
    {
      "cell_type": "code",
      "execution_count": 52,
      "metadata": {
        "id": "OstqOErFuuLH",
        "colab": {
          "base_uri": "https://localhost:8080/"
        },
        "outputId": "b919be72-8c92-4291-93fa-eaa899bfdd2c"
      },
      "outputs": [
        {
          "output_type": "execute_result",
          "data": {
            "text/plain": [
              "(3,)"
            ]
          },
          "metadata": {},
          "execution_count": 52
        }
      ],
      "source": [
        "tup = (3,)\n",
        "tup"
      ]
    },
    {
      "cell_type": "code",
      "execution_count": 53,
      "metadata": {
        "id": "AHThWu_xuuLI",
        "colab": {
          "base_uri": "https://localhost:8080/"
        },
        "outputId": "661e6843-8fcc-4e45-a6a3-d43f1eb92591"
      },
      "outputs": [
        {
          "output_type": "execute_result",
          "data": {
            "text/plain": [
              "tuple"
            ]
          },
          "metadata": {},
          "execution_count": 53
        }
      ],
      "source": [
        "type(tup)"
      ]
    },
    {
      "cell_type": "markdown",
      "source": [
        "### Python Collections (Arrays)\n",
        "There are four collection data types in the Python programming language:\n",
        "\n",
        "- List is a collection which is ordered and changeable. Allows duplicate members.\n",
        "- Tuple is a collection which is ordered and unchangeable. Allows duplicate members.\n",
        "- Set is a collection which is unordered, unchangeable*, and unindexed. No duplicate members.\n",
        "- Dictionary is a collection which is ordered** and changeable. No duplicate members."
      ],
      "metadata": {
        "id": "UIoSx3ZuuuLM"
      }
    },
    {
      "cell_type": "markdown",
      "source": [
        "## Python Dictionary"
      ],
      "metadata": {
        "id": "3nhhQ-JnQWvu"
      }
    },
    {
      "cell_type": "code",
      "source": [
        ""
      ],
      "metadata": {
        "id": "30G4vMcyQaY3"
      },
      "execution_count": null,
      "outputs": []
    }
  ],
  "metadata": {
    "kernelspec": {
      "display_name": "Python 3",
      "language": "python",
      "name": "python3"
    },
    "language_info": {
      "codemirror_mode": {
        "name": "ipython",
        "version": 3
      },
      "file_extension": ".py",
      "mimetype": "text/x-python",
      "name": "python",
      "nbconvert_exporter": "python",
      "pygments_lexer": "ipython3",
      "version": "3.7.4"
    },
    "colab": {
      "name": "Day 4.ipynb",
      "provenance": [],
      "collapsed_sections": [],
      "include_colab_link": true
    }
  },
  "nbformat": 4,
  "nbformat_minor": 0
}