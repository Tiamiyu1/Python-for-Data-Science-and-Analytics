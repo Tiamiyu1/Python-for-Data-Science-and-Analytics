{
  "cells": [
    {
      "cell_type": "markdown",
      "metadata": {
        "id": "view-in-github",
        "colab_type": "text"
      },
      "source": [
        "<a href=\"https://colab.research.google.com/github/Tiamiyu1/Python-for-Data-Science-and-Analytics/blob/main/Assignment/Task_3_Solution.ipynb\" target=\"_parent\"><img src=\"https://colab.research.google.com/assets/colab-badge.svg\" alt=\"Open In Colab\"/></a>"
      ]
    },
    {
      "cell_type": "markdown",
      "metadata": {
        "id": "KNmSdjmXN2Sy"
      },
      "source": [
        "# Task 3\n",
        "\n",
        "## Reg_no: DS000"
      ]
    },
    {
      "cell_type": "markdown",
      "metadata": {
        "id": "UEw83ZnfN2TD"
      },
      "source": [
        "### 1. Guess Number Game\n",
        "\n",
        "Write a python program that generates a random integer between 1 and 100. The progam asks user to guess the random number, lets the user know if the guess is greater or lesser than the random number so that the user can adjust as appropriate. The program only terminates when the correct number is guessed.\n",
        "\n",
        "\n",
        "Optional: Inlude a variable to tell the user how many attempts he made before guessing correctly."
      ]
    },
    {
      "cell_type": "code",
      "source": [
        "import random\n",
        "random_number = random.randint(1,100)\n",
        "t = 0\n",
        "\n",
        "guess = int(input(\"\"\"Welcome to the Guess Number Game!\n",
        "You need to guess the random number (integer) generated between 1 and 100,\n",
        "you keep tring until you get the number correctly.\n",
        "What's is your guess? \"\"\"))\n",
        "t += 1\n",
        "while guess != random_number:\n",
        "  if guess < random_number:\n",
        "    guess = int(input(\"Your guess is lesser than the random number, try again: \"))\n",
        "    t += 1\n",
        "  else:\n",
        "    guess = int(input(\"Your guess is greater than the random number, try again: \"))\n",
        "    t += 1\n",
        "else:\n",
        "  print(\"Correct! \\nYou guessed right after\", t, 'attempts.')"
      ],
      "metadata": {
        "id": "qx3JyH7fMwKS",
        "colab": {
          "base_uri": "https://localhost:8080/"
        },
        "outputId": "971e42cb-ed1e-44fc-be23-96e26a81d94c"
      },
      "execution_count": 6,
      "outputs": [
        {
          "output_type": "stream",
          "name": "stdout",
          "text": [
            "Welcome to the Guess Number Game!\n",
            "You need to guess the random number (integer) generated between 1 and 100,\n",
            "you keep tring until you get the number correctly.\n",
            "What's is your guess? 52\n",
            "Your guess is greater than the random number, try again: 35\n",
            "Your guess is greater than the random number, try again: 23\n",
            "Your guess is greater than the random number, try again: 12\n",
            "Your guess is lesser than the random number, try again: 20\n",
            "Your guess is greater than the random number, try again: 17\n",
            "Your guess is greater than the random number, try again: 15\n",
            "Your guess is greater than the random number, try again: 13\n",
            "Your guess is lesser than the random number, try again: 14\n",
            "Correct! \n",
            "You guessed right after 9 attempts.\n"
          ]
        }
      ]
    },
    {
      "cell_type": "markdown",
      "source": [
        "### 2. BMI Converter\n",
        "\n",
        "Write a python function that asks users for their height (m) and weight(kg).\n",
        "The function should return the BMI of the user.\n",
        "\n",
        "Note: No need to include any parameter in the function."
      ],
      "metadata": {
        "id": "Mc89CR1kT2Ma"
      }
    },
    {
      "cell_type": "code",
      "source": [
        "def bmi():\n",
        "  weight = float(input('Enter your weight in kg: '))\n",
        "  height = float(input('Enter your height in m: '))\n",
        "  return round((weight/(height**2)), 2)"
      ],
      "metadata": {
        "id": "PmboVCoNXsxD"
      },
      "execution_count": 12,
      "outputs": []
    },
    {
      "cell_type": "code",
      "source": [
        "bmi()"
      ],
      "metadata": {
        "colab": {
          "base_uri": "https://localhost:8080/"
        },
        "id": "dkXSCLQcLUdY",
        "outputId": "72caf79a-edb5-45e4-cfd1-ee8afd2bdfdc"
      },
      "execution_count": 9,
      "outputs": [
        {
          "output_type": "stream",
          "name": "stdout",
          "text": [
            "Enter your weight in kg: 78.9\n",
            "Enter your height in m: 120\n",
            "0.01\n"
          ]
        }
      ]
    },
    {
      "cell_type": "code",
      "source": [
        "print('Your body mass index is', bmi(), 'kg/m2')"
      ],
      "metadata": {
        "colab": {
          "base_uri": "https://localhost:8080/"
        },
        "id": "4CJ1lFFnsgmk",
        "outputId": "efca077c-9974-4ae3-bfc8-524aba0e78fa"
      },
      "execution_count": 13,
      "outputs": [
        {
          "output_type": "stream",
          "name": "stdout",
          "text": [
            "Enter your weight in kg: 78\n",
            "Enter your height in m: 120\n",
            "Your body mass index is 0.01 kg/m2\n"
          ]
        }
      ]
    },
    {
      "cell_type": "code",
      "source": [
        ""
      ],
      "metadata": {
        "id": "TJOLnHB7sqAz"
      },
      "execution_count": null,
      "outputs": []
    }
  ],
  "metadata": {
    "kernelspec": {
      "display_name": "Python 3",
      "language": "python",
      "name": "python3"
    },
    "language_info": {
      "codemirror_mode": {
        "name": "ipython",
        "version": 3
      },
      "file_extension": ".py",
      "mimetype": "text/x-python",
      "name": "python",
      "nbconvert_exporter": "python",
      "pygments_lexer": "ipython3",
      "version": "3.7.4"
    },
    "colab": {
      "name": "Task 3 Solution.ipynb",
      "provenance": [],
      "collapsed_sections": [],
      "include_colab_link": true
    }
  },
  "nbformat": 4,
  "nbformat_minor": 0
}