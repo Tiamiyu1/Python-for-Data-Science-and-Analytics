{
  "cells": [
    {
      "cell_type": "markdown",
      "metadata": {
        "id": "view-in-github",
        "colab_type": "text"
      },
      "source": [
        "<a href=\"https://colab.research.google.com/github/Tiamiyu1/Python-for-Data-Science-and-Analytics/blob/main/Assignment/Task_1_Solution.ipynb\" target=\"_parent\"><img src=\"https://colab.research.google.com/assets/colab-badge.svg\" alt=\"Open In Colab\"/></a>"
      ]
    },
    {
      "cell_type": "markdown",
      "metadata": {
        "id": "lSXY1m9M0LLp"
      },
      "source": [
        "# Task 1"
      ]
    },
    {
      "cell_type": "markdown",
      "metadata": {
        "id": "-E2dD-Dv0LLv"
      },
      "source": [
        "### Reg_no: DS000"
      ]
    },
    {
      "cell_type": "markdown",
      "metadata": {
        "id": "nXAmGgVg0LLx"
      },
      "source": [
        "- write a program that prints Hello World!\n",
        "- Assign 6 to a variable named a, check the data type \n",
        "- Assign 10 to variable b\n",
        "- Add a and b\n",
        "- what is a raised to power of b\n",
        "- Convert a to string \n",
        "- What is 78 // 9\n",
        "- What is the remainder in this expression 78%2\n",
        "- Assign the word Red to a varaible named color (Remember this string data type), confirm the data type\n",
        "- Change variable a to float and name it aa, confrim the data type\n",
        "- Write a python single line comment\n",
        "- Assign Nigeria to a variable country\n",
        "- Print out the first, third and the last letter of the variable named country (separately)\n",
        "- Slice country by showing just the 3rd to the last letter\n",
        "- Change country to upper, lower and title case\n",
        "- Show how many 'a' we have in Nigeria\n",
        "- Assign three variables to three different values on a single line\n",
        "- Write a multi line comment in python\n",
        "- Write a multi line string in  python\n",
        "- Convert 'bag' to integer"
      ]
    },
    {
      "cell_type": "markdown",
      "source": [
        "# Solution"
      ],
      "metadata": {
        "id": "DZSZXQuS0LL0"
      }
    },
    {
      "cell_type": "code",
      "source": [
        "# 1. write a program that prints Hello World!\n",
        "print(\"Hello World!\")"
      ],
      "metadata": {
        "colab": {
          "base_uri": "https://localhost:8080/"
        },
        "id": "RF8NOTTz0Q1d",
        "outputId": "97e2c419-6832-4dbc-bc27-3d5d416146cc"
      },
      "execution_count": null,
      "outputs": [
        {
          "output_type": "stream",
          "name": "stdout",
          "text": [
            "Hello World!\n"
          ]
        }
      ]
    },
    {
      "cell_type": "code",
      "source": [
        "# 2. Assign 6 to a variable named a, check the data type\n",
        "a = 6\n",
        "type(a)"
      ],
      "metadata": {
        "colab": {
          "base_uri": "https://localhost:8080/"
        },
        "id": "q942uGqj0adm",
        "outputId": "cf070978-43d4-4c7f-a231-3e2f3bbd0743"
      },
      "execution_count": null,
      "outputs": [
        {
          "output_type": "execute_result",
          "data": {
            "text/plain": [
              "int"
            ]
          },
          "metadata": {},
          "execution_count": 2
        }
      ]
    },
    {
      "cell_type": "code",
      "source": [
        "# 3. Assign 10 to variable b\n",
        "b =10\n",
        "b "
      ],
      "metadata": {
        "colab": {
          "base_uri": "https://localhost:8080/"
        },
        "id": "aQFRxInj0ft9",
        "outputId": "553d27c3-2f09-40ba-da14-8c25df502c9e"
      },
      "execution_count": null,
      "outputs": [
        {
          "output_type": "execute_result",
          "data": {
            "text/plain": [
              "10"
            ]
          },
          "metadata": {},
          "execution_count": 43
        }
      ]
    },
    {
      "cell_type": "code",
      "source": [
        "# 4. Add a and b\n",
        "a + b"
      ],
      "metadata": {
        "colab": {
          "base_uri": "https://localhost:8080/"
        },
        "id": "du9yq-uO0ldp",
        "outputId": "405e39b7-160e-4bec-8e05-5540f492b363"
      },
      "execution_count": null,
      "outputs": [
        {
          "output_type": "execute_result",
          "data": {
            "text/plain": [
              "16"
            ]
          },
          "metadata": {},
          "execution_count": 5
        }
      ]
    },
    {
      "cell_type": "code",
      "source": [
        "# 5. what is a raised to power of b\n",
        "a**b"
      ],
      "metadata": {
        "colab": {
          "base_uri": "https://localhost:8080/"
        },
        "id": "Z-oYoXcG0tbM",
        "outputId": "14ed8755-9fff-4d9e-e4a3-5a34bd49c372"
      },
      "execution_count": null,
      "outputs": [
        {
          "output_type": "execute_result",
          "data": {
            "text/plain": [
              "60466176"
            ]
          },
          "metadata": {},
          "execution_count": 7
        }
      ]
    },
    {
      "cell_type": "code",
      "source": [
        "# 6. Convert a to string\n",
        "str(a)"
      ],
      "metadata": {
        "colab": {
          "base_uri": "https://localhost:8080/",
          "height": 35
        },
        "id": "xLqD_VWt0yGu",
        "outputId": "236d3b75-c234-46a2-e2df-76a986738553"
      },
      "execution_count": null,
      "outputs": [
        {
          "output_type": "execute_result",
          "data": {
            "application/vnd.google.colaboratory.intrinsic+json": {
              "type": "string"
            },
            "text/plain": [
              "'6'"
            ]
          },
          "metadata": {},
          "execution_count": 8
        }
      ]
    },
    {
      "cell_type": "code",
      "source": [
        "# 7. What is 78 // 9\n",
        "78//9"
      ],
      "metadata": {
        "colab": {
          "base_uri": "https://localhost:8080/"
        },
        "id": "gbOssfHK04dI",
        "outputId": "03140033-17ab-4982-db58-d084a4c7b14d"
      },
      "execution_count": null,
      "outputs": [
        {
          "output_type": "execute_result",
          "data": {
            "text/plain": [
              "8"
            ]
          },
          "metadata": {},
          "execution_count": 9
        }
      ]
    },
    {
      "cell_type": "code",
      "source": [
        "# 8. What is the remainder in this expression 78%2\n",
        "78%2"
      ],
      "metadata": {
        "colab": {
          "base_uri": "https://localhost:8080/"
        },
        "id": "NFFP1O5n08xe",
        "outputId": "0a6a15d5-364d-46bb-eef4-0f6c91871316"
      },
      "execution_count": null,
      "outputs": [
        {
          "output_type": "execute_result",
          "data": {
            "text/plain": [
              "0"
            ]
          },
          "metadata": {},
          "execution_count": 10
        }
      ]
    },
    {
      "cell_type": "code",
      "source": [
        "# 9. Assign the word Red to a varaible named color (Remember this string data type), confirm the data type\n",
        "color = 'Red'\n",
        "type(color)"
      ],
      "metadata": {
        "id": "g3jLQGZK1A3R",
        "colab": {
          "base_uri": "https://localhost:8080/"
        },
        "outputId": "4e2cebdd-bbfd-4758-ef0c-e1204fbc2e4e"
      },
      "execution_count": null,
      "outputs": [
        {
          "output_type": "execute_result",
          "data": {
            "text/plain": [
              "str"
            ]
          },
          "metadata": {},
          "execution_count": 42
        }
      ]
    },
    {
      "cell_type": "code",
      "source": [
        "# 10. Change variable a to float and name it aa, confrim the data type\n",
        "aa = float(a)\n",
        "type(aa)"
      ],
      "metadata": {
        "colab": {
          "base_uri": "https://localhost:8080/"
        },
        "id": "A0yhryPS1HPL",
        "outputId": "183609a1-bfb3-4219-bf6f-8f1b2af08c0a"
      },
      "execution_count": null,
      "outputs": [
        {
          "output_type": "execute_result",
          "data": {
            "text/plain": [
              "float"
            ]
          },
          "metadata": {},
          "execution_count": 12
        }
      ]
    },
    {
      "cell_type": "code",
      "source": [
        "# 11. Write a python single line comment\n",
        "# This is a single line comment in python. It starts with (#)"
      ],
      "metadata": {
        "id": "uZ47fZcD1OUe"
      },
      "execution_count": null,
      "outputs": []
    },
    {
      "cell_type": "code",
      "source": [
        "# 12. Assign Nigeria to a variable country\n",
        "country = 'Nigeria'"
      ],
      "metadata": {
        "id": "xQvBACBh1b7-"
      },
      "execution_count": null,
      "outputs": []
    },
    {
      "cell_type": "code",
      "source": [
        "# 13. Print out the first, third and the last letter of the variable named country (separately)\n",
        "print(country[0]) # you can use [-7] too\n",
        "print(country[2])  # you can use [-5] as well\n",
        "print(country[-1])  # you can also us [7] instead of [-1]\n",
        "# You can as well print them separately on different cell."
      ],
      "metadata": {
        "colab": {
          "base_uri": "https://localhost:8080/"
        },
        "id": "i2VIaKgt1g-k",
        "outputId": "6dace4a5-3037-4569-b43d-efb6c69705a9"
      },
      "execution_count": null,
      "outputs": [
        {
          "output_type": "stream",
          "name": "stdout",
          "text": [
            "N\n",
            "g\n",
            "a\n"
          ]
        }
      ]
    },
    {
      "cell_type": "code",
      "source": [
        "# 14. Slice country by showing just the 3rd to the last letter\n",
        "country[2:] # or country[-5:]\n"
      ],
      "metadata": {
        "colab": {
          "base_uri": "https://localhost:8080/",
          "height": 35
        },
        "id": "Kea-C5XH1nuc",
        "outputId": "82790827-4436-49b5-c35e-f232d78d0b1c"
      },
      "execution_count": null,
      "outputs": [
        {
          "output_type": "execute_result",
          "data": {
            "application/vnd.google.colaboratory.intrinsic+json": {
              "type": "string"
            },
            "text/plain": [
              "'geria'"
            ]
          },
          "metadata": {},
          "execution_count": 29
        }
      ]
    },
    {
      "cell_type": "code",
      "source": [
        "# 15. Change country to upper, lower and title case\n",
        "country.upper(), country.lower(), country.title() # you can do this on separate line as well"
      ],
      "metadata": {
        "colab": {
          "base_uri": "https://localhost:8080/"
        },
        "id": "goC31LbB2e3o",
        "outputId": "42394290-7eee-4598-9897-41a75f42c7ae"
      },
      "execution_count": null,
      "outputs": [
        {
          "output_type": "execute_result",
          "data": {
            "text/plain": [
              "('NIGERIA', 'nigeria', 'Nigeria')"
            ]
          },
          "metadata": {},
          "execution_count": 31
        }
      ]
    },
    {
      "cell_type": "code",
      "source": [
        "# 16. Show how many 'a' we have in Nigeria\n",
        "country.count('a')"
      ],
      "metadata": {
        "colab": {
          "base_uri": "https://localhost:8080/"
        },
        "id": "boUs6mqG3Jpn",
        "outputId": "8022d052-bc4d-4e45-a089-e1697a41bdab"
      },
      "execution_count": null,
      "outputs": [
        {
          "output_type": "execute_result",
          "data": {
            "text/plain": [
              "1"
            ]
          },
          "metadata": {},
          "execution_count": 32
        }
      ]
    },
    {
      "cell_type": "code",
      "source": [
        "# we have just one a, let's check for i\n",
        "country.count('i') # this is not part of the exercise though"
      ],
      "metadata": {
        "colab": {
          "base_uri": "https://localhost:8080/"
        },
        "id": "58X00rJz3Tgq",
        "outputId": "30fdb1c6-d449-4b4a-aa21-344f16c16d22"
      },
      "execution_count": null,
      "outputs": [
        {
          "output_type": "execute_result",
          "data": {
            "text/plain": [
              "2"
            ]
          },
          "metadata": {},
          "execution_count": 33
        }
      ]
    },
    {
      "cell_type": "code",
      "source": [
        "# 17. Assign three variables to three different values on a single line\n",
        "a, b, c = 12, True, 'Bag'\n",
        "a, b, c"
      ],
      "metadata": {
        "colab": {
          "base_uri": "https://localhost:8080/"
        },
        "id": "qHi50EF03os3",
        "outputId": "6b227207-4729-4123-8992-a6fb216ba504"
      },
      "execution_count": null,
      "outputs": [
        {
          "output_type": "execute_result",
          "data": {
            "text/plain": [
              "(12, True, 'Bag')"
            ]
          },
          "metadata": {},
          "execution_count": 35
        }
      ]
    },
    {
      "cell_type": "code",
      "source": [
        "# 18. Write a multi line comment in python\n",
        "\"\"\"\n",
        "This is a multi line comment,\n",
        "because it is on more than\n",
        "one line.\n",
        "\"\"\""
      ],
      "metadata": {
        "colab": {
          "base_uri": "https://localhost:8080/",
          "height": 35
        },
        "id": "6ksn8MPP3upB",
        "outputId": "757f9eed-e3b0-46e5-9e58-6f5739dd8a72"
      },
      "execution_count": null,
      "outputs": [
        {
          "output_type": "execute_result",
          "data": {
            "application/vnd.google.colaboratory.intrinsic+json": {
              "type": "string"
            },
            "text/plain": [
              "'\\nThis is a multi line comment,\\nbecause it is on more than\\none line\\n'"
            ]
          },
          "metadata": {},
          "execution_count": 36
        }
      ]
    },
    {
      "cell_type": "code",
      "source": [
        "# 19. Write a multi line string in python\n",
        "my_string = \"\"\"\n",
        "This is a multi line string,\n",
        "because it is on more than\n",
        "one line.\n",
        "\"\"\"\n",
        "print(my_string)"
      ],
      "metadata": {
        "colab": {
          "base_uri": "https://localhost:8080/"
        },
        "id": "jLwk0Re23-Hx",
        "outputId": "8bbf827c-24a2-40ef-fbec-149ad8d2a30c"
      },
      "execution_count": null,
      "outputs": [
        {
          "output_type": "stream",
          "name": "stdout",
          "text": [
            "\n",
            "This is a multi line string,\n",
            "because it is on more than\n",
            "one line.\n",
            "\n"
          ]
        }
      ]
    },
    {
      "cell_type": "code",
      "source": [
        "# 20. Convert 'bag' to integer\n",
        "int('bag') # This is not possible, it raises a value error"
      ],
      "metadata": {
        "colab": {
          "base_uri": "https://localhost:8080/",
          "height": 183
        },
        "id": "R2sIhrBx4Ddk",
        "outputId": "8bdcfc29-39e4-4739-8f0f-cef46e74fd7a"
      },
      "execution_count": null,
      "outputs": [
        {
          "output_type": "error",
          "ename": "ValueError",
          "evalue": "ignored",
          "traceback": [
            "\u001b[0;31m---------------------------------------------------------------------------\u001b[0m",
            "\u001b[0;31mValueError\u001b[0m                                Traceback (most recent call last)",
            "\u001b[0;32m<ipython-input-41-e6df7259eef5>\u001b[0m in \u001b[0;36m<module>\u001b[0;34m()\u001b[0m\n\u001b[1;32m      1\u001b[0m \u001b[0;31m# 20. Convert 'bag' to integer\u001b[0m\u001b[0;34m\u001b[0m\u001b[0;34m\u001b[0m\u001b[0;34m\u001b[0m\u001b[0m\n\u001b[0;32m----> 2\u001b[0;31m \u001b[0mint\u001b[0m\u001b[0;34m(\u001b[0m\u001b[0;34m'bag'\u001b[0m\u001b[0;34m)\u001b[0m \u001b[0;31m# This is not possible\u001b[0m\u001b[0;34m\u001b[0m\u001b[0;34m\u001b[0m\u001b[0m\n\u001b[0m",
            "\u001b[0;31mValueError\u001b[0m: invalid literal for int() with base 10: 'bag'"
          ]
        }
      ]
    },
    {
      "cell_type": "code",
      "source": [
        ""
      ],
      "metadata": {
        "colab": {
          "base_uri": "https://localhost:8080/"
        },
        "id": "1UGsOf46G5sO",
        "outputId": "c3629357-7d63-465a-ec48-ab0270220512"
      },
      "execution_count": null,
      "outputs": [
        {
          "output_type": "execute_result",
          "data": {
            "text/plain": [
              "1"
            ]
          },
          "metadata": {},
          "execution_count": 44
        }
      ]
    },
    {
      "cell_type": "markdown",
      "source": [
        ""
      ],
      "metadata": {
        "id": "NiqyNzAH4YEp"
      }
    }
  ],
  "metadata": {
    "kernelspec": {
      "display_name": "Python 3",
      "language": "python",
      "name": "python3"
    },
    "language_info": {
      "codemirror_mode": {
        "name": "ipython",
        "version": 3
      },
      "file_extension": ".py",
      "mimetype": "text/x-python",
      "name": "python",
      "nbconvert_exporter": "python",
      "pygments_lexer": "ipython3",
      "version": "3.7.4"
    },
    "colab": {
      "name": "Task 1 Solution.ipynb",
      "provenance": [],
      "collapsed_sections": [],
      "include_colab_link": true
    }
  },
  "nbformat": 4,
  "nbformat_minor": 0
}