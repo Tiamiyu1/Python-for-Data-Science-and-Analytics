{
 "cells": [
  {
   "cell_type": "markdown",
   "metadata": {},
   "source": [
    "# Task 1"
   ]
  },
  {
   "cell_type": "markdown",
   "metadata": {},
   "source": [
    "### Reg_no: DS000"
   ]
  },
  {
   "cell_type": "markdown",
   "metadata": {},
   "source": [
    "- write a program that prints Hello World!\n",
    "- Assign 6 to a variable named a, check the data type \n",
    "- Assign 10 to variable b\n",
    "- Add a and b\n",
    "- what is a raised to power of b\n",
    "- Convert a to string \n",
    "- What is 78 // 9\n",
    "- What is the remainder in this expression 78%2\n",
    "- Assign the word Red to a varaible named color (Remember this string data type), confirm the data type\n",
    "- Change variable a to float and name it aa, confrim the data type\n",
    "- Write a python single line comment\n",
    "- Assign Nigeria to a variable country\n",
    "- Print out the first, third and the last letter of the variable named country (separately)\n",
    "- Slice country by showing just the 3rd to the last letter\n",
    "- Change country to upper, lower and title case\n",
    "- Show how many 'a' we have in Nigeria\n",
    "- Assign three variables to three different values on a single line\n",
    "- Write a multi line comment in python\n",
    "- Write a multi line string in  python\n",
    "- Convert 'bag' to integer"
   ]
  },
  {
   "cell_type": "code",
   "execution_count": null,
   "metadata": {},
   "outputs": [],
   "source": []
  }
 ],
 "metadata": {
  "kernelspec": {
   "display_name": "Python 3",
   "language": "python",
   "name": "python3"
  },
  "language_info": {
   "codemirror_mode": {
    "name": "ipython",
    "version": 3
   },
   "file_extension": ".py",
   "mimetype": "text/x-python",
   "name": "python",
   "nbconvert_exporter": "python",
   "pygments_lexer": "ipython3",
   "version": "3.7.4"
  }
 },
 "nbformat": 4,
 "nbformat_minor": 2
}
