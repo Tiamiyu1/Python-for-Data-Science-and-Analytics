{
  "cells": [
    {
      "cell_type": "markdown",
      "metadata": {
        "id": "view-in-github",
        "colab_type": "text"
      },
      "source": [
        "<a href=\"https://colab.research.google.com/github/Tiamiyu1/Python-for-Data-Science-and-Analytics/blob/main/Assignment/Task_2_Solution.ipynb\" target=\"_parent\"><img src=\"https://colab.research.google.com/assets/colab-badge.svg\" alt=\"Open In Colab\"/></a>"
      ]
    },
    {
      "cell_type": "markdown",
      "metadata": {
        "id": "KNmSdjmXN2Sy"
      },
      "source": [
        "# Task 2\n",
        "\n",
        "## Reg_no: DS000"
      ]
    },
    {
      "cell_type": "markdown",
      "metadata": {
        "id": "UEw83ZnfN2TD"
      },
      "source": [
        "### 1. Student Grade\n",
        "\n",
        "#### Write a python program that asks students for their score and grades them according to the input score.\n",
        "\n",
        "The program should print A (\"Your grade is A\") if a student score between 70 and 100, B if the score is between 60 and 69, C if the score is between 50 and 59, D if the score is between 45 and 49, E if the score is betwwen 40 and 44, \n",
        "F if the score is between 0 and 39.\n",
        "\n",
        "If a score above 100 is entered the program should give a warning (\"Invalid! enter a numerical value between 1 and 100\")"
      ]
    },
    {
      "cell_type": "code",
      "source": [
        "try:\n",
        "  score  = int(input(\"What is your score? \"))\n",
        "  if score >= 70 and score <= 100:\n",
        "      print(\"Your Grade is A\")\n",
        "  elif score >= 60 and score <= 69:\n",
        "      print(\"Your Grade is B\")\n",
        "  elif score >= 50 and score <= 59:\n",
        "      print(\"Your Grade is C\")\n",
        "  elif score >= 45 and score <= 49:\n",
        "      print(\"Your Grade is D\")\n",
        "  elif score >= 40 and score <= 44:\n",
        "      print(\"Your Grade is E\")\n",
        "  elif score <= 39:\n",
        "      print(\"Your Grade is F\")\n",
        "  else:\n",
        "      print('Enter numerical value between <= 100')\n",
        "except:\n",
        "  print('Invalid, please  enter a number data')\n"
      ],
      "metadata": {
        "id": "qx3JyH7fMwKS",
        "colab": {
          "base_uri": "https://localhost:8080/"
        },
        "outputId": "7627515b-57e4-49dc-e038-8f4de9c0a578"
      },
      "execution_count": 16,
      "outputs": [
        {
          "output_type": "stream",
          "name": "stdout",
          "text": [
            "What is your score? bag\n",
            "Invalid\n"
          ]
        }
      ]
    },
    {
      "cell_type": "code",
      "source": [
        "score  = int(input(\"What is your score? \"))\n",
        "if score >= 70 and score <= 100:\n",
        "    print(\"Your Grade is A\")\n",
        "elif score >= 60 and score <= 69:\n",
        "    print(\"Your Grade is B\")\n",
        "elif score >= 50 and score <= 59:\n",
        "    print(\"Your Grade is C\")\n",
        "elif score >= 45 and score <= 49:\n",
        "    print(\"Your Grade is D\")\n",
        "elif score >= 40 and score <= 44:\n",
        "    print(\"Your Grade is E\")\n",
        "elif score <= 39:\n",
        "    print(\"Your Grade is F\")\n",
        "else:\n",
        "  print('Enter numerical value between 1 and 100')"
      ],
      "metadata": {
        "colab": {
          "base_uri": "https://localhost:8080/"
        },
        "id": "YuFAyxCEHLqG",
        "outputId": "1479d759-e94b-4df2-e058-66c09174cd49"
      },
      "execution_count": 12,
      "outputs": [
        {
          "output_type": "stream",
          "name": "stdout",
          "text": [
            "What is your score? -1000000\n",
            "Your Grade is F\n"
          ]
        }
      ]
    },
    {
      "cell_type": "markdown",
      "source": [
        "## 2. Food Menu\n",
        "\n",
        "Write a python program that asks for customer's choice of food and tells if the food is available or not\n",
        "\n",
        "\n",
        "Hint: first create a menu list that contains all available foods, \n",
        "then loop through the list to check if the choice is available or not.\n",
        "\n",
        "If available, tell the customer (You've made a good choice, your order will be ready soon). \n",
        "If not available, tell the customer (Sorry, we do not have this for now. We hope to serve you next time)"
      ],
      "metadata": {
        "id": "nqlgPvsRSO8U"
      }
    },
    {
      "cell_type": "code",
      "source": [
        "food_list = ['eba', 'beans', 'rice', 'couscous', 'pizza', 'salad', 'coffe', 'oatmeal']\n",
        "\n",
        "choice = input(\"Welcome to Sherry Delight Kitchen, \\nwhat would you like to have? \")\n",
        "choice = choice.lower()\n",
        "\n",
        "if choice in food_list:\n",
        "  print(\"You've made a good choice. \\nYour order will be ready soon!\")\n",
        "else:\n",
        "  print('Sorry!, we do not have this for now. \\nWe hope to get you covered next time.')"
      ],
      "metadata": {
        "id": "Mc89CR1kT2Ma",
        "colab": {
          "base_uri": "https://localhost:8080/"
        },
        "outputId": "89022f4b-15e7-4572-86e9-427d83c6b3d7"
      },
      "execution_count": 19,
      "outputs": [
        {
          "output_type": "stream",
          "name": "stdout",
          "text": [
            "Welcome to Sherry Delight Kitchen, \n",
            "what would you like to have? rICE\n",
            "You've made a good choice. \n",
            "Your order will be ready soon!\n"
          ]
        }
      ]
    }
  ],
  "metadata": {
    "kernelspec": {
      "display_name": "Python 3",
      "language": "python",
      "name": "python3"
    },
    "language_info": {
      "codemirror_mode": {
        "name": "ipython",
        "version": 3
      },
      "file_extension": ".py",
      "mimetype": "text/x-python",
      "name": "python",
      "nbconvert_exporter": "python",
      "pygments_lexer": "ipython3",
      "version": "3.7.4"
    },
    "colab": {
      "name": " Task 2 Solution.ipynb",
      "provenance": [],
      "collapsed_sections": [],
      "include_colab_link": true
    }
  },
  "nbformat": 4,
  "nbformat_minor": 0
}