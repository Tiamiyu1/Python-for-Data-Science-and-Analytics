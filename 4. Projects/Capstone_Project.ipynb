{
  "nbformat": 4,
  "nbformat_minor": 0,
  "metadata": {
    "colab": {
      "name": "Capstone Project.ipynb",
      "provenance": [],
      "collapsed_sections": [],
      "authorship_tag": "ABX9TyON1ve9EmY+UOc8S7umJWWH",
      "include_colab_link": true
    },
    "kernelspec": {
      "name": "python3",
      "display_name": "Python 3"
    },
    "language_info": {
      "name": "python"
    }
  },
  "cells": [
    {
      "cell_type": "markdown",
      "metadata": {
        "id": "view-in-github",
        "colab_type": "text"
      },
      "source": [
        "<a href=\"https://colab.research.google.com/github/Tiamiyu1/Python-for-Data-Science-and-Analytics/blob/main/Projects/Capstone_Project.ipynb\" target=\"_parent\"><img src=\"https://colab.research.google.com/assets/colab-badge.svg\" alt=\"Open In Colab\"/></a>"
      ]
    },
    {
      "cell_type": "markdown",
      "source": [
        "# Capstone Project\n",
        "\n",
        "Reg_no: DS000\n",
        "\n",
        "\n",
        "It's important that you fill in your registration number for proper documentation."
      ],
      "metadata": {
        "id": "AivCAUblPJea"
      }
    },
    {
      "cell_type": "markdown",
      "source": [
        "**You will be working on the supermarket data for your capstone project.**\n",
        "\n",
        "As a Junior Data Scientist, you have been consulted by the supermarket's manager to provide asnwers to some questions regarding the supermarket outlets in different location.\n",
        "\n",
        "Provide the answers and well labelled plots (where applicable) for the manager as well as your general observations and recommendations.\n",
        "\n",
        "[Link to data set](https://raw.githubusercontent.com/Tiamiyu1/Python-for-Data-Science-and-Analytics/main/Data/supermarket_data.csv)\n",
        "\n",
        "\n",
        "\n",
        "You can copy and paste the link directly into pd.read_csv('')"
      ],
      "metadata": {
        "id": "54ZwhssBPjKW"
      }
    },
    {
      "cell_type": "markdown",
      "source": [
        "## Instructions"
      ],
      "metadata": {
        "id": "YaPPx3_EYsVo"
      }
    },
    {
      "cell_type": "markdown",
      "source": [
        "**This project is open ended in the sense that there is no limit to the analyses you can do, but here are few steps to get you started.**"
      ],
      "metadata": {
        "id": "sZzSTxMWRX3t"
      }
    },
    {
      "cell_type": "markdown",
      "source": [
        "# Outline\n",
        "\n",
        "1. Import the required libraries\n",
        "2. Load your dataset\n",
        "3. Describe your dataset (info, describe, head) and write out your obsevations\n",
        "4. Check for missing values\n",
        "5. Check for unique values and value counts for categorical variables\n",
        "6. You can rename the columns if you wish\n",
        "\n",
        "## Possible Questions (Give well labelled visualizations where applicable to give your analysis a beautiful interpretation).\n",
        "\n",
        "## Write out your observations for each of the answers.\n",
        "\n",
        "## Provide a general conclusion and recommendation based on your analysis.\n",
        "\n",
        "- Which City has the highest customers?\n",
        "- Which gender has the highest count in each of the Cities/Stores?\n",
        "- What product has the highest sales?\n",
        "- What product was bought most male?\n",
        "- What product was bought most female?\n",
        "- Which product has the highest average rating?\n",
        "- Who gives the highest average rating, male or female?\n",
        "- Which customer type dominate each city/store?\n",
        "- What month of the year has the highest sales?\n",
        "- What month of the year has the highest gross income?\n",
        "- Who spend most on average, male or female?\n",
        "- Which hour of the day has the highest sales?\n",
        "- What is the min quantity ever purchased?\n",
        "- What payment method is used most by each gender?\n",
        "- What payment method is used most by each customer type?\n",
        "- What is the average rating for each of the stores/cities?\n",
        "- What is the average rating for each of the product lines?\n",
        "- You can answer many more questions of your own...\n",
        "\n",
        "**PS: Most of this questions can be visualized with the hue parameter.**\n"
      ],
      "metadata": {
        "id": "zsRvw8xiYrax"
      }
    },
    {
      "cell_type": "markdown",
      "source": [
        "## Submission\n",
        "\n",
        "Put your notebook in a folder called **capstone project** and upload the folder to the python for data science repository. Then, submit the link."
      ],
      "metadata": {
        "id": "bNPXtQVUYrNu"
      }
    },
    {
      "cell_type": "code",
      "source": [
        ""
      ],
      "metadata": {
        "id": "y78Wek7hdePK"
      },
      "execution_count": null,
      "outputs": []
    }
  ]
}