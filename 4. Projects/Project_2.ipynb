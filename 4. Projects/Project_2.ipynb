{
  "nbformat": 4,
  "nbformat_minor": 0,
  "metadata": {
    "colab": {
      "name": "Project 2.ipynb",
      "provenance": [],
      "authorship_tag": "ABX9TyOBlzsTS4s81vKHF0x0BOuZ",
      "include_colab_link": true
    },
    "kernelspec": {
      "name": "python3",
      "display_name": "Python 3"
    },
    "language_info": {
      "name": "python"
    }
  },
  "cells": [
    {
      "cell_type": "markdown",
      "metadata": {
        "id": "view-in-github",
        "colab_type": "text"
      },
      "source": [
        "<a href=\"https://colab.research.google.com/github/Tiamiyu1/Python-for-Data-Science-and-Analytics/blob/main/Projects/Project_2.ipynb\" target=\"_parent\"><img src=\"https://colab.research.google.com/assets/colab-badge.svg\" alt=\"Open In Colab\"/></a>"
      ]
    },
    {
      "cell_type": "markdown",
      "source": [
        "# Project 2\n",
        "\n",
        "## Reg_no: DS000\n",
        "\n",
        "It's important that you fill in your registration number for proper documentation."
      ],
      "metadata": {
        "id": "sQsX9MnI5KXt"
      }
    },
    {
      "cell_type": "markdown",
      "source": [
        " **This is a dataset on weekly sales of different grocery stores. \n",
        "Use what you've learned to answer the following questions.**"
      ],
      "metadata": {
        "id": "EExNBg6XGAm-"
      }
    },
    {
      "cell_type": "markdown",
      "source": [
        "[Link to data set](https://raw.githubusercontent.com/Tiamiyu1/Python-for-Data-Science-and-Analytics/main/Data/store_data.csv)\n",
        "\n",
        "\n",
        "\n",
        "You can copy and paste the link directly into pd.read_csv('')"
      ],
      "metadata": {
        "id": "A0zToBXRI8qk"
      }
    },
    {
      "cell_type": "markdown",
      "source": [
        "## Given store sales data, use Python to draw conclusions about how these stores are performing."
      ],
      "metadata": {
        "id": "ePW9JKSdJRy5"
      }
    },
    {
      "cell_type": "code",
      "source": [
        "# imports libraries and load data\n",
        "\n"
      ],
      "metadata": {
        "id": "jLBF_xIDKSL_"
      },
      "execution_count": null,
      "outputs": []
    },
    {
      "cell_type": "markdown",
      "source": [
        "### 1. Which store has the highest total sales for the final month of data?"
      ],
      "metadata": {
        "id": "9kOoq_YjKW6l"
      }
    },
    {
      "cell_type": "code",
      "source": [
        "# code here \n",
        "\n",
        "# Write your answer below as text"
      ],
      "metadata": {
        "id": "s99bh9GTKiTf"
      },
      "execution_count": null,
      "outputs": []
    },
    {
      "cell_type": "markdown",
      "source": [
        "E.g. store X has the highest total sales for the final month of data"
      ],
      "metadata": {
        "id": "fkACIJ0gLZL3"
      }
    },
    {
      "cell_type": "code",
      "source": [
        "# provide a visualization for your answer"
      ],
      "metadata": {
        "id": "ChLtFci6Kkqt"
      },
      "execution_count": null,
      "outputs": []
    },
    {
      "cell_type": "code",
      "source": [
        ""
      ],
      "metadata": {
        "id": "B762xl3wKvTK"
      },
      "execution_count": null,
      "outputs": []
    },
    {
      "cell_type": "markdown",
      "source": [
        "### 2. Which store makes the most sales on average?"
      ],
      "metadata": {
        "id": "jlQTN6AoKvpT"
      }
    },
    {
      "cell_type": "code",
      "source": [
        "# code here \n",
        "\n",
        "# Write your answer below as text"
      ],
      "metadata": {
        "id": "f0vUDjbvKvpV"
      },
      "execution_count": null,
      "outputs": []
    },
    {
      "cell_type": "code",
      "source": [
        "# provide a visualization for your answer"
      ],
      "metadata": {
        "id": "KOjHqEjPKvpY"
      },
      "execution_count": null,
      "outputs": []
    },
    {
      "cell_type": "code",
      "source": [
        ""
      ],
      "metadata": {
        "id": "kL04siVwK19n"
      },
      "execution_count": null,
      "outputs": []
    },
    {
      "cell_type": "markdown",
      "source": [
        "### 3. Which store sells the most during the week of March 13th, 2016?"
      ],
      "metadata": {
        "id": "409o8RrtK5XP"
      }
    },
    {
      "cell_type": "code",
      "source": [
        "# code here df[df['week'] =='2016-03-13']\n",
        "\n",
        "# Write your answer below as text"
      ],
      "metadata": {
        "id": "hAvgjW2sK5XR"
      },
      "execution_count": null,
      "outputs": []
    },
    {
      "cell_type": "code",
      "source": [
        "# provide a visualization for your answer"
      ],
      "metadata": {
        "id": "LYr4g9eGK5XS"
      },
      "execution_count": null,
      "outputs": []
    },
    {
      "cell_type": "code",
      "source": [
        ""
      ],
      "metadata": {
        "id": "ML0PB5DmK8qA"
      },
      "execution_count": null,
      "outputs": []
    },
    {
      "cell_type": "markdown",
      "source": [
        "### 4. In what week does store C make its worst sales?"
      ],
      "metadata": {
        "id": "BYhUrYkaK9np"
      }
    },
    {
      "cell_type": "code",
      "source": [
        "# code here \n",
        "\n",
        "# Write your answer below as text"
      ],
      "metadata": {
        "id": "zFIN5gEGK9nq"
      },
      "execution_count": null,
      "outputs": []
    },
    {
      "cell_type": "code",
      "source": [
        "# provide a visualization for your answer"
      ],
      "metadata": {
        "id": "qOF34JX7K9nr"
      },
      "execution_count": null,
      "outputs": []
    },
    {
      "cell_type": "code",
      "source": [
        ""
      ],
      "metadata": {
        "id": "haUZNuYoK-G_"
      },
      "execution_count": null,
      "outputs": []
    },
    {
      "cell_type": "markdown",
      "source": [
        "### 5. Which store has the most sales in the latest 3-month period?"
      ],
      "metadata": {
        "id": "8Pq9fZUdK-SD"
      }
    },
    {
      "cell_type": "code",
      "source": [
        "# code here \n",
        "\n",
        "# Write your answer below as text"
      ],
      "metadata": {
        "id": "ZZ3wnau0K-SF"
      },
      "execution_count": null,
      "outputs": []
    },
    {
      "cell_type": "code",
      "source": [
        "# provide a visualization for your answer"
      ],
      "metadata": {
        "id": "spqWShxwK-SG"
      },
      "execution_count": null,
      "outputs": []
    },
    {
      "cell_type": "code",
      "source": [
        ""
      ],
      "metadata": {
        "id": "OfwWPo3jK-hA"
      },
      "execution_count": null,
      "outputs": []
    }
  ]
}