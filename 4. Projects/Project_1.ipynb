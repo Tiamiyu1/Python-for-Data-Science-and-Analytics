{
  "nbformat": 4,
  "nbformat_minor": 0,
  "metadata": {
    "colab": {
      "name": "Project 1.ipynb",
      "provenance": [],
      "collapsed_sections": [],
      "authorship_tag": "ABX9TyOn23+qsrgPpXUhxRcz/zDS",
      "include_colab_link": true
    },
    "kernelspec": {
      "name": "python3",
      "display_name": "Python 3"
    },
    "language_info": {
      "name": "python"
    }
  },
  "cells": [
    {
      "cell_type": "markdown",
      "metadata": {
        "id": "view-in-github",
        "colab_type": "text"
      },
      "source": [
        "<a href=\"https://colab.research.google.com/github/Tiamiyu1/Python-for-Data-Science-and-Analytics/blob/main/Projects/Project_1.ipynb\" target=\"_parent\"><img src=\"https://colab.research.google.com/assets/colab-badge.svg\" alt=\"Open In Colab\"/></a>"
      ]
    },
    {
      "cell_type": "markdown",
      "source": [
        "# Project 1\n",
        "\n",
        "## Reg_no: DS000"
      ],
      "metadata": {
        "id": "nGO3Ur9iAIm0"
      }
    },
    {
      "cell_type": "markdown",
      "source": [
        "It's important that you fill in your registration number for proper documentation."
      ],
      "metadata": {
        "id": "CSVqJgaZA3UI"
      }
    },
    {
      "cell_type": "markdown",
      "source": [
        "In this project you will be creating your own data set from scratch.\n",
        "\n",
        "Follow the instructions below"
      ],
      "metadata": {
        "id": "xlLISCys_Q7f"
      }
    },
    {
      "cell_type": "markdown",
      "source": [
        "## Import numpy and pandas"
      ],
      "metadata": {
        "id": "zmU6_PD5BTIR"
      }
    },
    {
      "cell_type": "code",
      "source": [
        "# Complete this\n",
        "import nump... \n",
        "import pan..."
      ],
      "metadata": {
        "id": "hWbGgV5rBYLR"
      },
      "execution_count": 12,
      "outputs": []
    },
    {
      "cell_type": "markdown",
      "source": [
        "### Create  a dictionary (named student) of 10 students with name, relationship status, age and department columns"
      ],
      "metadata": {
        "id": "BcudwDK4-kpd"
      }
    },
    {
      "cell_type": "code",
      "source": [
        "student = {'name':[],\n",
        "           'relationship':[],\n",
        "           'age':[]\n",
        "           'department':[]}\n",
        "\n",
        "# 10 values in each of the square brackets"
      ],
      "metadata": {
        "id": "XxEsa7gNBphZ"
      },
      "execution_count": null,
      "outputs": []
    },
    {
      "cell_type": "markdown",
      "source": [
        "### Add cgpa to the dictionary "
      ],
      "metadata": {
        "id": "HX23D_Sb9rRT"
      }
    },
    {
      "cell_type": "code",
      "source": [
        "student['cgpa'] = [] # 10 values for the students' cgpa"
      ],
      "metadata": {
        "id": "TOtLTr73Atj3"
      },
      "execution_count": null,
      "outputs": []
    },
    {
      "cell_type": "markdown",
      "source": [
        "### Remove relationship status from the dictionary"
      ],
      "metadata": {
        "id": "MEWiJ5s3-vYN"
      }
    },
    {
      "cell_type": "code",
      "source": [
        "student.pop()  # fill in the key  you want to remove"
      ],
      "metadata": {
        "id": "J8r6HT8oB4as"
      },
      "execution_count": null,
      "outputs": []
    },
    {
      "cell_type": "markdown",
      "source": [
        "## Convert the dictionary to a dataframe(df)"
      ],
      "metadata": {
        "id": "SVxpIt3o-yTv"
      }
    },
    {
      "cell_type": "code",
      "source": [
        "df = pd.DataFra...    # complete this"
      ],
      "metadata": {
        "id": "Zhu_W-axCPS1"
      },
      "execution_count": null,
      "outputs": []
    },
    {
      "cell_type": "markdown",
      "source": [
        "## Add admission_date (year, month and day)and gender columns to the dataframe\n"
      ],
      "metadata": {
        "id": "TMnxb-nk-9Vy"
      }
    },
    {
      "cell_type": "code",
      "source": [
        "df['admission_date'] = #complete the code\n",
        "df['gender'] = \n"
      ],
      "metadata": {
        "id": "Xo3wLmlpCWYk"
      },
      "execution_count": null,
      "outputs": []
    },
    {
      "cell_type": "markdown",
      "source": [
        "# Check the dataframe\n",
        "\n",
        "\n"
      ],
      "metadata": {
        "id": "wkqvFcAL_BHF"
      }
    },
    {
      "cell_type": "code",
      "source": [
        "df"
      ],
      "metadata": {
        "id": "Q8OluagoCmJk"
      },
      "execution_count": null,
      "outputs": []
    },
    {
      "cell_type": "markdown",
      "source": [
        "### Create the same dataframe (df2) with all the columns (name,  age, department, admission_date and gender) from a list instead of a dictionary.\n"
      ],
      "metadata": {
        "id": "wiMjl8Dx_Fb7"
      }
    },
    {
      "cell_type": "code",
      "source": [
        "## Check the dataframe\n",
        "df2"
      ],
      "metadata": {
        "id": "1mdRG0GVCubT"
      },
      "execution_count": null,
      "outputs": []
    },
    {
      "cell_type": "markdown",
      "source": [
        "## Work on the first dataframe(df) from here on"
      ],
      "metadata": {
        "id": "2mGijy6M_qdQ"
      }
    },
    {
      "cell_type": "markdown",
      "source": [
        "### Convert df admission_date column to datetime\n",
        "\n",
        "\n",
        " first import datetime as dt\n",
        "\n",
        "\n",
        "\n",
        "Extract the year, month and day as separate columns within the dataset"
      ],
      "metadata": {
        "id": "MrAgX-UM_HXT"
      }
    },
    {
      "cell_type": "code",
      "source": [
        "df['admission_date'] = pd.to_datetime  # convert the date to datetime object\n",
        "df['year'] = df['admission_date'].dt.year\n",
        "# Complete the code and do the same for month and day"
      ],
      "metadata": {
        "id": "iv23O91TC5jc"
      },
      "execution_count": null,
      "outputs": []
    },
    {
      "cell_type": "code",
      "source": [
        "# Check for data types of all columns\n",
        "# Check for missing values\n",
        "# Check for percentage of  missing values\n"
      ],
      "metadata": {
        "id": "r-yzmTL9Drp8"
      },
      "execution_count": null,
      "outputs": []
    },
    {
      "cell_type": "code",
      "source": [
        "# Check unique values in each of the columns\n",
        "# Check number of unique values in each of the columns\n",
        "# Check value counts for each of the columns"
      ],
      "metadata": {
        "id": "hn99VRNn_16o"
      },
      "execution_count": 10,
      "outputs": []
    },
    {
      "cell_type": "code",
      "source": [
        "# df.info()\n",
        "# df.describe()\n"
      ],
      "metadata": {
        "id": "gJozSZyOAE4I"
      },
      "execution_count": 15,
      "outputs": []
    },
    {
      "cell_type": "code",
      "source": [
        "# How many rows and columns do you have? show it with df.shape"
      ],
      "metadata": {
        "id": "8Nts3QA4D6qb"
      },
      "execution_count": 16,
      "outputs": []
    },
    {
      "cell_type": "code",
      "source": [
        "# Subset the dataframe for male gender\n",
        "df.query('....==male') # complete the code"
      ],
      "metadata": {
        "id": "0QrErZ0BEB2H"
      },
      "execution_count": null,
      "outputs": []
    },
    {
      "cell_type": "code",
      "source": [
        "# Find the mean,max, min, sum CGPA"
      ],
      "metadata": {
        "id": "pshwvoc7EXU1"
      },
      "execution_count": 17,
      "outputs": []
    },
    {
      "cell_type": "code",
      "source": [
        "df['cgpa'].mean() #.max(), .min(), .sum()"
      ],
      "metadata": {
        "id": "YXDDh1EPEbi-"
      },
      "execution_count": null,
      "outputs": []
    },
    {
      "cell_type": "code",
      "source": [
        "# Check your df to be sure that you have all the rows and columns\n",
        "df\n",
        "# write your data frame to a csv file\n",
        "df.to_csv('..')   # complete the code # remeber to set index parameter to False\n",
        "# Download the csv file"
      ],
      "metadata": {
        "id": "sEcyjUZSEo-7"
      },
      "execution_count": null,
      "outputs": []
    },
    {
      "cell_type": "markdown",
      "source": [
        "### Submission\n",
        "Create a folder on your desktop and name it Project 1\n",
        "\n",
        "Move your notebook and the csv you downloaded to the folder\n",
        "\n",
        "Create a github account if you haven't\n",
        "\n",
        "Create a repository for the class and name it Python for Data Science (click on the + sign by the top right corner)\n",
        "\n",
        "Click upload an existing file \n",
        "\n",
        "Drag the Project 1 folder containing your code and the csv file into the Drag here field (Do not click on choose your files)\n",
        "\n",
        "Click on the repository name to go the repository home page\n",
        "\n",
        "Click on the address bar to copy the repository link\n",
        "\n",
        "Submit the link privately to me"
      ],
      "metadata": {
        "id": "lOJWZXDqE9B1"
      }
    },
    {
      "cell_type": "code",
      "source": [
        ""
      ],
      "metadata": {
        "id": "y8uUorTMHv2f"
      },
      "execution_count": null,
      "outputs": []
    }
  ]
}